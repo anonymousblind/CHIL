{
 "cells": [
  {
   "cell_type": "code",
   "execution_count": 1,
   "metadata": {},
   "outputs": [],
   "source": [
    "import pandas as pd\n",
    "import os\n",
    "import numpy"
   ]
  },
  {
   "cell_type": "code",
   "execution_count": 2,
   "metadata": {},
   "outputs": [],
   "source": [
    "condM=pd.read_csv('cndMpad.csv',header=0)"
   ]
  },
  {
   "cell_type": "code",
   "execution_count": 3,
   "metadata": {},
   "outputs": [
    {
     "data": {
      "text/plain": [
       "(470954, 15)"
      ]
     },
     "execution_count": 3,
     "metadata": {},
     "output_type": "execute_result"
    }
   ],
   "source": [
    "condM.shape"
   ]
  },
  {
   "cell_type": "code",
   "execution_count": 6,
   "metadata": {},
   "outputs": [],
   "source": [
    "###########get age column#############"
   ]
  },
  {
   "cell_type": "code",
   "execution_count": 7,
   "metadata": {},
   "outputs": [],
   "source": [
    "condM['visit_occurrence_id'] = condM['visit_occurrence_id'].astype('int64')"
   ]
  },
  {
   "cell_type": "code",
   "execution_count": 8,
   "metadata": {},
   "outputs": [],
   "source": [
    "condAge=pd.read_csv('condM.csv',header=0)"
   ]
  },
  {
   "cell_type": "code",
   "execution_count": 9,
   "metadata": {},
   "outputs": [],
   "source": [
    "condAge=condAge[['person_id','visit_occurrence_id','age']]"
   ]
  },
  {
   "cell_type": "code",
   "execution_count": 10,
   "metadata": {},
   "outputs": [],
   "source": [
    "condAge['visit_occurrence_id'] = condAge['visit_occurrence_id'].astype('int64')"
   ]
  },
  {
   "cell_type": "code",
   "execution_count": 11,
   "metadata": {},
   "outputs": [
    {
     "data": {
      "text/html": [
       "<div>\n",
       "<style scoped>\n",
       "    .dataframe tbody tr th:only-of-type {\n",
       "        vertical-align: middle;\n",
       "    }\n",
       "\n",
       "    .dataframe tbody tr th {\n",
       "        vertical-align: top;\n",
       "    }\n",
       "\n",
       "    .dataframe thead th {\n",
       "        text-align: right;\n",
       "    }\n",
       "</style>\n",
       "<table border=\"1\" class=\"dataframe\">\n",
       "  <thead>\n",
       "    <tr style=\"text-align: right;\">\n",
       "      <th></th>\n",
       "      <th>person_id</th>\n",
       "      <th>visit_occurrence_id</th>\n",
       "      <th>age</th>\n",
       "    </tr>\n",
       "  </thead>\n",
       "  <tbody>\n",
       "    <tr>\n",
       "      <th>0</th>\n",
       "      <td>1497223</td>\n",
       "      <td>46000000030408608</td>\n",
       "      <td>81.362269</td>\n",
       "    </tr>\n",
       "    <tr>\n",
       "      <th>1</th>\n",
       "      <td>1476700</td>\n",
       "      <td>11000000031420778</td>\n",
       "      <td>65.187122</td>\n",
       "    </tr>\n",
       "    <tr>\n",
       "      <th>2</th>\n",
       "      <td>1497223</td>\n",
       "      <td>46000000030408640</td>\n",
       "      <td>81.487616</td>\n",
       "    </tr>\n",
       "    <tr>\n",
       "      <th>3</th>\n",
       "      <td>1497223</td>\n",
       "      <td>46000000030408696</td>\n",
       "      <td>82.634693</td>\n",
       "    </tr>\n",
       "    <tr>\n",
       "      <th>4</th>\n",
       "      <td>1497223</td>\n",
       "      <td>46000000030408608</td>\n",
       "      <td>81.362269</td>\n",
       "    </tr>\n",
       "  </tbody>\n",
       "</table>\n",
       "</div>"
      ],
      "text/plain": [
       "   person_id  visit_occurrence_id        age\n",
       "0    1497223    46000000030408608  81.362269\n",
       "1    1476700    11000000031420778  65.187122\n",
       "2    1497223    46000000030408640  81.487616\n",
       "3    1497223    46000000030408696  82.634693\n",
       "4    1497223    46000000030408608  81.362269"
      ]
     },
     "execution_count": 11,
     "metadata": {},
     "output_type": "execute_result"
    }
   ],
   "source": [
    "condAge.head()"
   ]
  },
  {
   "cell_type": "code",
   "execution_count": 12,
   "metadata": {},
   "outputs": [],
   "source": [
    "condAge=condAge[condAge['visit_occurrence_id'].isin(list(condM['visit_occurrence_id'].unique()))]"
   ]
  },
  {
   "cell_type": "code",
   "execution_count": 13,
   "metadata": {},
   "outputs": [],
   "source": [
    "condAge=condAge.groupby(['person_id','visit_occurrence_id','age']).count().reset_index()"
   ]
  },
  {
   "cell_type": "code",
   "execution_count": 14,
   "metadata": {},
   "outputs": [
    {
     "data": {
      "text/plain": [
       "(470954, 664)"
      ]
     },
     "execution_count": 14,
     "metadata": {},
     "output_type": "execute_result"
    }
   ],
   "source": [
    "condM.shape"
   ]
  },
  {
   "cell_type": "code",
   "execution_count": 15,
   "metadata": {},
   "outputs": [],
   "source": [
    "condM=pd.merge(condM,condAge,how='left',on=['person_id','visit_occurrence_id'])"
   ]
  },
  {
   "cell_type": "code",
   "execution_count": 16,
   "metadata": {},
   "outputs": [
    {
     "data": {
      "text/plain": [
       "(470954, 665)"
      ]
     },
     "execution_count": 16,
     "metadata": {},
     "output_type": "execute_result"
    }
   ],
   "source": [
    "condM.shape"
   ]
  },
  {
   "cell_type": "code",
   "execution_count": 17,
   "metadata": {},
   "outputs": [],
   "source": [
    "condM.to_csv('condFpad.csv',index=False)"
   ]
  },
  {
   "cell_type": "code",
   "execution_count": 18,
   "metadata": {},
   "outputs": [
    {
     "data": {
      "text/html": [
       "<div>\n",
       "<style scoped>\n",
       "    .dataframe tbody tr th:only-of-type {\n",
       "        vertical-align: middle;\n",
       "    }\n",
       "\n",
       "    .dataframe tbody tr th {\n",
       "        vertical-align: top;\n",
       "    }\n",
       "\n",
       "    .dataframe thead th {\n",
       "        text-align: right;\n",
       "    }\n",
       "</style>\n",
       "<table border=\"1\" class=\"dataframe\">\n",
       "  <thead>\n",
       "    <tr style=\"text-align: right;\">\n",
       "      <th></th>\n",
       "      <th>person_id</th>\n",
       "      <th>visit_occurrence_id</th>\n",
       "      <th>Abnormal blood cell count</th>\n",
       "      <th>Abnormal finding on evaluation procedure</th>\n",
       "      <th>Abnormality of abdominal aorta</th>\n",
       "      <th>Abnormality of forces of labor</th>\n",
       "      <th>Abnormality of surgical wound</th>\n",
       "      <th>Abscess of limb</th>\n",
       "      <th>Absence of sensation</th>\n",
       "      <th>Acariasis</th>\n",
       "      <th>...</th>\n",
       "      <th>Viral infection by site</th>\n",
       "      <th>Viscus structure finding</th>\n",
       "      <th>Visual system disorder</th>\n",
       "      <th>Vital signs finding</th>\n",
       "      <th>Voice finding</th>\n",
       "      <th>Weight finding</th>\n",
       "      <th>White blood cell count abnormal</th>\n",
       "      <th>Wound</th>\n",
       "      <th>Wound finding</th>\n",
       "      <th>age</th>\n",
       "    </tr>\n",
       "  </thead>\n",
       "  <tbody>\n",
       "    <tr>\n",
       "      <th>0</th>\n",
       "      <td>1000093</td>\n",
       "      <td>25080000095431272</td>\n",
       "      <td>NaN</td>\n",
       "      <td>NaN</td>\n",
       "      <td>NaN</td>\n",
       "      <td>NaN</td>\n",
       "      <td>NaN</td>\n",
       "      <td>NaN</td>\n",
       "      <td>NaN</td>\n",
       "      <td>NaN</td>\n",
       "      <td>...</td>\n",
       "      <td>NaN</td>\n",
       "      <td>NaN</td>\n",
       "      <td>NaN</td>\n",
       "      <td>NaN</td>\n",
       "      <td>NaN</td>\n",
       "      <td>NaN</td>\n",
       "      <td>NaN</td>\n",
       "      <td>NaN</td>\n",
       "      <td>NaN</td>\n",
       "      <td>8.975579</td>\n",
       "    </tr>\n",
       "    <tr>\n",
       "      <th>1</th>\n",
       "      <td>1000093</td>\n",
       "      <td>25080000381622328</td>\n",
       "      <td>NaN</td>\n",
       "      <td>NaN</td>\n",
       "      <td>NaN</td>\n",
       "      <td>NaN</td>\n",
       "      <td>NaN</td>\n",
       "      <td>NaN</td>\n",
       "      <td>NaN</td>\n",
       "      <td>NaN</td>\n",
       "      <td>...</td>\n",
       "      <td>NaN</td>\n",
       "      <td>NaN</td>\n",
       "      <td>NaN</td>\n",
       "      <td>NaN</td>\n",
       "      <td>NaN</td>\n",
       "      <td>NaN</td>\n",
       "      <td>NaN</td>\n",
       "      <td>NaN</td>\n",
       "      <td>NaN</td>\n",
       "      <td>17.400579</td>\n",
       "    </tr>\n",
       "    <tr>\n",
       "      <th>2</th>\n",
       "      <td>1000093</td>\n",
       "      <td>25080000465211908</td>\n",
       "      <td>NaN</td>\n",
       "      <td>NaN</td>\n",
       "      <td>NaN</td>\n",
       "      <td>NaN</td>\n",
       "      <td>NaN</td>\n",
       "      <td>NaN</td>\n",
       "      <td>NaN</td>\n",
       "      <td>NaN</td>\n",
       "      <td>...</td>\n",
       "      <td>NaN</td>\n",
       "      <td>NaN</td>\n",
       "      <td>NaN</td>\n",
       "      <td>NaN</td>\n",
       "      <td>NaN</td>\n",
       "      <td>NaN</td>\n",
       "      <td>NaN</td>\n",
       "      <td>NaN</td>\n",
       "      <td>NaN</td>\n",
       "      <td>14.925579</td>\n",
       "    </tr>\n",
       "    <tr>\n",
       "      <th>3</th>\n",
       "      <td>1000093</td>\n",
       "      <td>25095147473260240</td>\n",
       "      <td>NaN</td>\n",
       "      <td>NaN</td>\n",
       "      <td>NaN</td>\n",
       "      <td>NaN</td>\n",
       "      <td>NaN</td>\n",
       "      <td>NaN</td>\n",
       "      <td>NaN</td>\n",
       "      <td>NaN</td>\n",
       "      <td>...</td>\n",
       "      <td>NaN</td>\n",
       "      <td>NaN</td>\n",
       "      <td>NaN</td>\n",
       "      <td>NaN</td>\n",
       "      <td>NaN</td>\n",
       "      <td>NaN</td>\n",
       "      <td>NaN</td>\n",
       "      <td>NaN</td>\n",
       "      <td>NaN</td>\n",
       "      <td>16.001914</td>\n",
       "    </tr>\n",
       "    <tr>\n",
       "      <th>4</th>\n",
       "      <td>1000093</td>\n",
       "      <td>25095147473260248</td>\n",
       "      <td>NaN</td>\n",
       "      <td>NaN</td>\n",
       "      <td>NaN</td>\n",
       "      <td>NaN</td>\n",
       "      <td>NaN</td>\n",
       "      <td>NaN</td>\n",
       "      <td>NaN</td>\n",
       "      <td>NaN</td>\n",
       "      <td>...</td>\n",
       "      <td>NaN</td>\n",
       "      <td>NaN</td>\n",
       "      <td>NaN</td>\n",
       "      <td>NaN</td>\n",
       "      <td>NaN</td>\n",
       "      <td>NaN</td>\n",
       "      <td>NaN</td>\n",
       "      <td>NaN</td>\n",
       "      <td>NaN</td>\n",
       "      <td>16.010313</td>\n",
       "    </tr>\n",
       "  </tbody>\n",
       "</table>\n",
       "<p>5 rows × 665 columns</p>\n",
       "</div>"
      ],
      "text/plain": [
       "   person_id  visit_occurrence_id  Abnormal blood cell count  \\\n",
       "0    1000093    25080000095431272                        NaN   \n",
       "1    1000093    25080000381622328                        NaN   \n",
       "2    1000093    25080000465211908                        NaN   \n",
       "3    1000093    25095147473260240                        NaN   \n",
       "4    1000093    25095147473260248                        NaN   \n",
       "\n",
       "   Abnormal finding on evaluation procedure  Abnormality of abdominal aorta  \\\n",
       "0                                       NaN                             NaN   \n",
       "1                                       NaN                             NaN   \n",
       "2                                       NaN                             NaN   \n",
       "3                                       NaN                             NaN   \n",
       "4                                       NaN                             NaN   \n",
       "\n",
       "   Abnormality of forces of labor  Abnormality of surgical wound  \\\n",
       "0                             NaN                            NaN   \n",
       "1                             NaN                            NaN   \n",
       "2                             NaN                            NaN   \n",
       "3                             NaN                            NaN   \n",
       "4                             NaN                            NaN   \n",
       "\n",
       "   Abscess of limb  Absence of sensation  Acariasis  ...  \\\n",
       "0              NaN                   NaN        NaN  ...   \n",
       "1              NaN                   NaN        NaN  ...   \n",
       "2              NaN                   NaN        NaN  ...   \n",
       "3              NaN                   NaN        NaN  ...   \n",
       "4              NaN                   NaN        NaN  ...   \n",
       "\n",
       "   Viral infection by site  Viscus structure finding  Visual system disorder  \\\n",
       "0                      NaN                       NaN                     NaN   \n",
       "1                      NaN                       NaN                     NaN   \n",
       "2                      NaN                       NaN                     NaN   \n",
       "3                      NaN                       NaN                     NaN   \n",
       "4                      NaN                       NaN                     NaN   \n",
       "\n",
       "   Vital signs finding  Voice finding  Weight finding  \\\n",
       "0                  NaN            NaN             NaN   \n",
       "1                  NaN            NaN             NaN   \n",
       "2                  NaN            NaN             NaN   \n",
       "3                  NaN            NaN             NaN   \n",
       "4                  NaN            NaN             NaN   \n",
       "\n",
       "   White blood cell count abnormal  Wound  Wound finding        age  \n",
       "0                              NaN    NaN            NaN   8.975579  \n",
       "1                              NaN    NaN            NaN  17.400579  \n",
       "2                              NaN    NaN            NaN  14.925579  \n",
       "3                              NaN    NaN            NaN  16.001914  \n",
       "4                              NaN    NaN            NaN  16.010313  \n",
       "\n",
       "[5 rows x 665 columns]"
      ]
     },
     "execution_count": 18,
     "metadata": {},
     "output_type": "execute_result"
    }
   ],
   "source": [
    "condM.head()"
   ]
  },
  {
   "cell_type": "code",
   "execution_count": 2,
   "metadata": {},
   "outputs": [],
   "source": [
    "###########----Select corresponding rows in meas and drug-------#########"
   ]
  },
  {
   "cell_type": "code",
   "execution_count": 34,
   "metadata": {},
   "outputs": [],
   "source": [
    "condM=pd.read_csv('condMpad.csv',header=0)\n",
    "measM=pd.read_csv('measMpad.csv',header=0)\n",
    "drugM=pd.read_csv('drugMpad.csv',header=0)"
   ]
  },
  {
   "cell_type": "code",
   "execution_count": 40,
   "metadata": {},
   "outputs": [
    {
     "data": {
      "text/plain": [
       "(40564, 665)"
      ]
     },
     "execution_count": 40,
     "metadata": {},
     "output_type": "execute_result"
    }
   ],
   "source": [
    "condM.shape"
   ]
  },
  {
   "cell_type": "code",
   "execution_count": 23,
   "metadata": {},
   "outputs": [
    {
     "data": {
      "text/plain": [
       "(210072, 10)"
      ]
     },
     "execution_count": 23,
     "metadata": {},
     "output_type": "execute_result"
    }
   ],
   "source": [
    "measM.shape"
   ]
  },
  {
   "cell_type": "code",
   "execution_count": 9,
   "metadata": {},
   "outputs": [
    {
     "data": {
      "text/plain": [
       "(121451, 1281)"
      ]
     },
     "execution_count": 9,
     "metadata": {},
     "output_type": "execute_result"
    }
   ],
   "source": [
    "drugM.shape"
   ]
  },
  {
   "cell_type": "code",
   "execution_count": 41,
   "metadata": {},
   "outputs": [
    {
     "data": {
      "text/plain": [
       "1962"
      ]
     },
     "execution_count": 41,
     "metadata": {},
     "output_type": "execute_result"
    }
   ],
   "source": [
    "len(list(condM['person_id'].unique()))"
   ]
  },
  {
   "cell_type": "code",
   "execution_count": 42,
   "metadata": {},
   "outputs": [],
   "source": [
    "condM=condM[['person_id','visit_occurrence_id','age']]"
   ]
  },
  {
   "cell_type": "code",
   "execution_count": 10,
   "metadata": {},
   "outputs": [],
   "source": [
    "condM=condM.sort_values(by=['person_id','visit_occurrence_id'])"
   ]
  },
  {
   "cell_type": "code",
   "execution_count": 26,
   "metadata": {},
   "outputs": [],
   "source": [
    "measM=pd.merge(measM,condM,on=['person_id','visit_occurrence_id'],how='right')"
   ]
  },
  {
   "cell_type": "code",
   "execution_count": 27,
   "metadata": {},
   "outputs": [
    {
     "data": {
      "text/plain": [
       "(470954, 11)"
      ]
     },
     "execution_count": 27,
     "metadata": {},
     "output_type": "execute_result"
    }
   ],
   "source": [
    "measM.shape"
   ]
  },
  {
   "cell_type": "code",
   "execution_count": 43,
   "metadata": {},
   "outputs": [],
   "source": [
    "drugM=pd.merge(drugM,condM,on=['person_id','visit_occurrence_id'],how='right')"
   ]
  },
  {
   "cell_type": "code",
   "execution_count": 44,
   "metadata": {},
   "outputs": [
    {
     "data": {
      "text/plain": [
       "(40564, 1282)"
      ]
     },
     "execution_count": 44,
     "metadata": {},
     "output_type": "execute_result"
    }
   ],
   "source": [
    "drugM.shape"
   ]
  },
  {
   "cell_type": "code",
   "execution_count": 28,
   "metadata": {},
   "outputs": [],
   "source": [
    "measM=measM.fillna(0)"
   ]
  },
  {
   "cell_type": "code",
   "execution_count": 45,
   "metadata": {},
   "outputs": [],
   "source": [
    "drugM=drugM.fillna(0)"
   ]
  },
  {
   "cell_type": "code",
   "execution_count": 29,
   "metadata": {},
   "outputs": [],
   "source": [
    "measM=measM.sort_values(by=['person_id','age'])"
   ]
  },
  {
   "cell_type": "code",
   "execution_count": 46,
   "metadata": {},
   "outputs": [],
   "source": [
    "drugM=drugM.sort_values(by=['person_id','age'])"
   ]
  },
  {
   "cell_type": "code",
   "execution_count": 19,
   "metadata": {},
   "outputs": [],
   "source": [
    "condM=condM.fillna(0)"
   ]
  },
  {
   "cell_type": "code",
   "execution_count": 20,
   "metadata": {},
   "outputs": [],
   "source": [
    "condM=condM.sort_values(by=['person_id','age'])"
   ]
  },
  {
   "cell_type": "code",
   "execution_count": 47,
   "metadata": {},
   "outputs": [
    {
     "data": {
      "text/plain": [
       "1962"
      ]
     },
     "execution_count": 47,
     "metadata": {},
     "output_type": "execute_result"
    }
   ],
   "source": [
    "len(list(drugM['person_id'].unique()))"
   ]
  },
  {
   "cell_type": "code",
   "execution_count": 30,
   "metadata": {},
   "outputs": [
    {
     "data": {
      "text/plain": [
       "23074"
      ]
     },
     "execution_count": 30,
     "metadata": {},
     "output_type": "execute_result"
    }
   ],
   "source": [
    "len(list(measM['person_id'].unique()))"
   ]
  },
  {
   "cell_type": "code",
   "execution_count": 48,
   "metadata": {},
   "outputs": [],
   "source": [
    "drugM.to_csv('drugMval.csv',index=False)"
   ]
  },
  {
   "cell_type": "code",
   "execution_count": 31,
   "metadata": {},
   "outputs": [],
   "source": [
    "measM.to_csv('measMpad.csv',index=False)"
   ]
  },
  {
   "cell_type": "code",
   "execution_count": 21,
   "metadata": {},
   "outputs": [],
   "source": [
    "condM.to_csv('condMpad.csv',index=False)"
   ]
  },
  {
   "cell_type": "code",
   "execution_count": null,
   "metadata": {},
   "outputs": [],
   "source": [
    "#####################----BMI LABELS------#################"
   ]
  },
  {
   "cell_type": "code",
   "execution_count": 32,
   "metadata": {},
   "outputs": [],
   "source": [
    "male=pd.read_csv('Female_BMI.csv',header=0)"
   ]
  },
  {
   "cell_type": "code",
   "execution_count": 33,
   "metadata": {},
   "outputs": [],
   "source": [
    "bmi_df=pd.read_csv('measFpad.csv',header=0)"
   ]
  },
  {
   "cell_type": "code",
   "execution_count": 34,
   "metadata": {},
   "outputs": [
    {
     "data": {
      "text/html": [
       "<div>\n",
       "<style scoped>\n",
       "    .dataframe tbody tr th:only-of-type {\n",
       "        vertical-align: middle;\n",
       "    }\n",
       "\n",
       "    .dataframe tbody tr th {\n",
       "        vertical-align: top;\n",
       "    }\n",
       "\n",
       "    .dataframe thead th {\n",
       "        text-align: right;\n",
       "    }\n",
       "</style>\n",
       "<table border=\"1\" class=\"dataframe\">\n",
       "  <thead>\n",
       "    <tr style=\"text-align: right;\">\n",
       "      <th></th>\n",
       "      <th>person_id</th>\n",
       "      <th>visit_occurrence_id</th>\n",
       "      <th>BMI</th>\n",
       "      <th>BMIPercentile</th>\n",
       "      <th>DBP</th>\n",
       "      <th>Glucose</th>\n",
       "      <th>HeartRate</th>\n",
       "      <th>Height</th>\n",
       "      <th>SBP</th>\n",
       "      <th>Weight</th>\n",
       "      <th>age</th>\n",
       "    </tr>\n",
       "  </thead>\n",
       "  <tbody>\n",
       "    <tr>\n",
       "      <th>0</th>\n",
       "      <td>1000093</td>\n",
       "      <td>2.508000e+16</td>\n",
       "      <td>0.0</td>\n",
       "      <td>0.0</td>\n",
       "      <td>0.0</td>\n",
       "      <td>0.0</td>\n",
       "      <td>0.0</td>\n",
       "      <td>0.0</td>\n",
       "      <td>0.0</td>\n",
       "      <td>0.0</td>\n",
       "      <td>8.975579</td>\n",
       "    </tr>\n",
       "    <tr>\n",
       "      <th>1</th>\n",
       "      <td>1000093</td>\n",
       "      <td>2.508000e+16</td>\n",
       "      <td>0.0</td>\n",
       "      <td>0.0</td>\n",
       "      <td>0.0</td>\n",
       "      <td>0.0</td>\n",
       "      <td>0.0</td>\n",
       "      <td>0.0</td>\n",
       "      <td>0.0</td>\n",
       "      <td>0.0</td>\n",
       "      <td>14.925579</td>\n",
       "    </tr>\n",
       "    <tr>\n",
       "      <th>2</th>\n",
       "      <td>1000093</td>\n",
       "      <td>2.509515e+16</td>\n",
       "      <td>0.0</td>\n",
       "      <td>0.0</td>\n",
       "      <td>0.0</td>\n",
       "      <td>0.0</td>\n",
       "      <td>0.0</td>\n",
       "      <td>0.0</td>\n",
       "      <td>0.0</td>\n",
       "      <td>0.0</td>\n",
       "      <td>16.001914</td>\n",
       "    </tr>\n",
       "    <tr>\n",
       "      <th>3</th>\n",
       "      <td>1000093</td>\n",
       "      <td>2.509515e+16</td>\n",
       "      <td>0.0</td>\n",
       "      <td>0.0</td>\n",
       "      <td>0.0</td>\n",
       "      <td>0.0</td>\n",
       "      <td>0.0</td>\n",
       "      <td>0.0</td>\n",
       "      <td>0.0</td>\n",
       "      <td>0.0</td>\n",
       "      <td>16.010313</td>\n",
       "    </tr>\n",
       "    <tr>\n",
       "      <th>4</th>\n",
       "      <td>1000093</td>\n",
       "      <td>2.508000e+16</td>\n",
       "      <td>0.0</td>\n",
       "      <td>0.0</td>\n",
       "      <td>0.0</td>\n",
       "      <td>0.0</td>\n",
       "      <td>0.0</td>\n",
       "      <td>0.0</td>\n",
       "      <td>0.0</td>\n",
       "      <td>0.0</td>\n",
       "      <td>17.400579</td>\n",
       "    </tr>\n",
       "  </tbody>\n",
       "</table>\n",
       "</div>"
      ],
      "text/plain": [
       "   person_id  visit_occurrence_id  BMI  BMIPercentile  DBP  Glucose  \\\n",
       "0    1000093         2.508000e+16  0.0            0.0  0.0      0.0   \n",
       "1    1000093         2.508000e+16  0.0            0.0  0.0      0.0   \n",
       "2    1000093         2.509515e+16  0.0            0.0  0.0      0.0   \n",
       "3    1000093         2.509515e+16  0.0            0.0  0.0      0.0   \n",
       "4    1000093         2.508000e+16  0.0            0.0  0.0      0.0   \n",
       "\n",
       "   HeartRate  Height  SBP  Weight        age  \n",
       "0        0.0     0.0  0.0     0.0   8.975579  \n",
       "1        0.0     0.0  0.0     0.0  14.925579  \n",
       "2        0.0     0.0  0.0     0.0  16.001914  \n",
       "3        0.0     0.0  0.0     0.0  16.010313  \n",
       "4        0.0     0.0  0.0     0.0  17.400579  "
      ]
     },
     "execution_count": 34,
     "metadata": {},
     "output_type": "execute_result"
    }
   ],
   "source": [
    "bmi_df.head()"
   ]
  },
  {
   "cell_type": "code",
   "execution_count": 35,
   "metadata": {},
   "outputs": [],
   "source": [
    "bmi_df['age']=bmi_df['age']*12"
   ]
  },
  {
   "cell_type": "code",
   "execution_count": 36,
   "metadata": {},
   "outputs": [],
   "source": [
    "bmi_df['underweight']=0\n",
    "bmi_df['normal']=0\n",
    "bmi_df['overweight']=0\n",
    "bmi_df['obese']=0"
   ]
  },
  {
   "cell_type": "code",
   "execution_count": 37,
   "metadata": {},
   "outputs": [],
   "source": [
    "for index, row in male.iterrows():\n",
    "    bmi_df.loc[(bmi_df['age']>=row['Age']) & (bmi_df['age']<row['Age']+1) & (bmi_df['BMI']>0) & (bmi_df['BMI']<row['Underweight']),'underweight']=1\n",
    "    bmi_df.loc[(bmi_df['age']>=row['Age']) & (bmi_df['age']<row['Age']+1) & (bmi_df['BMI']>=row['Underweight']) & (bmi_df['BMI']<row['Normal']),'normal']=1\n",
    "    bmi_df.loc[(bmi_df['age']>=row['Age']) & (bmi_df['age']<row['Age']+1) & (bmi_df['BMI']>=row['Normal']) & (bmi_df['BMI']<row['Obese']),'overweight']=1\n",
    "    bmi_df.loc[(bmi_df['age']>=row['Age']) & (bmi_df['age']<row['Age']+1) & (bmi_df['BMI']>=row['Obese']),'obese']=1"
   ]
  },
  {
   "cell_type": "code",
   "execution_count": 38,
   "metadata": {},
   "outputs": [],
   "source": [
    "#Adult\n",
    "bmi_df.loc[(bmi_df['age']>240) & (bmi_df['BMI']>0) & (bmi_df['BMI']<18.5),'underweight']=1\n",
    "bmi_df.loc[(bmi_df['age']>240) & (bmi_df['BMI']>=18.5) & (bmi_df['BMI']<25.0),'normal']=1\n",
    "bmi_df.loc[(bmi_df['age']>240) & (bmi_df['BMI']>=25.0) & (bmi_df['BMI']<30.0),'overweight']=1\n",
    "bmi_df.loc[(bmi_df['age']>240) & (bmi_df['BMI']>=30.0),'obese']=1"
   ]
  },
  {
   "cell_type": "code",
   "execution_count": 39,
   "metadata": {},
   "outputs": [
    {
     "data": {
      "text/plain": [
       "(470954, 15)"
      ]
     },
     "execution_count": 39,
     "metadata": {},
     "output_type": "execute_result"
    }
   ],
   "source": [
    "bmi_df.shape"
   ]
  },
  {
   "cell_type": "code",
   "execution_count": 40,
   "metadata": {},
   "outputs": [],
   "source": [
    "bmi_df.to_csv('measMpad.csv',index=False)"
   ]
  },
  {
   "cell_type": "code",
   "execution_count": 41,
   "metadata": {},
   "outputs": [
    {
     "data": {
      "text/plain": [
       "(2004, 15)"
      ]
     },
     "execution_count": 41,
     "metadata": {},
     "output_type": "execute_result"
    }
   ],
   "source": [
    "bmi_df[bmi_df['underweight']==1].shape"
   ]
  },
  {
   "cell_type": "code",
   "execution_count": 42,
   "metadata": {},
   "outputs": [
    {
     "data": {
      "text/plain": [
       "(27647, 15)"
      ]
     },
     "execution_count": 42,
     "metadata": {},
     "output_type": "execute_result"
    }
   ],
   "source": [
    "bmi_df[bmi_df['normal']==1].shape"
   ]
  },
  {
   "cell_type": "code",
   "execution_count": 43,
   "metadata": {},
   "outputs": [
    {
     "data": {
      "text/plain": [
       "(30584, 15)"
      ]
     },
     "execution_count": 43,
     "metadata": {},
     "output_type": "execute_result"
    }
   ],
   "source": [
    "bmi_df[bmi_df['overweight']==1].shape"
   ]
  },
  {
   "cell_type": "code",
   "execution_count": 44,
   "metadata": {},
   "outputs": [
    {
     "data": {
      "text/plain": [
       "(56004, 15)"
      ]
     },
     "execution_count": 44,
     "metadata": {},
     "output_type": "execute_result"
    }
   ],
   "source": [
    "bmi_df[bmi_df['obese']==1].shape"
   ]
  },
  {
   "cell_type": "code",
   "execution_count": null,
   "metadata": {},
   "outputs": [],
   "source": [
    "################  P   A     D   ##############"
   ]
  },
  {
   "cell_type": "code",
   "execution_count": 5,
   "metadata": {},
   "outputs": [
    {
     "data": {
      "text/html": [
       "<div>\n",
       "<style scoped>\n",
       "    .dataframe tbody tr th:only-of-type {\n",
       "        vertical-align: middle;\n",
       "    }\n",
       "\n",
       "    .dataframe tbody tr th {\n",
       "        vertical-align: top;\n",
       "    }\n",
       "\n",
       "    .dataframe thead th {\n",
       "        text-align: right;\n",
       "    }\n",
       "</style>\n",
       "<table border=\"1\" class=\"dataframe\">\n",
       "  <thead>\n",
       "    <tr style=\"text-align: right;\">\n",
       "      <th></th>\n",
       "      <th>person_id</th>\n",
       "      <th>visit_occurrence_id</th>\n",
       "      <th>{10 (Prednisone 10 MG Oral Tablet) } Pack</th>\n",
       "      <th>{11 (varenicline 0.5 MG Oral Tablet [Chantix]) / 42 (varenicline 1 MG Oral Tablet [Chantix]) } Pack [Chantix First Month of Therapy]</th>\n",
       "      <th>{21 (Ethinyl Estradiol 0.035 MG / norgestimate 0.25 MG Oral Tablet) / 7 (Inert Ingredients 1 MG Oral Tablet) } Pack</th>\n",
       "      <th>{21 (Methylprednisolone 4 MG Oral Tablet [Medrol]) } Pack [Medrol Dosepak]</th>\n",
       "      <th>{21 (Methylprednisolone 4 MG Oral Tablet) } Pack</th>\n",
       "      <th>{21 (Prednisone 5 MG Oral Tablet) } Pack</th>\n",
       "      <th>{28 (Norethindrone 0.35 MG Oral Tablet) } Pack</th>\n",
       "      <th>{3 (Azithromycin 500 MG Oral Tablet) } Pack</th>\n",
       "      <th>...</th>\n",
       "      <th>Witch Hazel</th>\n",
       "      <th>Witch Hazel 500 MG/ML Medicated Pad</th>\n",
       "      <th>zinc sulfate</th>\n",
       "      <th>Zofran</th>\n",
       "      <th>zoledronic acid</th>\n",
       "      <th>zolpidem</th>\n",
       "      <th>Zostavax</th>\n",
       "      <th>zoster vaccine, live</th>\n",
       "      <th>Zosyn</th>\n",
       "      <th>age</th>\n",
       "    </tr>\n",
       "  </thead>\n",
       "  <tbody>\n",
       "    <tr>\n",
       "      <th>0</th>\n",
       "      <td>1002090</td>\n",
       "      <td>2.509522e+16</td>\n",
       "      <td>0.0</td>\n",
       "      <td>0.0</td>\n",
       "      <td>0.0</td>\n",
       "      <td>0.0</td>\n",
       "      <td>0.0</td>\n",
       "      <td>0.0</td>\n",
       "      <td>0.0</td>\n",
       "      <td>0.0</td>\n",
       "      <td>...</td>\n",
       "      <td>0.0</td>\n",
       "      <td>0.0</td>\n",
       "      <td>0.0</td>\n",
       "      <td>0.0</td>\n",
       "      <td>0.0</td>\n",
       "      <td>0.0</td>\n",
       "      <td>0.0</td>\n",
       "      <td>0.0</td>\n",
       "      <td>0.0</td>\n",
       "      <td>36.917247</td>\n",
       "    </tr>\n",
       "    <tr>\n",
       "      <th>1</th>\n",
       "      <td>1002090</td>\n",
       "      <td>2.508000e+16</td>\n",
       "      <td>0.0</td>\n",
       "      <td>0.0</td>\n",
       "      <td>0.0</td>\n",
       "      <td>0.0</td>\n",
       "      <td>0.0</td>\n",
       "      <td>0.0</td>\n",
       "      <td>0.0</td>\n",
       "      <td>0.0</td>\n",
       "      <td>...</td>\n",
       "      <td>0.0</td>\n",
       "      <td>0.0</td>\n",
       "      <td>0.0</td>\n",
       "      <td>0.0</td>\n",
       "      <td>0.0</td>\n",
       "      <td>0.0</td>\n",
       "      <td>0.0</td>\n",
       "      <td>0.0</td>\n",
       "      <td>0.0</td>\n",
       "      <td>36.997801</td>\n",
       "    </tr>\n",
       "    <tr>\n",
       "      <th>2</th>\n",
       "      <td>1002090</td>\n",
       "      <td>2.508000e+16</td>\n",
       "      <td>0.0</td>\n",
       "      <td>0.0</td>\n",
       "      <td>0.0</td>\n",
       "      <td>0.0</td>\n",
       "      <td>0.0</td>\n",
       "      <td>0.0</td>\n",
       "      <td>0.0</td>\n",
       "      <td>0.0</td>\n",
       "      <td>...</td>\n",
       "      <td>0.0</td>\n",
       "      <td>0.0</td>\n",
       "      <td>0.0</td>\n",
       "      <td>0.0</td>\n",
       "      <td>0.0</td>\n",
       "      <td>0.0</td>\n",
       "      <td>0.0</td>\n",
       "      <td>0.0</td>\n",
       "      <td>0.0</td>\n",
       "      <td>37.047801</td>\n",
       "    </tr>\n",
       "    <tr>\n",
       "      <th>3</th>\n",
       "      <td>1002090</td>\n",
       "      <td>2.509522e+16</td>\n",
       "      <td>0.0</td>\n",
       "      <td>0.0</td>\n",
       "      <td>0.0</td>\n",
       "      <td>0.0</td>\n",
       "      <td>0.0</td>\n",
       "      <td>0.0</td>\n",
       "      <td>0.0</td>\n",
       "      <td>0.0</td>\n",
       "      <td>...</td>\n",
       "      <td>0.0</td>\n",
       "      <td>0.0</td>\n",
       "      <td>0.0</td>\n",
       "      <td>0.0</td>\n",
       "      <td>0.0</td>\n",
       "      <td>0.0</td>\n",
       "      <td>0.0</td>\n",
       "      <td>0.0</td>\n",
       "      <td>0.0</td>\n",
       "      <td>38.373193</td>\n",
       "    </tr>\n",
       "    <tr>\n",
       "      <th>4</th>\n",
       "      <td>1002090</td>\n",
       "      <td>2.508000e+16</td>\n",
       "      <td>0.0</td>\n",
       "      <td>0.0</td>\n",
       "      <td>0.0</td>\n",
       "      <td>0.0</td>\n",
       "      <td>0.0</td>\n",
       "      <td>0.0</td>\n",
       "      <td>0.0</td>\n",
       "      <td>0.0</td>\n",
       "      <td>...</td>\n",
       "      <td>0.0</td>\n",
       "      <td>0.0</td>\n",
       "      <td>0.0</td>\n",
       "      <td>0.0</td>\n",
       "      <td>0.0</td>\n",
       "      <td>0.0</td>\n",
       "      <td>0.0</td>\n",
       "      <td>0.0</td>\n",
       "      <td>0.0</td>\n",
       "      <td>40.342245</td>\n",
       "    </tr>\n",
       "  </tbody>\n",
       "</table>\n",
       "<p>5 rows × 1282 columns</p>\n",
       "</div>"
      ],
      "text/plain": [
       "   person_id  visit_occurrence_id  {10 (Prednisone 10 MG Oral Tablet) } Pack  \\\n",
       "0    1002090         2.509522e+16                                        0.0   \n",
       "1    1002090         2.508000e+16                                        0.0   \n",
       "2    1002090         2.508000e+16                                        0.0   \n",
       "3    1002090         2.509522e+16                                        0.0   \n",
       "4    1002090         2.508000e+16                                        0.0   \n",
       "\n",
       "   {11 (varenicline 0.5 MG Oral Tablet [Chantix]) / 42 (varenicline 1 MG Oral Tablet [Chantix]) } Pack [Chantix First Month of Therapy]  \\\n",
       "0                                                0.0                                                                                      \n",
       "1                                                0.0                                                                                      \n",
       "2                                                0.0                                                                                      \n",
       "3                                                0.0                                                                                      \n",
       "4                                                0.0                                                                                      \n",
       "\n",
       "   {21 (Ethinyl Estradiol 0.035 MG / norgestimate 0.25 MG Oral Tablet) / 7 (Inert Ingredients 1 MG Oral Tablet) } Pack  \\\n",
       "0                                                0.0                                                                     \n",
       "1                                                0.0                                                                     \n",
       "2                                                0.0                                                                     \n",
       "3                                                0.0                                                                     \n",
       "4                                                0.0                                                                     \n",
       "\n",
       "   {21 (Methylprednisolone 4 MG Oral Tablet [Medrol]) } Pack [Medrol Dosepak]  \\\n",
       "0                                                0.0                            \n",
       "1                                                0.0                            \n",
       "2                                                0.0                            \n",
       "3                                                0.0                            \n",
       "4                                                0.0                            \n",
       "\n",
       "   {21 (Methylprednisolone 4 MG Oral Tablet) } Pack  \\\n",
       "0                                               0.0   \n",
       "1                                               0.0   \n",
       "2                                               0.0   \n",
       "3                                               0.0   \n",
       "4                                               0.0   \n",
       "\n",
       "   {21 (Prednisone 5 MG Oral Tablet) } Pack  \\\n",
       "0                                       0.0   \n",
       "1                                       0.0   \n",
       "2                                       0.0   \n",
       "3                                       0.0   \n",
       "4                                       0.0   \n",
       "\n",
       "   {28 (Norethindrone 0.35 MG Oral Tablet) } Pack  \\\n",
       "0                                             0.0   \n",
       "1                                             0.0   \n",
       "2                                             0.0   \n",
       "3                                             0.0   \n",
       "4                                             0.0   \n",
       "\n",
       "   {3 (Azithromycin 500 MG Oral Tablet) } Pack  ...  Witch Hazel  \\\n",
       "0                                          0.0  ...          0.0   \n",
       "1                                          0.0  ...          0.0   \n",
       "2                                          0.0  ...          0.0   \n",
       "3                                          0.0  ...          0.0   \n",
       "4                                          0.0  ...          0.0   \n",
       "\n",
       "   Witch Hazel 500 MG/ML Medicated Pad  zinc sulfate  Zofran  zoledronic acid  \\\n",
       "0                                  0.0           0.0     0.0              0.0   \n",
       "1                                  0.0           0.0     0.0              0.0   \n",
       "2                                  0.0           0.0     0.0              0.0   \n",
       "3                                  0.0           0.0     0.0              0.0   \n",
       "4                                  0.0           0.0     0.0              0.0   \n",
       "\n",
       "   zolpidem  Zostavax  zoster vaccine, live  Zosyn        age  \n",
       "0       0.0       0.0                   0.0    0.0  36.917247  \n",
       "1       0.0       0.0                   0.0    0.0  36.997801  \n",
       "2       0.0       0.0                   0.0    0.0  37.047801  \n",
       "3       0.0       0.0                   0.0    0.0  38.373193  \n",
       "4       0.0       0.0                   0.0    0.0  40.342245  \n",
       "\n",
       "[5 rows x 1282 columns]"
      ]
     },
     "execution_count": 5,
     "metadata": {},
     "output_type": "execute_result"
    }
   ],
   "source": [
    "condM.head()"
   ]
  },
  {
   "cell_type": "code",
   "execution_count": 6,
   "metadata": {},
   "outputs": [],
   "source": [
    "del condM['visit_occurrence_id']"
   ]
  },
  {
   "cell_type": "code",
   "execution_count": 7,
   "metadata": {},
   "outputs": [],
   "source": [
    "condM['age']=condM['age']*12"
   ]
  },
  {
   "cell_type": "code",
   "execution_count": 9,
   "metadata": {},
   "outputs": [
    {
     "data": {
      "text/plain": [
       "(40564, 1281)"
      ]
     },
     "execution_count": 9,
     "metadata": {},
     "output_type": "execute_result"
    }
   ],
   "source": [
    "condM.shape"
   ]
  },
  {
   "cell_type": "code",
   "execution_count": 10,
   "metadata": {},
   "outputs": [],
   "source": [
    "final=pd.DataFrame()"
   ]
  },
  {
   "cell_type": "code",
   "execution_count": 11,
   "metadata": {},
   "outputs": [],
   "source": [
    "def pad(grp,final):\n",
    "    age_min = int(grp['age'].min())\n",
    "    pid=int(grp['person_id'].max())\n",
    "#     print(age_min)\n",
    "#     print(pid)\n",
    "    for i in range(age_min,age_min+120,3):\n",
    "        c1=grp[(grp['age']>=i) & (grp['age']<i+3)]\n",
    "#         print(c1[['person_id','age']])\n",
    "        if(c1.empty):\n",
    "            a = numpy.zeros(shape=(1,c1.shape[1]))\n",
    "            c1 = pd.DataFrame(a, columns=list(c1.columns))\n",
    "            c1['person_id']=pid\n",
    "            c1['age']=i+1.5\n",
    "#             print(\"c1\",c1.shape)\n",
    "        else:\n",
    "            c1=pd.DataFrame(c1.max())\n",
    "            c1=c1.T\n",
    "#             print(\"c1Max\",c1.shape)\n",
    "        if(final.empty):\n",
    "            final=pd.DataFrame(c1)\n",
    "        else:\n",
    "            final=pd.DataFrame(pd.concat([final,c1],axis=0,ignore_index=True))\n",
    "#         print(\"final\",final.shape)\n",
    "    return final"
   ]
  },
  {
   "cell_type": "code",
   "execution_count": 12,
   "metadata": {},
   "outputs": [],
   "source": [
    "final = condM.groupby('person_id').apply(pad,final=final)"
   ]
  },
  {
   "cell_type": "code",
   "execution_count": 13,
   "metadata": {},
   "outputs": [
    {
     "data": {
      "text/html": [
       "<div>\n",
       "<style scoped>\n",
       "    .dataframe tbody tr th:only-of-type {\n",
       "        vertical-align: middle;\n",
       "    }\n",
       "\n",
       "    .dataframe tbody tr th {\n",
       "        vertical-align: top;\n",
       "    }\n",
       "\n",
       "    .dataframe thead th {\n",
       "        text-align: right;\n",
       "    }\n",
       "</style>\n",
       "<table border=\"1\" class=\"dataframe\">\n",
       "  <thead>\n",
       "    <tr style=\"text-align: right;\">\n",
       "      <th></th>\n",
       "      <th></th>\n",
       "      <th>person_id</th>\n",
       "      <th>{10 (Prednisone 10 MG Oral Tablet) } Pack</th>\n",
       "      <th>{11 (varenicline 0.5 MG Oral Tablet [Chantix]) / 42 (varenicline 1 MG Oral Tablet [Chantix]) } Pack [Chantix First Month of Therapy]</th>\n",
       "      <th>{21 (Ethinyl Estradiol 0.035 MG / norgestimate 0.25 MG Oral Tablet) / 7 (Inert Ingredients 1 MG Oral Tablet) } Pack</th>\n",
       "      <th>{21 (Methylprednisolone 4 MG Oral Tablet [Medrol]) } Pack [Medrol Dosepak]</th>\n",
       "      <th>{21 (Methylprednisolone 4 MG Oral Tablet) } Pack</th>\n",
       "      <th>{21 (Prednisone 5 MG Oral Tablet) } Pack</th>\n",
       "      <th>{28 (Norethindrone 0.35 MG Oral Tablet) } Pack</th>\n",
       "      <th>{3 (Azithromycin 500 MG Oral Tablet) } Pack</th>\n",
       "      <th>{48 (Prednisone 10 MG Oral Tablet) } Pack</th>\n",
       "      <th>...</th>\n",
       "      <th>Witch Hazel</th>\n",
       "      <th>Witch Hazel 500 MG/ML Medicated Pad</th>\n",
       "      <th>zinc sulfate</th>\n",
       "      <th>Zofran</th>\n",
       "      <th>zoledronic acid</th>\n",
       "      <th>zolpidem</th>\n",
       "      <th>Zostavax</th>\n",
       "      <th>zoster vaccine, live</th>\n",
       "      <th>Zosyn</th>\n",
       "      <th>age</th>\n",
       "    </tr>\n",
       "    <tr>\n",
       "      <th>person_id</th>\n",
       "      <th></th>\n",
       "      <th></th>\n",
       "      <th></th>\n",
       "      <th></th>\n",
       "      <th></th>\n",
       "      <th></th>\n",
       "      <th></th>\n",
       "      <th></th>\n",
       "      <th></th>\n",
       "      <th></th>\n",
       "      <th></th>\n",
       "      <th></th>\n",
       "      <th></th>\n",
       "      <th></th>\n",
       "      <th></th>\n",
       "      <th></th>\n",
       "      <th></th>\n",
       "      <th></th>\n",
       "      <th></th>\n",
       "      <th></th>\n",
       "      <th></th>\n",
       "      <th></th>\n",
       "    </tr>\n",
       "  </thead>\n",
       "  <tbody>\n",
       "    <tr>\n",
       "      <th rowspan=\"5\" valign=\"top\">1002090</th>\n",
       "      <th>0</th>\n",
       "      <td>1002090.0</td>\n",
       "      <td>0.0</td>\n",
       "      <td>0.0</td>\n",
       "      <td>0.0</td>\n",
       "      <td>0.0</td>\n",
       "      <td>0.0</td>\n",
       "      <td>0.0</td>\n",
       "      <td>0.0</td>\n",
       "      <td>0.0</td>\n",
       "      <td>0.0</td>\n",
       "      <td>...</td>\n",
       "      <td>0.0</td>\n",
       "      <td>0.0</td>\n",
       "      <td>0.0</td>\n",
       "      <td>0.0</td>\n",
       "      <td>0.0</td>\n",
       "      <td>0.0</td>\n",
       "      <td>0.0</td>\n",
       "      <td>0.0</td>\n",
       "      <td>0.0</td>\n",
       "      <td>444.573611</td>\n",
       "    </tr>\n",
       "    <tr>\n",
       "      <th>1</th>\n",
       "      <td>1002090.0</td>\n",
       "      <td>0.0</td>\n",
       "      <td>0.0</td>\n",
       "      <td>0.0</td>\n",
       "      <td>0.0</td>\n",
       "      <td>0.0</td>\n",
       "      <td>0.0</td>\n",
       "      <td>0.0</td>\n",
       "      <td>0.0</td>\n",
       "      <td>0.0</td>\n",
       "      <td>...</td>\n",
       "      <td>0.0</td>\n",
       "      <td>0.0</td>\n",
       "      <td>0.0</td>\n",
       "      <td>0.0</td>\n",
       "      <td>0.0</td>\n",
       "      <td>0.0</td>\n",
       "      <td>0.0</td>\n",
       "      <td>0.0</td>\n",
       "      <td>0.0</td>\n",
       "      <td>447.500000</td>\n",
       "    </tr>\n",
       "    <tr>\n",
       "      <th>2</th>\n",
       "      <td>1002090.0</td>\n",
       "      <td>0.0</td>\n",
       "      <td>0.0</td>\n",
       "      <td>0.0</td>\n",
       "      <td>0.0</td>\n",
       "      <td>0.0</td>\n",
       "      <td>0.0</td>\n",
       "      <td>0.0</td>\n",
       "      <td>0.0</td>\n",
       "      <td>0.0</td>\n",
       "      <td>...</td>\n",
       "      <td>0.0</td>\n",
       "      <td>0.0</td>\n",
       "      <td>0.0</td>\n",
       "      <td>0.0</td>\n",
       "      <td>0.0</td>\n",
       "      <td>0.0</td>\n",
       "      <td>0.0</td>\n",
       "      <td>0.0</td>\n",
       "      <td>0.0</td>\n",
       "      <td>450.500000</td>\n",
       "    </tr>\n",
       "    <tr>\n",
       "      <th>3</th>\n",
       "      <td>1002090.0</td>\n",
       "      <td>0.0</td>\n",
       "      <td>0.0</td>\n",
       "      <td>0.0</td>\n",
       "      <td>0.0</td>\n",
       "      <td>0.0</td>\n",
       "      <td>0.0</td>\n",
       "      <td>0.0</td>\n",
       "      <td>0.0</td>\n",
       "      <td>0.0</td>\n",
       "      <td>...</td>\n",
       "      <td>0.0</td>\n",
       "      <td>0.0</td>\n",
       "      <td>0.0</td>\n",
       "      <td>0.0</td>\n",
       "      <td>0.0</td>\n",
       "      <td>0.0</td>\n",
       "      <td>0.0</td>\n",
       "      <td>0.0</td>\n",
       "      <td>0.0</td>\n",
       "      <td>453.500000</td>\n",
       "    </tr>\n",
       "    <tr>\n",
       "      <th>4</th>\n",
       "      <td>1002090.0</td>\n",
       "      <td>0.0</td>\n",
       "      <td>0.0</td>\n",
       "      <td>0.0</td>\n",
       "      <td>0.0</td>\n",
       "      <td>0.0</td>\n",
       "      <td>0.0</td>\n",
       "      <td>0.0</td>\n",
       "      <td>0.0</td>\n",
       "      <td>0.0</td>\n",
       "      <td>...</td>\n",
       "      <td>0.0</td>\n",
       "      <td>0.0</td>\n",
       "      <td>0.0</td>\n",
       "      <td>0.0</td>\n",
       "      <td>0.0</td>\n",
       "      <td>0.0</td>\n",
       "      <td>0.0</td>\n",
       "      <td>0.0</td>\n",
       "      <td>0.0</td>\n",
       "      <td>456.500000</td>\n",
       "    </tr>\n",
       "  </tbody>\n",
       "</table>\n",
       "<p>5 rows × 1281 columns</p>\n",
       "</div>"
      ],
      "text/plain": [
       "             person_id  {10 (Prednisone 10 MG Oral Tablet) } Pack  \\\n",
       "person_id                                                           \n",
       "1002090   0  1002090.0                                        0.0   \n",
       "          1  1002090.0                                        0.0   \n",
       "          2  1002090.0                                        0.0   \n",
       "          3  1002090.0                                        0.0   \n",
       "          4  1002090.0                                        0.0   \n",
       "\n",
       "             {11 (varenicline 0.5 MG Oral Tablet [Chantix]) / 42 (varenicline 1 MG Oral Tablet [Chantix]) } Pack [Chantix First Month of Therapy]  \\\n",
       "person_id                                                                                                                                           \n",
       "1002090   0                                                0.0                                                                                      \n",
       "          1                                                0.0                                                                                      \n",
       "          2                                                0.0                                                                                      \n",
       "          3                                                0.0                                                                                      \n",
       "          4                                                0.0                                                                                      \n",
       "\n",
       "             {21 (Ethinyl Estradiol 0.035 MG / norgestimate 0.25 MG Oral Tablet) / 7 (Inert Ingredients 1 MG Oral Tablet) } Pack  \\\n",
       "person_id                                                                                                                          \n",
       "1002090   0                                                0.0                                                                     \n",
       "          1                                                0.0                                                                     \n",
       "          2                                                0.0                                                                     \n",
       "          3                                                0.0                                                                     \n",
       "          4                                                0.0                                                                     \n",
       "\n",
       "             {21 (Methylprednisolone 4 MG Oral Tablet [Medrol]) } Pack [Medrol Dosepak]  \\\n",
       "person_id                                                                                 \n",
       "1002090   0                                                0.0                            \n",
       "          1                                                0.0                            \n",
       "          2                                                0.0                            \n",
       "          3                                                0.0                            \n",
       "          4                                                0.0                            \n",
       "\n",
       "             {21 (Methylprednisolone 4 MG Oral Tablet) } Pack  \\\n",
       "person_id                                                       \n",
       "1002090   0                                               0.0   \n",
       "          1                                               0.0   \n",
       "          2                                               0.0   \n",
       "          3                                               0.0   \n",
       "          4                                               0.0   \n",
       "\n",
       "             {21 (Prednisone 5 MG Oral Tablet) } Pack  \\\n",
       "person_id                                               \n",
       "1002090   0                                       0.0   \n",
       "          1                                       0.0   \n",
       "          2                                       0.0   \n",
       "          3                                       0.0   \n",
       "          4                                       0.0   \n",
       "\n",
       "             {28 (Norethindrone 0.35 MG Oral Tablet) } Pack  \\\n",
       "person_id                                                     \n",
       "1002090   0                                             0.0   \n",
       "          1                                             0.0   \n",
       "          2                                             0.0   \n",
       "          3                                             0.0   \n",
       "          4                                             0.0   \n",
       "\n",
       "             {3 (Azithromycin 500 MG Oral Tablet) } Pack  \\\n",
       "person_id                                                  \n",
       "1002090   0                                          0.0   \n",
       "          1                                          0.0   \n",
       "          2                                          0.0   \n",
       "          3                                          0.0   \n",
       "          4                                          0.0   \n",
       "\n",
       "             {48 (Prednisone 10 MG Oral Tablet) } Pack  ...  Witch Hazel  \\\n",
       "person_id                                               ...                \n",
       "1002090   0                                        0.0  ...          0.0   \n",
       "          1                                        0.0  ...          0.0   \n",
       "          2                                        0.0  ...          0.0   \n",
       "          3                                        0.0  ...          0.0   \n",
       "          4                                        0.0  ...          0.0   \n",
       "\n",
       "             Witch Hazel 500 MG/ML Medicated Pad  zinc sulfate  Zofran  \\\n",
       "person_id                                                                \n",
       "1002090   0                                  0.0           0.0     0.0   \n",
       "          1                                  0.0           0.0     0.0   \n",
       "          2                                  0.0           0.0     0.0   \n",
       "          3                                  0.0           0.0     0.0   \n",
       "          4                                  0.0           0.0     0.0   \n",
       "\n",
       "             zoledronic acid  zolpidem  Zostavax  zoster vaccine, live  Zosyn  \\\n",
       "person_id                                                                       \n",
       "1002090   0              0.0       0.0       0.0                   0.0    0.0   \n",
       "          1              0.0       0.0       0.0                   0.0    0.0   \n",
       "          2              0.0       0.0       0.0                   0.0    0.0   \n",
       "          3              0.0       0.0       0.0                   0.0    0.0   \n",
       "          4              0.0       0.0       0.0                   0.0    0.0   \n",
       "\n",
       "                    age  \n",
       "person_id                \n",
       "1002090   0  444.573611  \n",
       "          1  447.500000  \n",
       "          2  450.500000  \n",
       "          3  453.500000  \n",
       "          4  456.500000  \n",
       "\n",
       "[5 rows x 1281 columns]"
      ]
     },
     "execution_count": 13,
     "metadata": {},
     "output_type": "execute_result"
    }
   ],
   "source": [
    "final.head()"
   ]
  },
  {
   "cell_type": "code",
   "execution_count": null,
   "metadata": {},
   "outputs": [],
   "source": [
    "final.reset_index(drop=True)"
   ]
  },
  {
   "cell_type": "code",
   "execution_count": 14,
   "metadata": {},
   "outputs": [
    {
     "data": {
      "text/plain": [
       "(78480, 1281)"
      ]
     },
     "execution_count": 14,
     "metadata": {},
     "output_type": "execute_result"
    }
   ],
   "source": [
    "final.shape"
   ]
  },
  {
   "cell_type": "code",
   "execution_count": 18,
   "metadata": {},
   "outputs": [],
   "source": [
    "final.to_csv('condMpad.csv',index=False)"
   ]
  }
 ],
 "metadata": {
  "kernelspec": {
   "display_name": "Python 3",
   "language": "python",
   "name": "python3"
  },
  "language_info": {
   "codemirror_mode": {
    "name": "ipython",
    "version": 3
   },
   "file_extension": ".py",
   "mimetype": "text/x-python",
   "name": "python",
   "nbconvert_exporter": "python",
   "pygments_lexer": "ipython3",
   "version": "3.7.1"
  },
  "toc": {
   "base_numbering": 1,
   "nav_menu": {},
   "number_sections": true,
   "sideBar": true,
   "skip_h1_title": false,
   "title_cell": "Table of Contents",
   "title_sidebar": "Contents",
   "toc_cell": false,
   "toc_position": {},
   "toc_section_display": true,
   "toc_window_display": false
  }
 },
 "nbformat": 4,
 "nbformat_minor": 4
}
