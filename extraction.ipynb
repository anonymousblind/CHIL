{
 "cells": [
  {
   "cell_type": "code",
   "execution_count": 1,
   "metadata": {},
   "outputs": [],
   "source": [
    "import pandas as pd\n",
    "import os"
   ]
  },
  {
   "cell_type": "code",
   "execution_count": 3,
   "metadata": {},
   "outputs": [],
   "source": [
    "#males\n",
    "#45880669\n",
    "#45878463"
   ]
  },
  {
   "cell_type": "code",
   "execution_count": 4,
   "metadata": {},
   "outputs": [
    {
     "name": "stderr",
     "output_type": "stream",
     "text": [
      "Downloading: 100%|██████████| 4089601/4089601 [10:23<00:00, 6556.56rows/s]\n"
     ]
    },
    {
     "data": {
      "text/html": [
       "<div>\n",
       "<style scoped>\n",
       "    .dataframe tbody tr th:only-of-type {\n",
       "        vertical-align: middle;\n",
       "    }\n",
       "\n",
       "    .dataframe tbody tr th {\n",
       "        vertical-align: top;\n",
       "    }\n",
       "\n",
       "    .dataframe thead th {\n",
       "        text-align: right;\n",
       "    }\n",
       "</style>\n",
       "<table border=\"1\" class=\"dataframe\">\n",
       "  <thead>\n",
       "    <tr style=\"text-align: right;\">\n",
       "      <th></th>\n",
       "      <th>visit_occurrence_id</th>\n",
       "      <th>person_id</th>\n",
       "      <th>visit_concept_id</th>\n",
       "      <th>visit_start_date</th>\n",
       "      <th>visit_start_datetime</th>\n",
       "      <th>visit_end_date</th>\n",
       "      <th>visit_end_datetime</th>\n",
       "      <th>visit_type_concept_id</th>\n",
       "      <th>provider_id</th>\n",
       "      <th>care_site_id</th>\n",
       "      <th>visit_source_value</th>\n",
       "      <th>visit_source_concept_id</th>\n",
       "      <th>admitting_source_concept_id</th>\n",
       "      <th>admitting_source_value</th>\n",
       "      <th>discharge_to_concept_id</th>\n",
       "      <th>discharge_to_source_value</th>\n",
       "      <th>preceding_visit_occurrence_id</th>\n",
       "    </tr>\n",
       "  </thead>\n",
       "  <tbody>\n",
       "    <tr>\n",
       "      <th>2516852</th>\n",
       "      <td>1000000664754777</td>\n",
       "      <td>1000000</td>\n",
       "      <td>9202</td>\n",
       "      <td>2018-09-18</td>\n",
       "      <td>2018-09-18 22:23:20+00:00</td>\n",
       "      <td>2018-09-18</td>\n",
       "      <td>2018-09-18 22:23:20+00:00</td>\n",
       "      <td>44818519</td>\n",
       "      <td>None</td>\n",
       "      <td>None</td>\n",
       "      <td>No matching concept</td>\n",
       "      <td>0</td>\n",
       "      <td>0</td>\n",
       "      <td>No matching concept</td>\n",
       "      <td>0</td>\n",
       "      <td>No matching concept</td>\n",
       "      <td>NaN</td>\n",
       "    </tr>\n",
       "    <tr>\n",
       "      <th>2569833</th>\n",
       "      <td>1000000975021357</td>\n",
       "      <td>1000004</td>\n",
       "      <td>9202</td>\n",
       "      <td>2019-04-08</td>\n",
       "      <td>2019-04-08 19:57:46+00:00</td>\n",
       "      <td>2019-04-08</td>\n",
       "      <td>2019-04-08 19:57:46+00:00</td>\n",
       "      <td>44818519</td>\n",
       "      <td>None</td>\n",
       "      <td>None</td>\n",
       "      <td>No matching concept</td>\n",
       "      <td>0</td>\n",
       "      <td>0</td>\n",
       "      <td>No matching concept</td>\n",
       "      <td>0</td>\n",
       "      <td>No matching concept</td>\n",
       "      <td>NaN</td>\n",
       "    </tr>\n",
       "    <tr>\n",
       "      <th>2636449</th>\n",
       "      <td>1000000146328718</td>\n",
       "      <td>1000033</td>\n",
       "      <td>9202</td>\n",
       "      <td>2018-09-11</td>\n",
       "      <td>2018-09-11 14:25:06+00:00</td>\n",
       "      <td>2018-09-11</td>\n",
       "      <td>2018-09-11 14:25:06+00:00</td>\n",
       "      <td>44818519</td>\n",
       "      <td>None</td>\n",
       "      <td>None</td>\n",
       "      <td>No matching concept</td>\n",
       "      <td>0</td>\n",
       "      <td>0</td>\n",
       "      <td>No matching concept</td>\n",
       "      <td>0</td>\n",
       "      <td>No matching concept</td>\n",
       "      <td>NaN</td>\n",
       "    </tr>\n",
       "    <tr>\n",
       "      <th>2580377</th>\n",
       "      <td>1000000311322817</td>\n",
       "      <td>1000042</td>\n",
       "      <td>9202</td>\n",
       "      <td>2018-11-12</td>\n",
       "      <td>2018-11-12 14:43:07+00:00</td>\n",
       "      <td>2018-11-12</td>\n",
       "      <td>2018-11-12 14:43:07+00:00</td>\n",
       "      <td>44818519</td>\n",
       "      <td>None</td>\n",
       "      <td>None</td>\n",
       "      <td>No matching concept</td>\n",
       "      <td>0</td>\n",
       "      <td>0</td>\n",
       "      <td>No matching concept</td>\n",
       "      <td>0</td>\n",
       "      <td>No matching concept</td>\n",
       "      <td>NaN</td>\n",
       "    </tr>\n",
       "    <tr>\n",
       "      <th>2784715</th>\n",
       "      <td>31000000122564619</td>\n",
       "      <td>1000079</td>\n",
       "      <td>9203</td>\n",
       "      <td>2018-04-14</td>\n",
       "      <td>2018-04-14 14:38:00+00:00</td>\n",
       "      <td>2018-04-14</td>\n",
       "      <td>2018-04-14 15:18:00+00:00</td>\n",
       "      <td>44818518</td>\n",
       "      <td>None</td>\n",
       "      <td>None</td>\n",
       "      <td>None</td>\n",
       "      <td>309310</td>\n",
       "      <td>309199</td>\n",
       "      <td>None</td>\n",
       "      <td>679545</td>\n",
       "      <td>None</td>\n",
       "      <td>NaN</td>\n",
       "    </tr>\n",
       "  </tbody>\n",
       "</table>\n",
       "</div>"
      ],
      "text/plain": [
       "         visit_occurrence_id  person_id  visit_concept_id visit_start_date  \\\n",
       "2516852     1000000664754777    1000000              9202       2018-09-18   \n",
       "2569833     1000000975021357    1000004              9202       2019-04-08   \n",
       "2636449     1000000146328718    1000033              9202       2018-09-11   \n",
       "2580377     1000000311322817    1000042              9202       2018-11-12   \n",
       "2784715    31000000122564619    1000079              9203       2018-04-14   \n",
       "\n",
       "             visit_start_datetime visit_end_date        visit_end_datetime  \\\n",
       "2516852 2018-09-18 22:23:20+00:00     2018-09-18 2018-09-18 22:23:20+00:00   \n",
       "2569833 2019-04-08 19:57:46+00:00     2019-04-08 2019-04-08 19:57:46+00:00   \n",
       "2636449 2018-09-11 14:25:06+00:00     2018-09-11 2018-09-11 14:25:06+00:00   \n",
       "2580377 2018-11-12 14:43:07+00:00     2018-11-12 2018-11-12 14:43:07+00:00   \n",
       "2784715 2018-04-14 14:38:00+00:00     2018-04-14 2018-04-14 15:18:00+00:00   \n",
       "\n",
       "         visit_type_concept_id provider_id care_site_id   visit_source_value  \\\n",
       "2516852               44818519        None         None  No matching concept   \n",
       "2569833               44818519        None         None  No matching concept   \n",
       "2636449               44818519        None         None  No matching concept   \n",
       "2580377               44818519        None         None  No matching concept   \n",
       "2784715               44818518        None         None                 None   \n",
       "\n",
       "        visit_source_concept_id admitting_source_concept_id  \\\n",
       "2516852                       0                           0   \n",
       "2569833                       0                           0   \n",
       "2636449                       0                           0   \n",
       "2580377                       0                           0   \n",
       "2784715                  309310                      309199   \n",
       "\n",
       "        admitting_source_value discharge_to_concept_id  \\\n",
       "2516852    No matching concept                       0   \n",
       "2569833    No matching concept                       0   \n",
       "2636449    No matching concept                       0   \n",
       "2580377    No matching concept                       0   \n",
       "2784715                   None                  679545   \n",
       "\n",
       "        discharge_to_source_value preceding_visit_occurrence_id  \n",
       "2516852       No matching concept                           NaN  \n",
       "2569833       No matching concept                           NaN  \n",
       "2636449       No matching concept                           NaN  \n",
       "2580377       No matching concept                           NaN  \n",
       "2784715                      None                           NaN  "
      ]
     },
     "execution_count": 4,
     "metadata": {},
     "output_type": "execute_result"
    }
   ],
   "source": [
    "visit_sql = \"\"\"\n",
    "    SELECT *\n",
    "    from\n",
    "        `\"\"\" + os.environ[\"WORKSPACE_CDR\"] + \"\"\".visit_occurrence` visit \n",
    "        WHERE\n",
    "        visit.PERSON_ID IN (\n",
    "            select\n",
    "                person_id  \n",
    "            from\n",
    "                `\"\"\" + os.environ[\"WORKSPACE_CDR\"] + \"\"\".cb_search_person` cb_search_person  \n",
    "            where\n",
    "                cb_search_person.person_id in (\n",
    "                    select\n",
    "                        person_id \n",
    "                    from\n",
    "                        `\"\"\" + os.environ[\"WORKSPACE_CDR\"] + \"\"\".person` p \n",
    "                    where\n",
    "                        sex_at_birth_concept_id in (45880669) \n",
    "                ) \n",
    "            )\"\"\"\n",
    "\n",
    "visit_df = pd.read_gbq(visit_sql, dialect=\"standard\")\n",
    "visit_df=visit_df.sort_values(by=['person_id','visit_start_datetime'])\n",
    "visit_df.head(5)"
   ]
  },
  {
   "cell_type": "code",
   "execution_count": 5,
   "metadata": {},
   "outputs": [],
   "source": [
    "visit_df=visit_df.sort_values(by=['person_id','visit_start_datetime'])"
   ]
  },
  {
   "cell_type": "code",
   "execution_count": 6,
   "metadata": {},
   "outputs": [
    {
     "data": {
      "text/html": [
       "<div>\n",
       "<style scoped>\n",
       "    .dataframe tbody tr th:only-of-type {\n",
       "        vertical-align: middle;\n",
       "    }\n",
       "\n",
       "    .dataframe tbody tr th {\n",
       "        vertical-align: top;\n",
       "    }\n",
       "\n",
       "    .dataframe thead th {\n",
       "        text-align: right;\n",
       "    }\n",
       "</style>\n",
       "<table border=\"1\" class=\"dataframe\">\n",
       "  <thead>\n",
       "    <tr style=\"text-align: right;\">\n",
       "      <th></th>\n",
       "      <th>visit_occurrence_id</th>\n",
       "      <th>person_id</th>\n",
       "      <th>visit_concept_id</th>\n",
       "      <th>visit_start_date</th>\n",
       "      <th>visit_start_datetime</th>\n",
       "      <th>visit_end_date</th>\n",
       "      <th>visit_end_datetime</th>\n",
       "      <th>visit_type_concept_id</th>\n",
       "      <th>provider_id</th>\n",
       "      <th>care_site_id</th>\n",
       "      <th>visit_source_value</th>\n",
       "      <th>visit_source_concept_id</th>\n",
       "      <th>admitting_source_concept_id</th>\n",
       "      <th>admitting_source_value</th>\n",
       "      <th>discharge_to_concept_id</th>\n",
       "      <th>discharge_to_source_value</th>\n",
       "      <th>preceding_visit_occurrence_id</th>\n",
       "    </tr>\n",
       "  </thead>\n",
       "  <tbody>\n",
       "    <tr>\n",
       "      <th>2516852</th>\n",
       "      <td>1000000664754777</td>\n",
       "      <td>1000000</td>\n",
       "      <td>9202</td>\n",
       "      <td>2018-09-18</td>\n",
       "      <td>2018-09-18 22:23:20+00:00</td>\n",
       "      <td>2018-09-18</td>\n",
       "      <td>2018-09-18 22:23:20+00:00</td>\n",
       "      <td>44818519</td>\n",
       "      <td>None</td>\n",
       "      <td>None</td>\n",
       "      <td>No matching concept</td>\n",
       "      <td>0</td>\n",
       "      <td>0</td>\n",
       "      <td>No matching concept</td>\n",
       "      <td>0</td>\n",
       "      <td>No matching concept</td>\n",
       "      <td>NaN</td>\n",
       "    </tr>\n",
       "    <tr>\n",
       "      <th>2569833</th>\n",
       "      <td>1000000975021357</td>\n",
       "      <td>1000004</td>\n",
       "      <td>9202</td>\n",
       "      <td>2019-04-08</td>\n",
       "      <td>2019-04-08 19:57:46+00:00</td>\n",
       "      <td>2019-04-08</td>\n",
       "      <td>2019-04-08 19:57:46+00:00</td>\n",
       "      <td>44818519</td>\n",
       "      <td>None</td>\n",
       "      <td>None</td>\n",
       "      <td>No matching concept</td>\n",
       "      <td>0</td>\n",
       "      <td>0</td>\n",
       "      <td>No matching concept</td>\n",
       "      <td>0</td>\n",
       "      <td>No matching concept</td>\n",
       "      <td>NaN</td>\n",
       "    </tr>\n",
       "    <tr>\n",
       "      <th>2636449</th>\n",
       "      <td>1000000146328718</td>\n",
       "      <td>1000033</td>\n",
       "      <td>9202</td>\n",
       "      <td>2018-09-11</td>\n",
       "      <td>2018-09-11 14:25:06+00:00</td>\n",
       "      <td>2018-09-11</td>\n",
       "      <td>2018-09-11 14:25:06+00:00</td>\n",
       "      <td>44818519</td>\n",
       "      <td>None</td>\n",
       "      <td>None</td>\n",
       "      <td>No matching concept</td>\n",
       "      <td>0</td>\n",
       "      <td>0</td>\n",
       "      <td>No matching concept</td>\n",
       "      <td>0</td>\n",
       "      <td>No matching concept</td>\n",
       "      <td>NaN</td>\n",
       "    </tr>\n",
       "    <tr>\n",
       "      <th>2580377</th>\n",
       "      <td>1000000311322817</td>\n",
       "      <td>1000042</td>\n",
       "      <td>9202</td>\n",
       "      <td>2018-11-12</td>\n",
       "      <td>2018-11-12 14:43:07+00:00</td>\n",
       "      <td>2018-11-12</td>\n",
       "      <td>2018-11-12 14:43:07+00:00</td>\n",
       "      <td>44818519</td>\n",
       "      <td>None</td>\n",
       "      <td>None</td>\n",
       "      <td>No matching concept</td>\n",
       "      <td>0</td>\n",
       "      <td>0</td>\n",
       "      <td>No matching concept</td>\n",
       "      <td>0</td>\n",
       "      <td>No matching concept</td>\n",
       "      <td>NaN</td>\n",
       "    </tr>\n",
       "    <tr>\n",
       "      <th>2784715</th>\n",
       "      <td>31000000122564619</td>\n",
       "      <td>1000079</td>\n",
       "      <td>9203</td>\n",
       "      <td>2018-04-14</td>\n",
       "      <td>2018-04-14 14:38:00+00:00</td>\n",
       "      <td>2018-04-14</td>\n",
       "      <td>2018-04-14 15:18:00+00:00</td>\n",
       "      <td>44818518</td>\n",
       "      <td>None</td>\n",
       "      <td>None</td>\n",
       "      <td>None</td>\n",
       "      <td>309310</td>\n",
       "      <td>309199</td>\n",
       "      <td>None</td>\n",
       "      <td>679545</td>\n",
       "      <td>None</td>\n",
       "      <td>NaN</td>\n",
       "    </tr>\n",
       "  </tbody>\n",
       "</table>\n",
       "</div>"
      ],
      "text/plain": [
       "         visit_occurrence_id  person_id  visit_concept_id visit_start_date  \\\n",
       "2516852     1000000664754777    1000000              9202       2018-09-18   \n",
       "2569833     1000000975021357    1000004              9202       2019-04-08   \n",
       "2636449     1000000146328718    1000033              9202       2018-09-11   \n",
       "2580377     1000000311322817    1000042              9202       2018-11-12   \n",
       "2784715    31000000122564619    1000079              9203       2018-04-14   \n",
       "\n",
       "             visit_start_datetime visit_end_date        visit_end_datetime  \\\n",
       "2516852 2018-09-18 22:23:20+00:00     2018-09-18 2018-09-18 22:23:20+00:00   \n",
       "2569833 2019-04-08 19:57:46+00:00     2019-04-08 2019-04-08 19:57:46+00:00   \n",
       "2636449 2018-09-11 14:25:06+00:00     2018-09-11 2018-09-11 14:25:06+00:00   \n",
       "2580377 2018-11-12 14:43:07+00:00     2018-11-12 2018-11-12 14:43:07+00:00   \n",
       "2784715 2018-04-14 14:38:00+00:00     2018-04-14 2018-04-14 15:18:00+00:00   \n",
       "\n",
       "         visit_type_concept_id provider_id care_site_id   visit_source_value  \\\n",
       "2516852               44818519        None         None  No matching concept   \n",
       "2569833               44818519        None         None  No matching concept   \n",
       "2636449               44818519        None         None  No matching concept   \n",
       "2580377               44818519        None         None  No matching concept   \n",
       "2784715               44818518        None         None                 None   \n",
       "\n",
       "        visit_source_concept_id admitting_source_concept_id  \\\n",
       "2516852                       0                           0   \n",
       "2569833                       0                           0   \n",
       "2636449                       0                           0   \n",
       "2580377                       0                           0   \n",
       "2784715                  309310                      309199   \n",
       "\n",
       "        admitting_source_value discharge_to_concept_id  \\\n",
       "2516852    No matching concept                       0   \n",
       "2569833    No matching concept                       0   \n",
       "2636449    No matching concept                       0   \n",
       "2580377    No matching concept                       0   \n",
       "2784715                   None                  679545   \n",
       "\n",
       "        discharge_to_source_value preceding_visit_occurrence_id  \n",
       "2516852       No matching concept                           NaN  \n",
       "2569833       No matching concept                           NaN  \n",
       "2636449       No matching concept                           NaN  \n",
       "2580377       No matching concept                           NaN  \n",
       "2784715                      None                           NaN  "
      ]
     },
     "execution_count": 6,
     "metadata": {},
     "output_type": "execute_result"
    }
   ],
   "source": [
    "visit_df.head(5)"
   ]
  },
  {
   "cell_type": "code",
   "execution_count": 7,
   "metadata": {},
   "outputs": [],
   "source": [
    "visit_df=visit_df[['visit_occurrence_id', 'person_id',\n",
    "       'visit_start_datetime', 'visit_end_datetime',\n",
    "       'preceding_visit_occurrence_id']]"
   ]
  },
  {
   "cell_type": "code",
   "execution_count": 8,
   "metadata": {},
   "outputs": [],
   "source": [
    "visit_df.to_csv('visitMale.csv',index=False)"
   ]
  },
  {
   "cell_type": "code",
   "execution_count": 9,
   "metadata": {},
   "outputs": [
    {
     "data": {
      "text/plain": [
       "(4089601, 5)"
      ]
     },
     "execution_count": 9,
     "metadata": {},
     "output_type": "execute_result"
    }
   ],
   "source": [
    "visit_df.shape"
   ]
  },
  {
   "cell_type": "code",
   "execution_count": 10,
   "metadata": {},
   "outputs": [
    {
     "data": {
      "text/plain": [
       "4089601"
      ]
     },
     "execution_count": 10,
     "metadata": {},
     "output_type": "execute_result"
    }
   ],
   "source": [
    "len(list(visit_df['visit_occurrence_id'].unique()))"
   ]
  },
  {
   "cell_type": "code",
   "execution_count": 11,
   "metadata": {},
   "outputs": [
    {
     "data": {
      "text/plain": [
       "72573"
      ]
     },
     "execution_count": 11,
     "metadata": {},
     "output_type": "execute_result"
    }
   ],
   "source": [
    "len(list(visit_df['person_id'].unique()))"
   ]
  },
  {
   "cell_type": "code",
   "execution_count": 13,
   "metadata": {},
   "outputs": [],
   "source": [
    "visit_df = pd.read_csv('visitMale.csv',header=0)"
   ]
  },
  {
   "cell_type": "code",
   "execution_count": 36,
   "metadata": {},
   "outputs": [],
   "source": [
    "visit_df=visit_df.sort_values(by=['person_id','visit_start_datetime'])"
   ]
  },
  {
   "cell_type": "code",
   "execution_count": 28,
   "metadata": {},
   "outputs": [],
   "source": [
    "visit_df.to_csv('visitMale.csv',index=False)"
   ]
  },
  {
   "cell_type": "code",
   "execution_count": 20,
   "metadata": {},
   "outputs": [],
   "source": [
    "#Calculate age at each visit\n",
    "from datetime import datetime\n",
    "visit_df['visit_start_datetime'] = pd.to_datetime(visit_df['visit_start_datetime'])\n",
    "visit_df['birth_datetime'] = pd.to_datetime(visit_df['birth_datetime'])"
   ]
  },
  {
   "cell_type": "code",
   "execution_count": 21,
   "metadata": {},
   "outputs": [],
   "source": [
    "visit_df['age']=visit_df['visit_start_datetime'] - visit_df['birth_datetime']"
   ]
  },
  {
   "cell_type": "code",
   "execution_count": 51,
   "metadata": {},
   "outputs": [
    {
     "data": {
      "text/html": [
       "<div>\n",
       "<style scoped>\n",
       "    .dataframe tbody tr th:only-of-type {\n",
       "        vertical-align: middle;\n",
       "    }\n",
       "\n",
       "    .dataframe tbody tr th {\n",
       "        vertical-align: top;\n",
       "    }\n",
       "\n",
       "    .dataframe thead th {\n",
       "        text-align: right;\n",
       "    }\n",
       "</style>\n",
       "<table border=\"1\" class=\"dataframe\">\n",
       "  <thead>\n",
       "    <tr style=\"text-align: right;\">\n",
       "      <th></th>\n",
       "      <th>age</th>\n",
       "    </tr>\n",
       "  </thead>\n",
       "  <tbody>\n",
       "    <tr>\n",
       "      <th>0</th>\n",
       "      <td>790.526784</td>\n",
       "    </tr>\n",
       "    <tr>\n",
       "      <th>1</th>\n",
       "      <td>107.706944</td>\n",
       "    </tr>\n",
       "    <tr>\n",
       "      <th>2</th>\n",
       "      <td>111.573611</td>\n",
       "    </tr>\n",
       "    <tr>\n",
       "      <th>3</th>\n",
       "      <td>125.440278</td>\n",
       "    </tr>\n",
       "    <tr>\n",
       "      <th>4</th>\n",
       "      <td>132.306944</td>\n",
       "    </tr>\n",
       "  </tbody>\n",
       "</table>\n",
       "</div>"
      ],
      "text/plain": [
       "          age\n",
       "0  790.526784\n",
       "1  107.706944\n",
       "2  111.573611\n",
       "3  125.440278\n",
       "4  132.306944"
      ]
     },
     "execution_count": 51,
     "metadata": {},
     "output_type": "execute_result"
    }
   ],
   "source": [
    "visit_df[['age']].head()"
   ]
  },
  {
   "cell_type": "code",
   "execution_count": 23,
   "metadata": {},
   "outputs": [],
   "source": [
    "#Convert age to years\n",
    "visit_df['age']=(((visit_df['age'].dt.total_seconds()/3600)/24)/30)"
   ]
  },
  {
   "cell_type": "code",
   "execution_count": 4,
   "metadata": {},
   "outputs": [
    {
     "data": {
      "text/html": [
       "<div>\n",
       "<style scoped>\n",
       "    .dataframe tbody tr th:only-of-type {\n",
       "        vertical-align: middle;\n",
       "    }\n",
       "\n",
       "    .dataframe tbody tr th {\n",
       "        vertical-align: top;\n",
       "    }\n",
       "\n",
       "    .dataframe thead th {\n",
       "        text-align: right;\n",
       "    }\n",
       "</style>\n",
       "<table border=\"1\" class=\"dataframe\">\n",
       "  <thead>\n",
       "    <tr style=\"text-align: right;\">\n",
       "      <th></th>\n",
       "      <th>age</th>\n",
       "    </tr>\n",
       "  </thead>\n",
       "  <tbody>\n",
       "    <tr>\n",
       "      <th>0</th>\n",
       "      <td>65.877232</td>\n",
       "    </tr>\n",
       "    <tr>\n",
       "      <th>1</th>\n",
       "      <td>8.975579</td>\n",
       "    </tr>\n",
       "    <tr>\n",
       "      <th>2</th>\n",
       "      <td>9.297801</td>\n",
       "    </tr>\n",
       "    <tr>\n",
       "      <th>3</th>\n",
       "      <td>10.453356</td>\n",
       "    </tr>\n",
       "    <tr>\n",
       "      <th>4</th>\n",
       "      <td>11.025579</td>\n",
       "    </tr>\n",
       "  </tbody>\n",
       "</table>\n",
       "</div>"
      ],
      "text/plain": [
       "         age\n",
       "0  65.877232\n",
       "1   8.975579\n",
       "2   9.297801\n",
       "3  10.453356\n",
       "4  11.025579"
      ]
     },
     "execution_count": 4,
     "metadata": {},
     "output_type": "execute_result"
    }
   ],
   "source": [
    "visit_df[['age']].head()"
   ]
  },
  {
   "cell_type": "code",
   "execution_count": 21,
   "metadata": {},
   "outputs": [],
   "source": [
    "visit_df['age']=visit_df['age']/12"
   ]
  },
  {
   "cell_type": "code",
   "execution_count": null,
   "metadata": {},
   "outputs": [],
   "source": [
    "#############MEAS##############"
   ]
  },
  {
   "cell_type": "code",
   "execution_count": 2,
   "metadata": {},
   "outputs": [
    {
     "name": "stderr",
     "output_type": "stream",
     "text": [
      "Downloading: 100%|██████████| 11780685/11780685 [25:13<00:00, 7785.17rows/s]\n"
     ]
    },
    {
     "data": {
      "text/html": [
       "<div>\n",
       "<style scoped>\n",
       "    .dataframe tbody tr th:only-of-type {\n",
       "        vertical-align: middle;\n",
       "    }\n",
       "\n",
       "    .dataframe tbody tr th {\n",
       "        vertical-align: top;\n",
       "    }\n",
       "\n",
       "    .dataframe thead th {\n",
       "        text-align: right;\n",
       "    }\n",
       "</style>\n",
       "<table border=\"1\" class=\"dataframe\">\n",
       "  <thead>\n",
       "    <tr style=\"text-align: right;\">\n",
       "      <th></th>\n",
       "      <th>measurement_id</th>\n",
       "      <th>person_id</th>\n",
       "      <th>measurement_concept_id</th>\n",
       "      <th>measurement_date</th>\n",
       "      <th>measurement_datetime</th>\n",
       "      <th>measurement_type_concept_id</th>\n",
       "      <th>operator_concept_id</th>\n",
       "      <th>value_as_number</th>\n",
       "      <th>value_as_concept_id</th>\n",
       "      <th>unit_concept_id</th>\n",
       "      <th>range_low</th>\n",
       "      <th>range_high</th>\n",
       "      <th>provider_id</th>\n",
       "      <th>visit_occurrence_id</th>\n",
       "      <th>measurement_source_value</th>\n",
       "      <th>measurement_source_concept_id</th>\n",
       "      <th>unit_source_value</th>\n",
       "      <th>value_source_value</th>\n",
       "    </tr>\n",
       "  </thead>\n",
       "  <tbody>\n",
       "    <tr>\n",
       "      <th>0</th>\n",
       "      <td>38000000003810039</td>\n",
       "      <td>1698282</td>\n",
       "      <td>3004249</td>\n",
       "      <td>2016-10-02</td>\n",
       "      <td>2016-10-02 07:00:00+00:00</td>\n",
       "      <td>44818702</td>\n",
       "      <td>0.0</td>\n",
       "      <td>108.0</td>\n",
       "      <td>0.0</td>\n",
       "      <td>8876.0</td>\n",
       "      <td>0.0</td>\n",
       "      <td>0.0</td>\n",
       "      <td>None</td>\n",
       "      <td>3.800000e+16</td>\n",
       "      <td>No matching concept</td>\n",
       "      <td>0.0</td>\n",
       "      <td>mm[Hg]</td>\n",
       "      <td>No matching concept</td>\n",
       "    </tr>\n",
       "    <tr>\n",
       "      <th>1</th>\n",
       "      <td>38000000008717310</td>\n",
       "      <td>1701004</td>\n",
       "      <td>3012888</td>\n",
       "      <td>2018-02-13</td>\n",
       "      <td>NaT</td>\n",
       "      <td>44818702</td>\n",
       "      <td>0.0</td>\n",
       "      <td>75.0</td>\n",
       "      <td>0.0</td>\n",
       "      <td>8876.0</td>\n",
       "      <td>0.0</td>\n",
       "      <td>0.0</td>\n",
       "      <td>None</td>\n",
       "      <td>3.800000e+16</td>\n",
       "      <td>No matching concept</td>\n",
       "      <td>0.0</td>\n",
       "      <td>mm[Hg]</td>\n",
       "      <td>No matching concept</td>\n",
       "    </tr>\n",
       "    <tr>\n",
       "      <th>2</th>\n",
       "      <td>38000000002554647</td>\n",
       "      <td>1699677</td>\n",
       "      <td>3012888</td>\n",
       "      <td>2012-10-18</td>\n",
       "      <td>NaT</td>\n",
       "      <td>44818702</td>\n",
       "      <td>0.0</td>\n",
       "      <td>81.0</td>\n",
       "      <td>0.0</td>\n",
       "      <td>8876.0</td>\n",
       "      <td>0.0</td>\n",
       "      <td>0.0</td>\n",
       "      <td>None</td>\n",
       "      <td>3.800000e+16</td>\n",
       "      <td>No matching concept</td>\n",
       "      <td>0.0</td>\n",
       "      <td>mm[Hg]</td>\n",
       "      <td>No matching concept</td>\n",
       "    </tr>\n",
       "    <tr>\n",
       "      <th>3</th>\n",
       "      <td>38000000002554840</td>\n",
       "      <td>1699677</td>\n",
       "      <td>3004249</td>\n",
       "      <td>2012-10-20</td>\n",
       "      <td>2012-10-20 22:12:00+00:00</td>\n",
       "      <td>44818702</td>\n",
       "      <td>0.0</td>\n",
       "      <td>125.0</td>\n",
       "      <td>0.0</td>\n",
       "      <td>8876.0</td>\n",
       "      <td>0.0</td>\n",
       "      <td>0.0</td>\n",
       "      <td>None</td>\n",
       "      <td>3.800000e+16</td>\n",
       "      <td>No matching concept</td>\n",
       "      <td>0.0</td>\n",
       "      <td>mm[Hg]</td>\n",
       "      <td>No matching concept</td>\n",
       "    </tr>\n",
       "    <tr>\n",
       "      <th>4</th>\n",
       "      <td>38000000002719534</td>\n",
       "      <td>1667526</td>\n",
       "      <td>3004249</td>\n",
       "      <td>2014-01-29</td>\n",
       "      <td>2014-01-29 10:47:00+00:00</td>\n",
       "      <td>44818702</td>\n",
       "      <td>0.0</td>\n",
       "      <td>99.0</td>\n",
       "      <td>0.0</td>\n",
       "      <td>8876.0</td>\n",
       "      <td>0.0</td>\n",
       "      <td>0.0</td>\n",
       "      <td>None</td>\n",
       "      <td>3.800000e+16</td>\n",
       "      <td>No matching concept</td>\n",
       "      <td>0.0</td>\n",
       "      <td>mm[Hg]</td>\n",
       "      <td>No matching concept</td>\n",
       "    </tr>\n",
       "  </tbody>\n",
       "</table>\n",
       "</div>"
      ],
      "text/plain": [
       "      measurement_id  person_id  measurement_concept_id measurement_date  \\\n",
       "0  38000000003810039    1698282                 3004249       2016-10-02   \n",
       "1  38000000008717310    1701004                 3012888       2018-02-13   \n",
       "2  38000000002554647    1699677                 3012888       2012-10-18   \n",
       "3  38000000002554840    1699677                 3004249       2012-10-20   \n",
       "4  38000000002719534    1667526                 3004249       2014-01-29   \n",
       "\n",
       "       measurement_datetime  measurement_type_concept_id  operator_concept_id  \\\n",
       "0 2016-10-02 07:00:00+00:00                     44818702                  0.0   \n",
       "1                       NaT                     44818702                  0.0   \n",
       "2                       NaT                     44818702                  0.0   \n",
       "3 2012-10-20 22:12:00+00:00                     44818702                  0.0   \n",
       "4 2014-01-29 10:47:00+00:00                     44818702                  0.0   \n",
       "\n",
       "   value_as_number  value_as_concept_id  unit_concept_id  range_low  \\\n",
       "0            108.0                  0.0           8876.0        0.0   \n",
       "1             75.0                  0.0           8876.0        0.0   \n",
       "2             81.0                  0.0           8876.0        0.0   \n",
       "3            125.0                  0.0           8876.0        0.0   \n",
       "4             99.0                  0.0           8876.0        0.0   \n",
       "\n",
       "   range_high provider_id  visit_occurrence_id measurement_source_value  \\\n",
       "0         0.0        None         3.800000e+16      No matching concept   \n",
       "1         0.0        None         3.800000e+16      No matching concept   \n",
       "2         0.0        None         3.800000e+16      No matching concept   \n",
       "3         0.0        None         3.800000e+16      No matching concept   \n",
       "4         0.0        None         3.800000e+16      No matching concept   \n",
       "\n",
       "   measurement_source_concept_id unit_source_value   value_source_value  \n",
       "0                            0.0            mm[Hg]  No matching concept  \n",
       "1                            0.0            mm[Hg]  No matching concept  \n",
       "2                            0.0            mm[Hg]  No matching concept  \n",
       "3                            0.0            mm[Hg]  No matching concept  \n",
       "4                            0.0            mm[Hg]  No matching concept  "
      ]
     },
     "execution_count": 2,
     "metadata": {},
     "output_type": "execute_result"
    }
   ],
   "source": [
    "meas_sql = \"\"\"\n",
    "    SELECT *\n",
    "    from\n",
    "        `\"\"\" + os.environ[\"WORKSPACE_CDR\"] + \"\"\".measurement` meas \n",
    "        WHERE\n",
    "        (\n",
    "            meas.measurement_concept_id IN (\n",
    "                40762636, 3004249, 3027018, 3012888, 3038553, 3036277, 3025315, 3000483\n",
    "            ) \n",
    "            OR  meas.measurement_source_concept_id IN (\n",
    "                40762636, 3004249, 3027018, 3012888, 3038553, 3036277, 3025315, 3000483\n",
    "            )\n",
    "        )  and\n",
    "        meas.PERSON_ID IN (\n",
    "            select\n",
    "                person_id  \n",
    "            from\n",
    "                `\"\"\" + os.environ[\"WORKSPACE_CDR\"] + \"\"\".cb_search_person` cb_search_person  \n",
    "            where\n",
    "                cb_search_person.person_id in (\n",
    "                    select\n",
    "                        person_id \n",
    "                    from\n",
    "                        `\"\"\" + os.environ[\"WORKSPACE_CDR\"] + \"\"\".person` p \n",
    "                    where\n",
    "                        sex_at_birth_concept_id in (45880669) \n",
    "                ) \n",
    "            )\"\"\"\n",
    "\n",
    "meas_df = pd.read_gbq(meas_sql, dialect=\"standard\")\n",
    "meas_df.head(5)"
   ]
  },
  {
   "cell_type": "code",
   "execution_count": 3,
   "metadata": {},
   "outputs": [
    {
     "data": {
      "text/plain": [
       "(11780685, 18)"
      ]
     },
     "execution_count": 3,
     "metadata": {},
     "output_type": "execute_result"
    }
   ],
   "source": [
    "meas_df.shape"
   ]
  },
  {
   "cell_type": "code",
   "execution_count": 4,
   "metadata": {},
   "outputs": [],
   "source": [
    "meas_df = meas_df[meas_df['value_as_number'].notnull()]"
   ]
  },
  {
   "cell_type": "code",
   "execution_count": 5,
   "metadata": {},
   "outputs": [],
   "source": [
    "meas_df=meas_df.sort_values(by=['person_id','visit_occurrence_id'])"
   ]
  },
  {
   "cell_type": "code",
   "execution_count": 6,
   "metadata": {},
   "outputs": [
    {
     "data": {
      "text/plain": [
       "(10771106, 18)"
      ]
     },
     "execution_count": 6,
     "metadata": {},
     "output_type": "execute_result"
    }
   ],
   "source": [
    "meas_df.shape"
   ]
  },
  {
   "cell_type": "code",
   "execution_count": 7,
   "metadata": {},
   "outputs": [],
   "source": [
    "meas_df.to_csv('measM.csv',index=False)"
   ]
  },
  {
   "cell_type": "code",
   "execution_count": 10,
   "metadata": {},
   "outputs": [],
   "source": [
    "meas_df=pd.merge(meas_df,visit_df[['person_id','visit_occurrence_id','age']],on=['person_id','visit_occurrence_id'],how='left')"
   ]
  },
  {
   "cell_type": "code",
   "execution_count": 11,
   "metadata": {},
   "outputs": [
    {
     "data": {
      "text/plain": [
       "Index(['measurement_id', 'person_id', 'measurement_concept_id',\n",
       "       'measurement_date', 'measurement_datetime',\n",
       "       'measurement_type_concept_id', 'operator_concept_id', 'value_as_number',\n",
       "       'value_as_concept_id', 'unit_concept_id', 'range_low', 'range_high',\n",
       "       'provider_id', 'visit_occurrence_id', 'measurement_source_value',\n",
       "       'measurement_source_concept_id', 'unit_source_value',\n",
       "       'value_source_value', 'visit_start_datetime', 'visit_end_datetime',\n",
       "       'preceding_visit_occurrence_id', 'age'],\n",
       "      dtype='object')"
      ]
     },
     "execution_count": 11,
     "metadata": {},
     "output_type": "execute_result"
    }
   ],
   "source": [
    "meas_df.columns"
   ]
  },
  {
   "cell_type": "code",
   "execution_count": 8,
   "metadata": {},
   "outputs": [],
   "source": [
    "meas_df=meas_df[['measurement_id', 'person_id', 'measurement_concept_id',\n",
    "        'value_as_number', 'visit_occurrence_id']]"
   ]
  },
  {
   "cell_type": "code",
   "execution_count": 25,
   "metadata": {},
   "outputs": [],
   "source": [
    "meas_df.to_csv('measM.csv',index=False)"
   ]
  },
  {
   "cell_type": "code",
   "execution_count": 8,
   "metadata": {},
   "outputs": [],
   "source": [
    "#####SELECT MEAS Cohort##############"
   ]
  },
  {
   "cell_type": "code",
   "execution_count": 10,
   "metadata": {},
   "outputs": [],
   "source": [
    "cond_df=pd.read_csv('condM.csv',header=0)"
   ]
  },
  {
   "cell_type": "code",
   "execution_count": 14,
   "metadata": {},
   "outputs": [
    {
     "data": {
      "text/html": [
       "<div>\n",
       "<style scoped>\n",
       "    .dataframe tbody tr th:only-of-type {\n",
       "        vertical-align: middle;\n",
       "    }\n",
       "\n",
       "    .dataframe tbody tr th {\n",
       "        vertical-align: top;\n",
       "    }\n",
       "\n",
       "    .dataframe thead th {\n",
       "        text-align: right;\n",
       "    }\n",
       "</style>\n",
       "<table border=\"1\" class=\"dataframe\">\n",
       "  <thead>\n",
       "    <tr style=\"text-align: right;\">\n",
       "      <th></th>\n",
       "      <th>person_id</th>\n",
       "      <th>visit_occurrence_id</th>\n",
       "      <th>age</th>\n",
       "      <th>condition_concept_id</th>\n",
       "      <th>concept_name</th>\n",
       "    </tr>\n",
       "  </thead>\n",
       "  <tbody>\n",
       "    <tr>\n",
       "      <th>0</th>\n",
       "      <td>1497223</td>\n",
       "      <td>4.600000e+16</td>\n",
       "      <td>81.362269</td>\n",
       "      <td>321588.0</td>\n",
       "      <td>Heart disease</td>\n",
       "    </tr>\n",
       "    <tr>\n",
       "      <th>1</th>\n",
       "      <td>1476700</td>\n",
       "      <td>1.100000e+16</td>\n",
       "      <td>65.187122</td>\n",
       "      <td>321588.0</td>\n",
       "      <td>Heart disease</td>\n",
       "    </tr>\n",
       "    <tr>\n",
       "      <th>2</th>\n",
       "      <td>1497223</td>\n",
       "      <td>4.600000e+16</td>\n",
       "      <td>81.487616</td>\n",
       "      <td>44784217.0</td>\n",
       "      <td>Cardiac arrhythmia</td>\n",
       "    </tr>\n",
       "    <tr>\n",
       "      <th>3</th>\n",
       "      <td>1497223</td>\n",
       "      <td>4.600000e+16</td>\n",
       "      <td>82.634693</td>\n",
       "      <td>44784217.0</td>\n",
       "      <td>Cardiac arrhythmia</td>\n",
       "    </tr>\n",
       "    <tr>\n",
       "      <th>4</th>\n",
       "      <td>1497223</td>\n",
       "      <td>4.600000e+16</td>\n",
       "      <td>81.362269</td>\n",
       "      <td>44784217.0</td>\n",
       "      <td>Cardiac arrhythmia</td>\n",
       "    </tr>\n",
       "  </tbody>\n",
       "</table>\n",
       "</div>"
      ],
      "text/plain": [
       "   person_id  visit_occurrence_id        age  condition_concept_id  \\\n",
       "0    1497223         4.600000e+16  81.362269              321588.0   \n",
       "1    1476700         1.100000e+16  65.187122              321588.0   \n",
       "2    1497223         4.600000e+16  81.487616            44784217.0   \n",
       "3    1497223         4.600000e+16  82.634693            44784217.0   \n",
       "4    1497223         4.600000e+16  81.362269            44784217.0   \n",
       "\n",
       "         concept_name  \n",
       "0       Heart disease  \n",
       "1       Heart disease  \n",
       "2  Cardiac arrhythmia  \n",
       "3  Cardiac arrhythmia  \n",
       "4  Cardiac arrhythmia  "
      ]
     },
     "execution_count": 14,
     "metadata": {},
     "output_type": "execute_result"
    }
   ],
   "source": [
    "cond_df.head()"
   ]
  },
  {
   "cell_type": "code",
   "execution_count": 12,
   "metadata": {},
   "outputs": [],
   "source": [
    "del cond_df['condition_concept_id']\n",
    "del cond_df['concept_name']"
   ]
  },
  {
   "cell_type": "code",
   "execution_count": 13,
   "metadata": {},
   "outputs": [],
   "source": [
    "cond_df = cond_df.rename(columns={'ancestor_id3':'condition_concept_id'})\n",
    "cond_df = cond_df.rename(columns={'ancestor_name3':'concept_name'})"
   ]
  },
  {
   "cell_type": "code",
   "execution_count": 16,
   "metadata": {},
   "outputs": [],
   "source": [
    "meas_df=pd.read_csv('measM.csv',header=0)"
   ]
  },
  {
   "cell_type": "code",
   "execution_count": 17,
   "metadata": {},
   "outputs": [
    {
     "data": {
      "text/html": [
       "<div>\n",
       "<style scoped>\n",
       "    .dataframe tbody tr th:only-of-type {\n",
       "        vertical-align: middle;\n",
       "    }\n",
       "\n",
       "    .dataframe tbody tr th {\n",
       "        vertical-align: top;\n",
       "    }\n",
       "\n",
       "    .dataframe thead th {\n",
       "        text-align: right;\n",
       "    }\n",
       "</style>\n",
       "<table border=\"1\" class=\"dataframe\">\n",
       "  <thead>\n",
       "    <tr style=\"text-align: right;\">\n",
       "      <th></th>\n",
       "      <th>measurement_id</th>\n",
       "      <th>person_id</th>\n",
       "      <th>measurement_concept_id</th>\n",
       "      <th>value_as_number</th>\n",
       "      <th>visit_occurrence_id</th>\n",
       "    </tr>\n",
       "  </thead>\n",
       "  <tbody>\n",
       "    <tr>\n",
       "      <th>0</th>\n",
       "      <td>1000787374207007</td>\n",
       "      <td>1000091</td>\n",
       "      <td>3004249</td>\n",
       "      <td>117.000000</td>\n",
       "      <td>1.000001e+15</td>\n",
       "    </tr>\n",
       "    <tr>\n",
       "      <th>1</th>\n",
       "      <td>1000787374207001</td>\n",
       "      <td>1000091</td>\n",
       "      <td>3004249</td>\n",
       "      <td>125.000000</td>\n",
       "      <td>1.000001e+15</td>\n",
       "    </tr>\n",
       "    <tr>\n",
       "      <th>2</th>\n",
       "      <td>1000787374207011</td>\n",
       "      <td>1000091</td>\n",
       "      <td>3027018</td>\n",
       "      <td>60.000000</td>\n",
       "      <td>1.000001e+15</td>\n",
       "    </tr>\n",
       "    <tr>\n",
       "      <th>3</th>\n",
       "      <td>1000787374207015</td>\n",
       "      <td>1000091</td>\n",
       "      <td>3036277</td>\n",
       "      <td>161.800003</td>\n",
       "      <td>1.000001e+15</td>\n",
       "    </tr>\n",
       "    <tr>\n",
       "      <th>4</th>\n",
       "      <td>1000787374207004</td>\n",
       "      <td>1000091</td>\n",
       "      <td>3004249</td>\n",
       "      <td>121.000000</td>\n",
       "      <td>1.000001e+15</td>\n",
       "    </tr>\n",
       "  </tbody>\n",
       "</table>\n",
       "</div>"
      ],
      "text/plain": [
       "     measurement_id  person_id  measurement_concept_id  value_as_number  \\\n",
       "0  1000787374207007    1000091                 3004249       117.000000   \n",
       "1  1000787374207001    1000091                 3004249       125.000000   \n",
       "2  1000787374207011    1000091                 3027018        60.000000   \n",
       "3  1000787374207015    1000091                 3036277       161.800003   \n",
       "4  1000787374207004    1000091                 3004249       121.000000   \n",
       "\n",
       "   visit_occurrence_id  \n",
       "0         1.000001e+15  \n",
       "1         1.000001e+15  \n",
       "2         1.000001e+15  \n",
       "3         1.000001e+15  \n",
       "4         1.000001e+15  "
      ]
     },
     "execution_count": 17,
     "metadata": {},
     "output_type": "execute_result"
    }
   ],
   "source": [
    "meas_df.head()"
   ]
  },
  {
   "cell_type": "code",
   "execution_count": 18,
   "metadata": {},
   "outputs": [
    {
     "data": {
      "text/plain": [
       "113681"
      ]
     },
     "execution_count": 18,
     "metadata": {},
     "output_type": "execute_result"
    }
   ],
   "source": [
    "len(list(meas_df['person_id'].unique()))"
   ]
  },
  {
   "cell_type": "code",
   "execution_count": 19,
   "metadata": {},
   "outputs": [],
   "source": [
    "meas_df=meas_df[meas_df['person_id'].isin(list(cond_df['person_id'].unique()))]"
   ]
  },
  {
   "cell_type": "code",
   "execution_count": 20,
   "metadata": {},
   "outputs": [
    {
     "data": {
      "text/plain": [
       "23021"
      ]
     },
     "execution_count": 20,
     "metadata": {},
     "output_type": "execute_result"
    }
   ],
   "source": [
    "len(list(meas_df['person_id'].unique()))"
   ]
  },
  {
   "cell_type": "code",
   "execution_count": 21,
   "metadata": {},
   "outputs": [],
   "source": [
    "meas_df=meas_df[meas_df['visit_occurrence_id'].isin(list(cond_df['visit_occurrence_id'].unique()))]"
   ]
  },
  {
   "cell_type": "code",
   "execution_count": 22,
   "metadata": {},
   "outputs": [
    {
     "data": {
      "text/plain": [
       "17976"
      ]
     },
     "execution_count": 22,
     "metadata": {},
     "output_type": "execute_result"
    }
   ],
   "source": [
    "len(list(meas_df['person_id'].unique()))"
   ]
  },
  {
   "cell_type": "code",
   "execution_count": 23,
   "metadata": {},
   "outputs": [
    {
     "data": {
      "text/plain": [
       "200475"
      ]
     },
     "execution_count": 23,
     "metadata": {},
     "output_type": "execute_result"
    }
   ],
   "source": [
    "len(list(meas_df['visit_occurrence_id'].unique()))"
   ]
  },
  {
   "cell_type": "code",
   "execution_count": 24,
   "metadata": {},
   "outputs": [
    {
     "data": {
      "text/plain": [
       "470954"
      ]
     },
     "execution_count": 24,
     "metadata": {},
     "output_type": "execute_result"
    }
   ],
   "source": [
    "len(list(cond_df['visit_occurrence_id'].unique()))"
   ]
  },
  {
   "cell_type": "code",
   "execution_count": 23,
   "metadata": {},
   "outputs": [],
   "source": [
    "#####Done selecting cohort###################"
   ]
  },
  {
   "cell_type": "code",
   "execution_count": null,
   "metadata": {},
   "outputs": [],
   "source": [
    "###############COND################"
   ]
  },
  {
   "cell_type": "code",
   "execution_count": 2,
   "metadata": {},
   "outputs": [
    {
     "name": "stderr",
     "output_type": "stream",
     "text": [
      "Downloading: 100%|██████████| 16132747/16132747 [46:52<00:00, 5735.31rows/s]\n"
     ]
    },
    {
     "data": {
      "text/html": [
       "<div>\n",
       "<style scoped>\n",
       "    .dataframe tbody tr th:only-of-type {\n",
       "        vertical-align: middle;\n",
       "    }\n",
       "\n",
       "    .dataframe tbody tr th {\n",
       "        vertical-align: top;\n",
       "    }\n",
       "\n",
       "    .dataframe thead th {\n",
       "        text-align: right;\n",
       "    }\n",
       "</style>\n",
       "<table border=\"1\" class=\"dataframe\">\n",
       "  <thead>\n",
       "    <tr style=\"text-align: right;\">\n",
       "      <th></th>\n",
       "      <th>condition_occurrence_id</th>\n",
       "      <th>person_id</th>\n",
       "      <th>condition_concept_id</th>\n",
       "      <th>condition_start_date</th>\n",
       "      <th>condition_start_datetime</th>\n",
       "      <th>condition_end_date</th>\n",
       "      <th>condition_end_datetime</th>\n",
       "      <th>condition_type_concept_id</th>\n",
       "      <th>stop_reason</th>\n",
       "      <th>provider_id</th>\n",
       "      <th>visit_occurrence_id</th>\n",
       "      <th>condition_source_value</th>\n",
       "      <th>condition_source_concept_id</th>\n",
       "      <th>condition_status_source_value</th>\n",
       "      <th>condition_status_concept_id</th>\n",
       "    </tr>\n",
       "  </thead>\n",
       "  <tbody>\n",
       "    <tr>\n",
       "      <th>0</th>\n",
       "      <td>11000000124076176</td>\n",
       "      <td>1474841</td>\n",
       "      <td>312327</td>\n",
       "      <td>2014-03-13</td>\n",
       "      <td>2014-03-13 09:31:00.100780+00:00</td>\n",
       "      <td>NaT</td>\n",
       "      <td>NaT</td>\n",
       "      <td>44786627</td>\n",
       "      <td>None</td>\n",
       "      <td>None</td>\n",
       "      <td>1.100000e+16</td>\n",
       "      <td>410.90</td>\n",
       "      <td>44835928.0</td>\n",
       "      <td>89100005</td>\n",
       "      <td>4230359</td>\n",
       "    </tr>\n",
       "    <tr>\n",
       "      <th>1</th>\n",
       "      <td>11000000112219182</td>\n",
       "      <td>1474841</td>\n",
       "      <td>312327</td>\n",
       "      <td>2014-08-09</td>\n",
       "      <td>2014-08-09 16:23:00.101140+00:00</td>\n",
       "      <td>NaT</td>\n",
       "      <td>NaT</td>\n",
       "      <td>44786627</td>\n",
       "      <td>None</td>\n",
       "      <td>None</td>\n",
       "      <td>1.100000e+16</td>\n",
       "      <td>410.90</td>\n",
       "      <td>44835928.0</td>\n",
       "      <td>89100005</td>\n",
       "      <td>4230359</td>\n",
       "    </tr>\n",
       "    <tr>\n",
       "      <th>2</th>\n",
       "      <td>11000000128814265</td>\n",
       "      <td>1474841</td>\n",
       "      <td>312327</td>\n",
       "      <td>2014-03-06</td>\n",
       "      <td>2014-03-06 09:22:00.100700+00:00</td>\n",
       "      <td>NaT</td>\n",
       "      <td>NaT</td>\n",
       "      <td>44786627</td>\n",
       "      <td>None</td>\n",
       "      <td>None</td>\n",
       "      <td>1.100000e+16</td>\n",
       "      <td>410.90</td>\n",
       "      <td>44835928.0</td>\n",
       "      <td>89100005</td>\n",
       "      <td>4230359</td>\n",
       "    </tr>\n",
       "    <tr>\n",
       "      <th>3</th>\n",
       "      <td>11000000152666815</td>\n",
       "      <td>1474841</td>\n",
       "      <td>312327</td>\n",
       "      <td>2014-08-28</td>\n",
       "      <td>2014-08-28 09:30:00.101340+00:00</td>\n",
       "      <td>NaT</td>\n",
       "      <td>NaT</td>\n",
       "      <td>44786627</td>\n",
       "      <td>None</td>\n",
       "      <td>None</td>\n",
       "      <td>1.100000e+16</td>\n",
       "      <td>410.90</td>\n",
       "      <td>44835928.0</td>\n",
       "      <td>89100005</td>\n",
       "      <td>4230359</td>\n",
       "    </tr>\n",
       "    <tr>\n",
       "      <th>4</th>\n",
       "      <td>25000000004351992</td>\n",
       "      <td>1518849</td>\n",
       "      <td>4185932</td>\n",
       "      <td>2014-02-24</td>\n",
       "      <td>2014-02-24 05:00:00+00:00</td>\n",
       "      <td>2014-02-24</td>\n",
       "      <td>NaT</td>\n",
       "      <td>44786627</td>\n",
       "      <td>None</td>\n",
       "      <td>None</td>\n",
       "      <td>2.508000e+16</td>\n",
       "      <td>411.89</td>\n",
       "      <td>44820863.0</td>\n",
       "      <td>89100005</td>\n",
       "      <td>4230359</td>\n",
       "    </tr>\n",
       "  </tbody>\n",
       "</table>\n",
       "</div>"
      ],
      "text/plain": [
       "   condition_occurrence_id  person_id  condition_concept_id  \\\n",
       "0        11000000124076176    1474841                312327   \n",
       "1        11000000112219182    1474841                312327   \n",
       "2        11000000128814265    1474841                312327   \n",
       "3        11000000152666815    1474841                312327   \n",
       "4        25000000004351992    1518849               4185932   \n",
       "\n",
       "  condition_start_date         condition_start_datetime condition_end_date  \\\n",
       "0           2014-03-13 2014-03-13 09:31:00.100780+00:00                NaT   \n",
       "1           2014-08-09 2014-08-09 16:23:00.101140+00:00                NaT   \n",
       "2           2014-03-06 2014-03-06 09:22:00.100700+00:00                NaT   \n",
       "3           2014-08-28 2014-08-28 09:30:00.101340+00:00                NaT   \n",
       "4           2014-02-24        2014-02-24 05:00:00+00:00         2014-02-24   \n",
       "\n",
       "  condition_end_datetime  condition_type_concept_id stop_reason provider_id  \\\n",
       "0                    NaT                   44786627        None        None   \n",
       "1                    NaT                   44786627        None        None   \n",
       "2                    NaT                   44786627        None        None   \n",
       "3                    NaT                   44786627        None        None   \n",
       "4                    NaT                   44786627        None        None   \n",
       "\n",
       "   visit_occurrence_id condition_source_value  condition_source_concept_id  \\\n",
       "0         1.100000e+16                 410.90                   44835928.0   \n",
       "1         1.100000e+16                 410.90                   44835928.0   \n",
       "2         1.100000e+16                 410.90                   44835928.0   \n",
       "3         1.100000e+16                 410.90                   44835928.0   \n",
       "4         2.508000e+16                 411.89                   44820863.0   \n",
       "\n",
       "  condition_status_source_value condition_status_concept_id  \n",
       "0                      89100005                     4230359  \n",
       "1                      89100005                     4230359  \n",
       "2                      89100005                     4230359  \n",
       "3                      89100005                     4230359  \n",
       "4                      89100005                     4230359  "
      ]
     },
     "execution_count": 2,
     "metadata": {},
     "output_type": "execute_result"
    }
   ],
   "source": [
    "cond_sql = \"\"\"\n",
    "    SELECT *\n",
    "    from\n",
    "        `\"\"\" + os.environ[\"WORKSPACE_CDR\"] + \"\"\".condition_occurrence` cond \n",
    "        WHERE\n",
    "        cond.PERSON_ID IN (\n",
    "            select\n",
    "                person_id  \n",
    "            from\n",
    "                `\"\"\" + os.environ[\"WORKSPACE_CDR\"] + \"\"\".cb_search_person` cb_search_person  \n",
    "            where\n",
    "                cb_search_person.person_id in (\n",
    "                    select\n",
    "                        person_id \n",
    "                    from\n",
    "                        `\"\"\" + os.environ[\"WORKSPACE_CDR\"] + \"\"\".person` p \n",
    "                    where\n",
    "                        sex_at_birth_concept_id in (45880669) \n",
    "                ) \n",
    "            )\"\"\"\n",
    "\n",
    "cond_df = pd.read_gbq(cond_sql, dialect=\"standard\")\n",
    "cond_df.head(5)"
   ]
  },
  {
   "cell_type": "code",
   "execution_count": 3,
   "metadata": {},
   "outputs": [
    {
     "data": {
      "text/plain": [
       "(16132747, 15)"
      ]
     },
     "execution_count": 3,
     "metadata": {},
     "output_type": "execute_result"
    }
   ],
   "source": [
    "cond_df.shape"
   ]
  },
  {
   "cell_type": "code",
   "execution_count": null,
   "metadata": {},
   "outputs": [],
   "source": [
    "cond_df.to_csv('condM.csv',index=False)"
   ]
  },
  {
   "cell_type": "code",
   "execution_count": 2,
   "metadata": {},
   "outputs": [
    {
     "name": "stderr",
     "output_type": "stream",
     "text": [
      "/usr/local/lib/python3.7/dist-packages/IPython/core/interactiveshell.py:3146: DtypeWarning: Columns (13) have mixed types. Specify dtype option on import or set low_memory=False.\n",
      "  interactivity=interactivity, compiler=compiler, result=result)\n"
     ]
    }
   ],
   "source": [
    "cond_df=pd.read_csv('condM.csv',header=0)"
   ]
  },
  {
   "cell_type": "code",
   "execution_count": 3,
   "metadata": {},
   "outputs": [
    {
     "data": {
      "text/plain": [
       "(16132747, 15)"
      ]
     },
     "execution_count": 3,
     "metadata": {},
     "output_type": "execute_result"
    }
   ],
   "source": [
    "cond_df.shape"
   ]
  },
  {
   "cell_type": "code",
   "execution_count": 4,
   "metadata": {},
   "outputs": [
    {
     "data": {
      "text/html": [
       "<div>\n",
       "<style scoped>\n",
       "    .dataframe tbody tr th:only-of-type {\n",
       "        vertical-align: middle;\n",
       "    }\n",
       "\n",
       "    .dataframe tbody tr th {\n",
       "        vertical-align: top;\n",
       "    }\n",
       "\n",
       "    .dataframe thead th {\n",
       "        text-align: right;\n",
       "    }\n",
       "</style>\n",
       "<table border=\"1\" class=\"dataframe\">\n",
       "  <thead>\n",
       "    <tr style=\"text-align: right;\">\n",
       "      <th></th>\n",
       "      <th>condition_occurrence_id</th>\n",
       "      <th>person_id</th>\n",
       "      <th>condition_concept_id</th>\n",
       "      <th>condition_start_date</th>\n",
       "      <th>condition_start_datetime</th>\n",
       "      <th>condition_end_date</th>\n",
       "      <th>condition_end_datetime</th>\n",
       "      <th>condition_type_concept_id</th>\n",
       "      <th>stop_reason</th>\n",
       "      <th>provider_id</th>\n",
       "      <th>visit_occurrence_id</th>\n",
       "      <th>condition_source_value</th>\n",
       "      <th>condition_source_concept_id</th>\n",
       "      <th>condition_status_source_value</th>\n",
       "      <th>condition_status_concept_id</th>\n",
       "    </tr>\n",
       "  </thead>\n",
       "  <tbody>\n",
       "    <tr>\n",
       "      <th>0</th>\n",
       "      <td>11000000124076176</td>\n",
       "      <td>1474841</td>\n",
       "      <td>312327</td>\n",
       "      <td>2014-03-13</td>\n",
       "      <td>2014-03-13 09:31:00.100780+00:00</td>\n",
       "      <td>NaN</td>\n",
       "      <td>NaN</td>\n",
       "      <td>44786627</td>\n",
       "      <td>NaN</td>\n",
       "      <td>NaN</td>\n",
       "      <td>1.100000e+16</td>\n",
       "      <td>410.90</td>\n",
       "      <td>44835928.0</td>\n",
       "      <td>89100005</td>\n",
       "      <td>4230359.0</td>\n",
       "    </tr>\n",
       "    <tr>\n",
       "      <th>1</th>\n",
       "      <td>11000000112219182</td>\n",
       "      <td>1474841</td>\n",
       "      <td>312327</td>\n",
       "      <td>2014-08-09</td>\n",
       "      <td>2014-08-09 16:23:00.101140+00:00</td>\n",
       "      <td>NaN</td>\n",
       "      <td>NaN</td>\n",
       "      <td>44786627</td>\n",
       "      <td>NaN</td>\n",
       "      <td>NaN</td>\n",
       "      <td>1.100000e+16</td>\n",
       "      <td>410.90</td>\n",
       "      <td>44835928.0</td>\n",
       "      <td>89100005</td>\n",
       "      <td>4230359.0</td>\n",
       "    </tr>\n",
       "    <tr>\n",
       "      <th>2</th>\n",
       "      <td>11000000128814265</td>\n",
       "      <td>1474841</td>\n",
       "      <td>312327</td>\n",
       "      <td>2014-03-06</td>\n",
       "      <td>2014-03-06 09:22:00.100700+00:00</td>\n",
       "      <td>NaN</td>\n",
       "      <td>NaN</td>\n",
       "      <td>44786627</td>\n",
       "      <td>NaN</td>\n",
       "      <td>NaN</td>\n",
       "      <td>1.100000e+16</td>\n",
       "      <td>410.90</td>\n",
       "      <td>44835928.0</td>\n",
       "      <td>89100005</td>\n",
       "      <td>4230359.0</td>\n",
       "    </tr>\n",
       "    <tr>\n",
       "      <th>3</th>\n",
       "      <td>11000000152666815</td>\n",
       "      <td>1474841</td>\n",
       "      <td>312327</td>\n",
       "      <td>2014-08-28</td>\n",
       "      <td>2014-08-28 09:30:00.101340+00:00</td>\n",
       "      <td>NaN</td>\n",
       "      <td>NaN</td>\n",
       "      <td>44786627</td>\n",
       "      <td>NaN</td>\n",
       "      <td>NaN</td>\n",
       "      <td>1.100000e+16</td>\n",
       "      <td>410.90</td>\n",
       "      <td>44835928.0</td>\n",
       "      <td>89100005</td>\n",
       "      <td>4230359.0</td>\n",
       "    </tr>\n",
       "    <tr>\n",
       "      <th>4</th>\n",
       "      <td>25000000004351992</td>\n",
       "      <td>1518849</td>\n",
       "      <td>4185932</td>\n",
       "      <td>2014-02-24</td>\n",
       "      <td>2014-02-24 05:00:00+00:00</td>\n",
       "      <td>2014-02-24</td>\n",
       "      <td>NaN</td>\n",
       "      <td>44786627</td>\n",
       "      <td>NaN</td>\n",
       "      <td>NaN</td>\n",
       "      <td>2.508000e+16</td>\n",
       "      <td>411.89</td>\n",
       "      <td>44820863.0</td>\n",
       "      <td>89100005</td>\n",
       "      <td>4230359.0</td>\n",
       "    </tr>\n",
       "  </tbody>\n",
       "</table>\n",
       "</div>"
      ],
      "text/plain": [
       "   condition_occurrence_id  person_id  condition_concept_id  \\\n",
       "0        11000000124076176    1474841                312327   \n",
       "1        11000000112219182    1474841                312327   \n",
       "2        11000000128814265    1474841                312327   \n",
       "3        11000000152666815    1474841                312327   \n",
       "4        25000000004351992    1518849               4185932   \n",
       "\n",
       "  condition_start_date          condition_start_datetime condition_end_date  \\\n",
       "0           2014-03-13  2014-03-13 09:31:00.100780+00:00                NaN   \n",
       "1           2014-08-09  2014-08-09 16:23:00.101140+00:00                NaN   \n",
       "2           2014-03-06  2014-03-06 09:22:00.100700+00:00                NaN   \n",
       "3           2014-08-28  2014-08-28 09:30:00.101340+00:00                NaN   \n",
       "4           2014-02-24         2014-02-24 05:00:00+00:00         2014-02-24   \n",
       "\n",
       "  condition_end_datetime  condition_type_concept_id  stop_reason  provider_id  \\\n",
       "0                    NaN                   44786627          NaN          NaN   \n",
       "1                    NaN                   44786627          NaN          NaN   \n",
       "2                    NaN                   44786627          NaN          NaN   \n",
       "3                    NaN                   44786627          NaN          NaN   \n",
       "4                    NaN                   44786627          NaN          NaN   \n",
       "\n",
       "   visit_occurrence_id condition_source_value  condition_source_concept_id  \\\n",
       "0         1.100000e+16                 410.90                   44835928.0   \n",
       "1         1.100000e+16                 410.90                   44835928.0   \n",
       "2         1.100000e+16                 410.90                   44835928.0   \n",
       "3         1.100000e+16                 410.90                   44835928.0   \n",
       "4         2.508000e+16                 411.89                   44820863.0   \n",
       "\n",
       "  condition_status_source_value  condition_status_concept_id  \n",
       "0                      89100005                    4230359.0  \n",
       "1                      89100005                    4230359.0  \n",
       "2                      89100005                    4230359.0  \n",
       "3                      89100005                    4230359.0  \n",
       "4                      89100005                    4230359.0  "
      ]
     },
     "execution_count": 4,
     "metadata": {},
     "output_type": "execute_result"
    }
   ],
   "source": [
    "cond_df.head()"
   ]
  },
  {
   "cell_type": "code",
   "execution_count": 5,
   "metadata": {},
   "outputs": [
    {
     "data": {
      "text/plain": [
       "71121"
      ]
     },
     "execution_count": 5,
     "metadata": {},
     "output_type": "execute_result"
    }
   ],
   "source": [
    "len(list(cond_df['person_id'].unique()))"
   ]
  },
  {
   "cell_type": "code",
   "execution_count": null,
   "metadata": {},
   "outputs": [],
   "source": [
    "##############Combine with visit data to get age####################"
   ]
  },
  {
   "cell_type": "code",
   "execution_count": 6,
   "metadata": {},
   "outputs": [],
   "source": [
    "visit=pd.read_csv('visitMale.csv',header=0)"
   ]
  },
  {
   "cell_type": "code",
   "execution_count": 7,
   "metadata": {},
   "outputs": [
    {
     "data": {
      "text/html": [
       "<div>\n",
       "<style scoped>\n",
       "    .dataframe tbody tr th:only-of-type {\n",
       "        vertical-align: middle;\n",
       "    }\n",
       "\n",
       "    .dataframe tbody tr th {\n",
       "        vertical-align: top;\n",
       "    }\n",
       "\n",
       "    .dataframe thead th {\n",
       "        text-align: right;\n",
       "    }\n",
       "</style>\n",
       "<table border=\"1\" class=\"dataframe\">\n",
       "  <thead>\n",
       "    <tr style=\"text-align: right;\">\n",
       "      <th></th>\n",
       "      <th>visit_occurrence_id</th>\n",
       "      <th>person_id</th>\n",
       "      <th>visit_start_datetime</th>\n",
       "      <th>visit_end_datetime</th>\n",
       "      <th>preceding_visit_occurrence_id</th>\n",
       "      <th>age</th>\n",
       "    </tr>\n",
       "  </thead>\n",
       "  <tbody>\n",
       "    <tr>\n",
       "      <th>0</th>\n",
       "      <td>1000000787374207</td>\n",
       "      <td>1000091</td>\n",
       "      <td>2018-11-28 19:17:03+00:00</td>\n",
       "      <td>2018-11-28 19:17:03+00:00</td>\n",
       "      <td>NaN</td>\n",
       "      <td>790.526784</td>\n",
       "    </tr>\n",
       "    <tr>\n",
       "      <th>1</th>\n",
       "      <td>25080000095431272</td>\n",
       "      <td>1000093</td>\n",
       "      <td>2008-11-17 05:00:00+00:00</td>\n",
       "      <td>NaN</td>\n",
       "      <td>NaN</td>\n",
       "      <td>107.706944</td>\n",
       "    </tr>\n",
       "    <tr>\n",
       "      <th>2</th>\n",
       "      <td>25080000092412028</td>\n",
       "      <td>1000093</td>\n",
       "      <td>2009-03-13 05:00:00+00:00</td>\n",
       "      <td>NaN</td>\n",
       "      <td>NaN</td>\n",
       "      <td>111.573611</td>\n",
       "    </tr>\n",
       "    <tr>\n",
       "      <th>3</th>\n",
       "      <td>25080000086507289</td>\n",
       "      <td>1000093</td>\n",
       "      <td>2010-05-03 05:00:00+00:00</td>\n",
       "      <td>NaN</td>\n",
       "      <td>NaN</td>\n",
       "      <td>125.440278</td>\n",
       "    </tr>\n",
       "    <tr>\n",
       "      <th>4</th>\n",
       "      <td>25080000076363926</td>\n",
       "      <td>1000093</td>\n",
       "      <td>2010-11-25 05:00:00+00:00</td>\n",
       "      <td>NaN</td>\n",
       "      <td>NaN</td>\n",
       "      <td>132.306944</td>\n",
       "    </tr>\n",
       "  </tbody>\n",
       "</table>\n",
       "</div>"
      ],
      "text/plain": [
       "   visit_occurrence_id  person_id       visit_start_datetime  \\\n",
       "0     1000000787374207    1000091  2018-11-28 19:17:03+00:00   \n",
       "1    25080000095431272    1000093  2008-11-17 05:00:00+00:00   \n",
       "2    25080000092412028    1000093  2009-03-13 05:00:00+00:00   \n",
       "3    25080000086507289    1000093  2010-05-03 05:00:00+00:00   \n",
       "4    25080000076363926    1000093  2010-11-25 05:00:00+00:00   \n",
       "\n",
       "          visit_end_datetime  preceding_visit_occurrence_id         age  \n",
       "0  2018-11-28 19:17:03+00:00                            NaN  790.526784  \n",
       "1                        NaN                            NaN  107.706944  \n",
       "2                        NaN                            NaN  111.573611  \n",
       "3                        NaN                            NaN  125.440278  \n",
       "4                        NaN                            NaN  132.306944  "
      ]
     },
     "execution_count": 7,
     "metadata": {},
     "output_type": "execute_result"
    }
   ],
   "source": [
    "visit.head()"
   ]
  },
  {
   "cell_type": "code",
   "execution_count": 8,
   "metadata": {},
   "outputs": [
    {
     "name": "stderr",
     "output_type": "stream",
     "text": [
      "/usr/local/lib/python3.7/dist-packages/pandas/core/reshape/merge.py:1089: UserWarning: You are merging on int and float columns where the float values are not equal to their int representation\n",
      "  UserWarning,\n"
     ]
    }
   ],
   "source": [
    "cond_df=pd.merge(cond_df,visit[['visit_occurrence_id', 'person_id','age']],how='left',on=['person_id','visit_occurrence_id'])"
   ]
  },
  {
   "cell_type": "code",
   "execution_count": 9,
   "metadata": {},
   "outputs": [],
   "source": [
    "cond_df = cond_df[cond_df['age'].notna()]"
   ]
  },
  {
   "cell_type": "code",
   "execution_count": 10,
   "metadata": {},
   "outputs": [
    {
     "data": {
      "text/plain": [
       "(7209718, 16)"
      ]
     },
     "execution_count": 10,
     "metadata": {},
     "output_type": "execute_result"
    }
   ],
   "source": [
    "cond_df.shape"
   ]
  },
  {
   "cell_type": "code",
   "execution_count": 11,
   "metadata": {},
   "outputs": [
    {
     "data": {
      "text/plain": [
       "54781"
      ]
     },
     "execution_count": 11,
     "metadata": {},
     "output_type": "execute_result"
    }
   ],
   "source": [
    "len(list(cond_df['person_id'].unique()))"
   ]
  },
  {
   "cell_type": "code",
   "execution_count": 12,
   "metadata": {},
   "outputs": [],
   "source": [
    "cond_df.to_csv('condM.csv',index=False)"
   ]
  },
  {
   "cell_type": "code",
   "execution_count": 13,
   "metadata": {},
   "outputs": [
    {
     "data": {
      "text/plain": [
       "18347"
      ]
     },
     "execution_count": 13,
     "metadata": {},
     "output_type": "execute_result"
    }
   ],
   "source": [
    "len(list(cond_df['condition_concept_id'].unique()))"
   ]
  },
  {
   "cell_type": "code",
   "execution_count": null,
   "metadata": {},
   "outputs": [],
   "source": [
    "#########Code Statistics##############"
   ]
  },
  {
   "cell_type": "code",
   "execution_count": 20,
   "metadata": {},
   "outputs": [],
   "source": [
    "ncond = (cond_df[['condition_concept_id','person_id','visit_occurrence_id']].groupby(['condition_concept_id']).count()).reset_index()"
   ]
  },
  {
   "cell_type": "code",
   "execution_count": 21,
   "metadata": {},
   "outputs": [
    {
     "data": {
      "text/plain": [
       "46286594"
      ]
     },
     "execution_count": 21,
     "metadata": {},
     "output_type": "execute_result"
    }
   ],
   "source": [
    "ncond['condition_concept_id'].max()"
   ]
  },
  {
   "cell_type": "code",
   "execution_count": 22,
   "metadata": {},
   "outputs": [
    {
     "data": {
      "text/plain": [
       "7965424.845914863"
      ]
     },
     "execution_count": 22,
     "metadata": {},
     "output_type": "execute_result"
    }
   ],
   "source": [
    "ncond['condition_concept_id'].mean()"
   ]
  },
  {
   "cell_type": "code",
   "execution_count": 23,
   "metadata": {},
   "outputs": [
    {
     "data": {
      "text/plain": [
       "0"
      ]
     },
     "execution_count": 23,
     "metadata": {},
     "output_type": "execute_result"
    }
   ],
   "source": [
    "ncond['condition_concept_id'].min()"
   ]
  },
  {
   "cell_type": "code",
   "execution_count": 24,
   "metadata": {},
   "outputs": [
    {
     "data": {
      "text/plain": [
       "(2638, 3)"
      ]
     },
     "execution_count": 24,
     "metadata": {},
     "output_type": "execute_result"
    }
   ],
   "source": [
    "######Number of condition codes above mean##################\n",
    "ncond[ncond['condition_concept_id']>7760039].shape"
   ]
  },
  {
   "cell_type": "code",
   "execution_count": 25,
   "metadata": {},
   "outputs": [
    {
     "data": {
      "text/plain": [
       "(15709, 3)"
      ]
     },
     "execution_count": 25,
     "metadata": {},
     "output_type": "execute_result"
    }
   ],
   "source": [
    "######Number of condition codes below mean##################\n",
    "ncond[ncond['condition_concept_id']<=7760039].shape"
   ]
  },
  {
   "cell_type": "code",
   "execution_count": 26,
   "metadata": {},
   "outputs": [],
   "source": [
    "#####Population loevel nCond###########\n",
    "ncond=cond_df[['condition_concept_id','person_id']].groupby(['condition_concept_id','person_id']).size().reset_index(name='counts')"
   ]
  },
  {
   "cell_type": "code",
   "execution_count": 27,
   "metadata": {},
   "outputs": [
    {
     "data": {
      "text/html": [
       "<div>\n",
       "<style scoped>\n",
       "    .dataframe tbody tr th:only-of-type {\n",
       "        vertical-align: middle;\n",
       "    }\n",
       "\n",
       "    .dataframe tbody tr th {\n",
       "        vertical-align: top;\n",
       "    }\n",
       "\n",
       "    .dataframe thead th {\n",
       "        text-align: right;\n",
       "    }\n",
       "</style>\n",
       "<table border=\"1\" class=\"dataframe\">\n",
       "  <thead>\n",
       "    <tr style=\"text-align: right;\">\n",
       "      <th></th>\n",
       "      <th>condition_concept_id</th>\n",
       "      <th>person_id</th>\n",
       "      <th>counts</th>\n",
       "    </tr>\n",
       "  </thead>\n",
       "  <tbody>\n",
       "    <tr>\n",
       "      <th>0</th>\n",
       "      <td>0</td>\n",
       "      <td>1000104</td>\n",
       "      <td>28</td>\n",
       "    </tr>\n",
       "    <tr>\n",
       "      <th>1</th>\n",
       "      <td>0</td>\n",
       "      <td>1000109</td>\n",
       "      <td>13</td>\n",
       "    </tr>\n",
       "    <tr>\n",
       "      <th>2</th>\n",
       "      <td>0</td>\n",
       "      <td>1001161</td>\n",
       "      <td>13</td>\n",
       "    </tr>\n",
       "    <tr>\n",
       "      <th>3</th>\n",
       "      <td>0</td>\n",
       "      <td>1001290</td>\n",
       "      <td>1</td>\n",
       "    </tr>\n",
       "    <tr>\n",
       "      <th>4</th>\n",
       "      <td>0</td>\n",
       "      <td>1001591</td>\n",
       "      <td>31</td>\n",
       "    </tr>\n",
       "  </tbody>\n",
       "</table>\n",
       "</div>"
      ],
      "text/plain": [
       "   condition_concept_id  person_id  counts\n",
       "0                     0    1000104      28\n",
       "1                     0    1000109      13\n",
       "2                     0    1001161      13\n",
       "3                     0    1001290       1\n",
       "4                     0    1001591      31"
      ]
     },
     "execution_count": 27,
     "metadata": {},
     "output_type": "execute_result"
    }
   ],
   "source": [
    "ncond.head()"
   ]
  },
  {
   "cell_type": "code",
   "execution_count": 28,
   "metadata": {},
   "outputs": [],
   "source": [
    "#####Population loevel nCond###########\n",
    "ncond=ncond[['condition_concept_id','person_id']].groupby(['condition_concept_id']).size().reset_index(name='counts')"
   ]
  },
  {
   "cell_type": "code",
   "execution_count": 29,
   "metadata": {},
   "outputs": [
    {
     "data": {
      "text/html": [
       "<div>\n",
       "<style scoped>\n",
       "    .dataframe tbody tr th:only-of-type {\n",
       "        vertical-align: middle;\n",
       "    }\n",
       "\n",
       "    .dataframe tbody tr th {\n",
       "        vertical-align: top;\n",
       "    }\n",
       "\n",
       "    .dataframe thead th {\n",
       "        text-align: right;\n",
       "    }\n",
       "</style>\n",
       "<table border=\"1\" class=\"dataframe\">\n",
       "  <thead>\n",
       "    <tr style=\"text-align: right;\">\n",
       "      <th></th>\n",
       "      <th>condition_concept_id</th>\n",
       "      <th>counts</th>\n",
       "    </tr>\n",
       "  </thead>\n",
       "  <tbody>\n",
       "    <tr>\n",
       "      <th>0</th>\n",
       "      <td>0</td>\n",
       "      <td>6759</td>\n",
       "    </tr>\n",
       "    <tr>\n",
       "      <th>1</th>\n",
       "      <td>22274</td>\n",
       "      <td>3</td>\n",
       "    </tr>\n",
       "    <tr>\n",
       "      <th>2</th>\n",
       "      <td>22281</td>\n",
       "      <td>28</td>\n",
       "    </tr>\n",
       "    <tr>\n",
       "      <th>3</th>\n",
       "      <td>22288</td>\n",
       "      <td>5</td>\n",
       "    </tr>\n",
       "    <tr>\n",
       "      <th>4</th>\n",
       "      <td>22340</td>\n",
       "      <td>96</td>\n",
       "    </tr>\n",
       "  </tbody>\n",
       "</table>\n",
       "</div>"
      ],
      "text/plain": [
       "   condition_concept_id  counts\n",
       "0                     0    6759\n",
       "1                 22274       3\n",
       "2                 22281      28\n",
       "3                 22288       5\n",
       "4                 22340      96"
      ]
     },
     "execution_count": 29,
     "metadata": {},
     "output_type": "execute_result"
    }
   ],
   "source": [
    "ncond.head()"
   ]
  },
  {
   "cell_type": "code",
   "execution_count": 30,
   "metadata": {},
   "outputs": [
    {
     "data": {
      "text/plain": [
       "18553"
      ]
     },
     "execution_count": 30,
     "metadata": {},
     "output_type": "execute_result"
    }
   ],
   "source": [
    "ncond['counts'].max()"
   ]
  },
  {
   "cell_type": "code",
   "execution_count": 31,
   "metadata": {},
   "outputs": [
    {
     "data": {
      "text/plain": [
       "96.59028724042078"
      ]
     },
     "execution_count": 31,
     "metadata": {},
     "output_type": "execute_result"
    }
   ],
   "source": [
    "ncond['counts'].mean()"
   ]
  },
  {
   "cell_type": "code",
   "execution_count": 34,
   "metadata": {},
   "outputs": [
    {
     "data": {
      "text/plain": [
       "(2342, 2)"
      ]
     },
     "execution_count": 34,
     "metadata": {},
     "output_type": "execute_result"
    }
   ],
   "source": [
    "######Number of condition codes above mean##################\n",
    "ncond[ncond['counts']>96].shape"
   ]
  },
  {
   "cell_type": "code",
   "execution_count": 35,
   "metadata": {},
   "outputs": [
    {
     "data": {
      "text/plain": [
       "(16005, 2)"
      ]
     },
     "execution_count": 35,
     "metadata": {},
     "output_type": "execute_result"
    }
   ],
   "source": [
    "\n",
    "######Number of condition codes below mean##################\n",
    "ncond[ncond['counts']<=96].shape"
   ]
  },
  {
   "cell_type": "code",
   "execution_count": 36,
   "metadata": {},
   "outputs": [],
   "source": [
    "acids = ncond[ncond['counts']>96]['condition_concept_id']\n",
    "bcids = ncond[ncond['counts']<=96]['condition_concept_id']"
   ]
  },
  {
   "cell_type": "code",
   "execution_count": null,
   "metadata": {},
   "outputs": [],
   "source": [
    "cond_dfa=cond_df[cond_df['condition_concept_id'].isin(acids)]"
   ]
  },
  {
   "cell_type": "code",
   "execution_count": null,
   "metadata": {},
   "outputs": [],
   "source": [
    "cond_dfa=cond_dfa[['person_id', 'condition_concept_id','visit_occurrence_id','age','concept_name']]"
   ]
  },
  {
   "cell_type": "code",
   "execution_count": null,
   "metadata": {},
   "outputs": [],
   "source": [
    "###########CONCEPT_RELATIONSHIP#################"
   ]
  },
  {
   "cell_type": "code",
   "execution_count": 2,
   "metadata": {},
   "outputs": [
    {
     "name": "stderr",
     "output_type": "stream",
     "text": [
      "Downloading: 100%|██████████| 40886644/40886644 [43:32<00:00, 15651.10rows/s]\n"
     ]
    },
    {
     "data": {
      "text/html": [
       "<div>\n",
       "<style scoped>\n",
       "    .dataframe tbody tr th:only-of-type {\n",
       "        vertical-align: middle;\n",
       "    }\n",
       "\n",
       "    .dataframe tbody tr th {\n",
       "        vertical-align: top;\n",
       "    }\n",
       "\n",
       "    .dataframe thead th {\n",
       "        text-align: right;\n",
       "    }\n",
       "</style>\n",
       "<table border=\"1\" class=\"dataframe\">\n",
       "  <thead>\n",
       "    <tr style=\"text-align: right;\">\n",
       "      <th></th>\n",
       "      <th>concept_id_1</th>\n",
       "      <th>concept_id_2</th>\n",
       "      <th>relationship_id</th>\n",
       "      <th>valid_start_date</th>\n",
       "      <th>valid_end_date</th>\n",
       "      <th>invalid_reason</th>\n",
       "    </tr>\n",
       "  </thead>\n",
       "  <tbody>\n",
       "    <tr>\n",
       "      <th>0</th>\n",
       "      <td>4297957</td>\n",
       "      <td>46084219</td>\n",
       "      <td>Disp dose form of</td>\n",
       "      <td>2018-07-31</td>\n",
       "      <td>2099-12-31</td>\n",
       "      <td>None</td>\n",
       "    </tr>\n",
       "    <tr>\n",
       "      <th>1</th>\n",
       "      <td>35626985</td>\n",
       "      <td>46210804</td>\n",
       "      <td>Legal category of</td>\n",
       "      <td>2018-07-31</td>\n",
       "      <td>2099-12-31</td>\n",
       "      <td>None</td>\n",
       "    </tr>\n",
       "    <tr>\n",
       "      <th>2</th>\n",
       "      <td>4132161</td>\n",
       "      <td>46050651</td>\n",
       "      <td>Licensed route of</td>\n",
       "      <td>2015-01-31</td>\n",
       "      <td>2099-12-31</td>\n",
       "      <td>None</td>\n",
       "    </tr>\n",
       "    <tr>\n",
       "      <th>3</th>\n",
       "      <td>4294612</td>\n",
       "      <td>4153461</td>\n",
       "      <td>Disp dose form of</td>\n",
       "      <td>2015-01-31</td>\n",
       "      <td>2099-12-31</td>\n",
       "      <td>None</td>\n",
       "    </tr>\n",
       "    <tr>\n",
       "      <th>4</th>\n",
       "      <td>21600747</td>\n",
       "      <td>21061584</td>\n",
       "      <td>Drug class of drug</td>\n",
       "      <td>2015-08-17</td>\n",
       "      <td>2099-12-31</td>\n",
       "      <td>None</td>\n",
       "    </tr>\n",
       "  </tbody>\n",
       "</table>\n",
       "</div>"
      ],
      "text/plain": [
       "   concept_id_1  concept_id_2     relationship_id valid_start_date  \\\n",
       "0       4297957      46084219   Disp dose form of       2018-07-31   \n",
       "1      35626985      46210804   Legal category of       2018-07-31   \n",
       "2       4132161      46050651   Licensed route of       2015-01-31   \n",
       "3       4294612       4153461   Disp dose form of       2015-01-31   \n",
       "4      21600747      21061584  Drug class of drug       2015-08-17   \n",
       "\n",
       "  valid_end_date invalid_reason  \n",
       "0     2099-12-31           None  \n",
       "1     2099-12-31           None  \n",
       "2     2099-12-31           None  \n",
       "3     2099-12-31           None  \n",
       "4     2099-12-31           None  "
      ]
     },
     "execution_count": 2,
     "metadata": {},
     "output_type": "execute_result"
    }
   ],
   "source": [
    "rel_sql = \"\"\"\n",
    "    SELECT *\n",
    "    from\n",
    "        `\"\"\" + os.environ[\"WORKSPACE_CDR\"] + \"\"\".concept_relationship` cond \"\"\"\n",
    "\n",
    "rel_df = pd.read_gbq(rel_sql, dialect=\"standard\")\n",
    "rel_df.head(5)"
   ]
  },
  {
   "cell_type": "code",
   "execution_count": 3,
   "metadata": {},
   "outputs": [
    {
     "data": {
      "text/plain": [
       "Index(['concept_id_1', 'concept_id_2', 'relationship_id', 'valid_start_date',\n",
       "       'valid_end_date', 'invalid_reason'],\n",
       "      dtype='object')"
      ]
     },
     "execution_count": 3,
     "metadata": {},
     "output_type": "execute_result"
    }
   ],
   "source": [
    "rel_df.columns"
   ]
  },
  {
   "cell_type": "code",
   "execution_count": 4,
   "metadata": {},
   "outputs": [],
   "source": [
    "rel_df=rel_df[['concept_id_1', 'concept_id_2', 'relationship_id']]"
   ]
  },
  {
   "cell_type": "code",
   "execution_count": 5,
   "metadata": {},
   "outputs": [],
   "source": [
    "rel_df.to_csv('rel.csv',index=False)"
   ]
  },
  {
   "cell_type": "code",
   "execution_count": 2,
   "metadata": {},
   "outputs": [],
   "source": [
    "###### GROUP CONDS #######"
   ]
  },
  {
   "cell_type": "code",
   "execution_count": 104,
   "metadata": {},
   "outputs": [],
   "source": [
    "rel_df=pd.read_csv('rel.csv',header=0)"
   ]
  },
  {
   "cell_type": "code",
   "execution_count": 105,
   "metadata": {},
   "outputs": [
    {
     "data": {
      "text/html": [
       "<div>\n",
       "<style scoped>\n",
       "    .dataframe tbody tr th:only-of-type {\n",
       "        vertical-align: middle;\n",
       "    }\n",
       "\n",
       "    .dataframe tbody tr th {\n",
       "        vertical-align: top;\n",
       "    }\n",
       "\n",
       "    .dataframe thead th {\n",
       "        text-align: right;\n",
       "    }\n",
       "</style>\n",
       "<table border=\"1\" class=\"dataframe\">\n",
       "  <thead>\n",
       "    <tr style=\"text-align: right;\">\n",
       "      <th></th>\n",
       "      <th>concept_id_1</th>\n",
       "      <th>concept_id_2</th>\n",
       "    </tr>\n",
       "  </thead>\n",
       "  <tbody>\n",
       "    <tr>\n",
       "      <th>0</th>\n",
       "      <td>2847686</td>\n",
       "      <td>2801516</td>\n",
       "    </tr>\n",
       "    <tr>\n",
       "      <th>1</th>\n",
       "      <td>46052272</td>\n",
       "      <td>45968758</td>\n",
       "    </tr>\n",
       "    <tr>\n",
       "      <th>2</th>\n",
       "      <td>46204759</td>\n",
       "      <td>46091834</td>\n",
       "    </tr>\n",
       "    <tr>\n",
       "      <th>3</th>\n",
       "      <td>2752170</td>\n",
       "      <td>2860937</td>\n",
       "    </tr>\n",
       "    <tr>\n",
       "      <th>4</th>\n",
       "      <td>43020006</td>\n",
       "      <td>2806114</td>\n",
       "    </tr>\n",
       "  </tbody>\n",
       "</table>\n",
       "</div>"
      ],
      "text/plain": [
       "   concept_id_1  concept_id_2\n",
       "0       2847686       2801516\n",
       "1      46052272      45968758\n",
       "2      46204759      46091834\n",
       "3       2752170       2860937\n",
       "4      43020006       2806114"
      ]
     },
     "execution_count": 105,
     "metadata": {},
     "output_type": "execute_result"
    }
   ],
   "source": [
    "rel_df.head()"
   ]
  },
  {
   "cell_type": "code",
   "execution_count": 3,
   "metadata": {},
   "outputs": [
    {
     "name": "stderr",
     "output_type": "stream",
     "text": [
      "\n",
      "Downloading: 100%|██████████| 4/4 [00:00<00:00, 43.15rows/s]\n"
     ]
    },
    {
     "data": {
      "text/html": [
       "<div>\n",
       "<style scoped>\n",
       "    .dataframe tbody tr th:only-of-type {\n",
       "        vertical-align: middle;\n",
       "    }\n",
       "\n",
       "    .dataframe tbody tr th {\n",
       "        vertical-align: top;\n",
       "    }\n",
       "\n",
       "    .dataframe thead th {\n",
       "        text-align: right;\n",
       "    }\n",
       "</style>\n",
       "<table border=\"1\" class=\"dataframe\">\n",
       "  <thead>\n",
       "    <tr style=\"text-align: right;\">\n",
       "      <th></th>\n",
       "      <th>concept_id</th>\n",
       "      <th>concept_name</th>\n",
       "      <th>domain_id</th>\n",
       "      <th>vocabulary_id</th>\n",
       "      <th>concept_class_id</th>\n",
       "      <th>standard_concept</th>\n",
       "      <th>concept_code</th>\n",
       "      <th>valid_start_date</th>\n",
       "      <th>valid_end_date</th>\n",
       "      <th>invalid_reason</th>\n",
       "    </tr>\n",
       "  </thead>\n",
       "  <tbody>\n",
       "    <tr>\n",
       "      <th>0</th>\n",
       "      <td>4109084</td>\n",
       "      <td>Left sided abdominal pain</td>\n",
       "      <td>Condition</td>\n",
       "      <td>SNOMED</td>\n",
       "      <td>Clinical Finding</td>\n",
       "      <td>S</td>\n",
       "      <td>285387005</td>\n",
       "      <td>1970-01-01</td>\n",
       "      <td>2099-12-31</td>\n",
       "      <td>None</td>\n",
       "    </tr>\n",
       "    <tr>\n",
       "      <th>1</th>\n",
       "      <td>194755</td>\n",
       "      <td>Abdominal tenderness of left lower quadrant</td>\n",
       "      <td>Condition</td>\n",
       "      <td>SNOMED</td>\n",
       "      <td>Clinical Finding</td>\n",
       "      <td>S</td>\n",
       "      <td>439774009</td>\n",
       "      <td>2009-01-31</td>\n",
       "      <td>2099-12-31</td>\n",
       "      <td>None</td>\n",
       "    </tr>\n",
       "    <tr>\n",
       "      <th>2</th>\n",
       "      <td>195083</td>\n",
       "      <td>Left lower quadrant pain</td>\n",
       "      <td>Condition</td>\n",
       "      <td>SNOMED</td>\n",
       "      <td>Clinical Finding</td>\n",
       "      <td>S</td>\n",
       "      <td>301716002</td>\n",
       "      <td>1970-01-01</td>\n",
       "      <td>2099-12-31</td>\n",
       "      <td>None</td>\n",
       "    </tr>\n",
       "    <tr>\n",
       "      <th>3</th>\n",
       "      <td>4182562</td>\n",
       "      <td>Lower abdominal pain</td>\n",
       "      <td>Condition</td>\n",
       "      <td>SNOMED</td>\n",
       "      <td>Clinical Finding</td>\n",
       "      <td>S</td>\n",
       "      <td>54586004</td>\n",
       "      <td>1970-01-01</td>\n",
       "      <td>2099-12-31</td>\n",
       "      <td>None</td>\n",
       "    </tr>\n",
       "  </tbody>\n",
       "</table>\n",
       "</div>"
      ],
      "text/plain": [
       "   concept_id                                 concept_name  domain_id  \\\n",
       "0     4109084                    Left sided abdominal pain  Condition   \n",
       "1      194755  Abdominal tenderness of left lower quadrant  Condition   \n",
       "2      195083                     Left lower quadrant pain  Condition   \n",
       "3     4182562                         Lower abdominal pain  Condition   \n",
       "\n",
       "  vocabulary_id  concept_class_id standard_concept concept_code  \\\n",
       "0        SNOMED  Clinical Finding                S    285387005   \n",
       "1        SNOMED  Clinical Finding                S    439774009   \n",
       "2        SNOMED  Clinical Finding                S    301716002   \n",
       "3        SNOMED  Clinical Finding                S     54586004   \n",
       "\n",
       "  valid_start_date valid_end_date invalid_reason  \n",
       "0       1970-01-01     2099-12-31           None  \n",
       "1       2009-01-31     2099-12-31           None  \n",
       "2       1970-01-01     2099-12-31           None  \n",
       "3       1970-01-01     2099-12-31           None  "
      ]
     },
     "execution_count": 3,
     "metadata": {},
     "output_type": "execute_result"
    }
   ],
   "source": [
    "concept_sql = \"\"\"\n",
    "    SELECT *\n",
    "    from\n",
    "        `\"\"\" + os.environ[\"WORKSPACE_CDR\"] + \"\"\".concept` cond \n",
    "    where\n",
    "                    concept_id in (195083,194755,4109084,4182562)\"\"\"\n",
    "\n",
    "concept_df = pd.read_gbq(concept_sql, dialect=\"standard\")\n",
    "concept_df"
   ]
  },
  {
   "cell_type": "code",
   "execution_count": null,
   "metadata": {},
   "outputs": [],
   "source": [
    "concept_df.to_csv('concept.csv',index=False)"
   ]
  },
  {
   "cell_type": "code",
   "execution_count": 53,
   "metadata": {},
   "outputs": [],
   "source": [
    "#########Another Method#############"
   ]
  },
  {
   "cell_type": "code",
   "execution_count": 258,
   "metadata": {},
   "outputs": [],
   "source": [
    "rel_df=rel_df[rel_df['relationship_id']=='Is a']"
   ]
  },
  {
   "cell_type": "code",
   "execution_count": 106,
   "metadata": {},
   "outputs": [
    {
     "data": {
      "text/plain": [
       "Index(['concept_id_1', 'concept_id_2'], dtype='object')"
      ]
     },
     "execution_count": 106,
     "metadata": {},
     "output_type": "execute_result"
    }
   ],
   "source": [
    "rel_df.columns"
   ]
  },
  {
   "cell_type": "code",
   "execution_count": 260,
   "metadata": {},
   "outputs": [],
   "source": [
    "rel_df=rel_df[['concept_id_1', 'concept_id_2']]"
   ]
  },
  {
   "cell_type": "code",
   "execution_count": 113,
   "metadata": {},
   "outputs": [],
   "source": [
    "concept=pd.read_csv('concept.csv',header=0)"
   ]
  },
  {
   "cell_type": "code",
   "execution_count": 108,
   "metadata": {},
   "outputs": [],
   "source": [
    "concept=concept[concept['concept_name'].isin(['General finding of observation of patient','Finding of body region','Disorder of body system','Inflammation of specific body organs','Finding by site','Complication','Disease','Clinical finding','Abdominal organ finding','Acute disease','Chronic disease','Choroidal and/or chorioretinal disorder','Evaluation finding','Disorder by body site','Measurement finding','Measurement finding below reference range','Measurement finding outside reference range','SNOMED CT Concept','Clinical history and observation findings','Degenerative disorder','Disease related state','Disorder in full remission','Finding by method','Functional finding','General body state finding'])]"
   ]
  },
  {
   "cell_type": "code",
   "execution_count": 109,
   "metadata": {},
   "outputs": [],
   "source": [
    "rel_df=rel_df[~rel_df['concept_id_2'].isin(list(concept['concept_id']))]"
   ]
  },
  {
   "cell_type": "code",
   "execution_count": 111,
   "metadata": {},
   "outputs": [
    {
     "data": {
      "text/html": [
       "<div>\n",
       "<style scoped>\n",
       "    .dataframe tbody tr th:only-of-type {\n",
       "        vertical-align: middle;\n",
       "    }\n",
       "\n",
       "    .dataframe tbody tr th {\n",
       "        vertical-align: top;\n",
       "    }\n",
       "\n",
       "    .dataframe thead th {\n",
       "        text-align: right;\n",
       "    }\n",
       "</style>\n",
       "<table border=\"1\" class=\"dataframe\">\n",
       "  <thead>\n",
       "    <tr style=\"text-align: right;\">\n",
       "      <th></th>\n",
       "      <th>concept_id</th>\n",
       "      <th>concept_name</th>\n",
       "    </tr>\n",
       "  </thead>\n",
       "  <tbody>\n",
       "    <tr>\n",
       "      <th>387139</th>\n",
       "      <td>4137797</td>\n",
       "      <td>Complication</td>\n",
       "    </tr>\n",
       "    <tr>\n",
       "      <th>452965</th>\n",
       "      <td>45612949</td>\n",
       "      <td>Disease</td>\n",
       "    </tr>\n",
       "    <tr>\n",
       "      <th>504665</th>\n",
       "      <td>45885572</td>\n",
       "      <td>Chronic disease</td>\n",
       "    </tr>\n",
       "    <tr>\n",
       "      <th>517856</th>\n",
       "      <td>4008453</td>\n",
       "      <td>SNOMED CT Concept</td>\n",
       "    </tr>\n",
       "    <tr>\n",
       "      <th>970511</th>\n",
       "      <td>36308340</td>\n",
       "      <td>Disease</td>\n",
       "    </tr>\n",
       "  </tbody>\n",
       "</table>\n",
       "</div>"
      ],
      "text/plain": [
       "        concept_id       concept_name\n",
       "387139     4137797       Complication\n",
       "452965    45612949            Disease\n",
       "504665    45885572    Chronic disease\n",
       "517856     4008453  SNOMED CT Concept\n",
       "970511    36308340            Disease"
      ]
     },
     "execution_count": 111,
     "metadata": {},
     "output_type": "execute_result"
    }
   ],
   "source": [
    "concept.head()"
   ]
  },
  {
   "cell_type": "code",
   "execution_count": null,
   "metadata": {},
   "outputs": [],
   "source": [
    "concept=pd.read_csv('concept.csv',header=0)"
   ]
  },
  {
   "cell_type": "code",
   "execution_count": 83,
   "metadata": {},
   "outputs": [],
   "source": [
    "concept=concept.rename(columns={'concept_id':'condition_concept_id'})"
   ]
  },
  {
   "cell_type": "code",
   "execution_count": 84,
   "metadata": {},
   "outputs": [],
   "source": [
    "cond_dfa=pd.merge(cond_dfa,concept,how='left',on='condition_concept_id')"
   ]
  },
  {
   "cell_type": "code",
   "execution_count": 85,
   "metadata": {},
   "outputs": [],
   "source": [
    "concept=concept.rename(columns={'condition_concept_id':'concept_id'})"
   ]
  },
  {
   "cell_type": "code",
   "execution_count": 112,
   "metadata": {},
   "outputs": [],
   "source": [
    "rel_df=rel_df[rel_df['concept_id_1']!=43530680]"
   ]
  },
  {
   "cell_type": "code",
   "execution_count": 114,
   "metadata": {},
   "outputs": [],
   "source": [
    "rel_df=rel_df.groupby('concept_id_1').first().reset_index()"
   ]
  },
  {
   "cell_type": "code",
   "execution_count": 117,
   "metadata": {},
   "outputs": [
    {
     "data": {
      "text/html": [
       "<div>\n",
       "<style scoped>\n",
       "    .dataframe tbody tr th:only-of-type {\n",
       "        vertical-align: middle;\n",
       "    }\n",
       "\n",
       "    .dataframe tbody tr th {\n",
       "        vertical-align: top;\n",
       "    }\n",
       "\n",
       "    .dataframe thead th {\n",
       "        text-align: right;\n",
       "    }\n",
       "</style>\n",
       "<table border=\"1\" class=\"dataframe\">\n",
       "  <thead>\n",
       "    <tr style=\"text-align: right;\">\n",
       "      <th></th>\n",
       "      <th>concept_id_1</th>\n",
       "      <th>concept_id</th>\n",
       "      <th>concept_name</th>\n",
       "    </tr>\n",
       "  </thead>\n",
       "  <tbody>\n",
       "    <tr>\n",
       "      <th>0</th>\n",
       "      <td>5084</td>\n",
       "      <td>8756</td>\n",
       "      <td>Outpatient Hospital</td>\n",
       "    </tr>\n",
       "    <tr>\n",
       "      <th>1</th>\n",
       "      <td>8537</td>\n",
       "      <td>581476</td>\n",
       "      <td>Home Visit</td>\n",
       "    </tr>\n",
       "    <tr>\n",
       "      <th>2</th>\n",
       "      <td>8546</td>\n",
       "      <td>42898160</td>\n",
       "      <td>Non-hospital institution Visit</td>\n",
       "    </tr>\n",
       "    <tr>\n",
       "      <th>3</th>\n",
       "      <td>8584</td>\n",
       "      <td>9202</td>\n",
       "      <td>Outpatient Visit</td>\n",
       "    </tr>\n",
       "    <tr>\n",
       "      <th>4</th>\n",
       "      <td>8602</td>\n",
       "      <td>581476</td>\n",
       "      <td>Home Visit</td>\n",
       "    </tr>\n",
       "  </tbody>\n",
       "</table>\n",
       "</div>"
      ],
      "text/plain": [
       "   concept_id_1  concept_id                    concept_name\n",
       "0          5084        8756             Outpatient Hospital\n",
       "1          8537      581476                      Home Visit\n",
       "2          8546    42898160  Non-hospital institution Visit\n",
       "3          8584        9202                Outpatient Visit\n",
       "4          8602      581476                      Home Visit"
      ]
     },
     "execution_count": 117,
     "metadata": {},
     "output_type": "execute_result"
    }
   ],
   "source": [
    "rel_df.head()"
   ]
  },
  {
   "cell_type": "code",
   "execution_count": 116,
   "metadata": {},
   "outputs": [],
   "source": [
    "rel_df=rel_df.rename(columns={'concept_id_2':'concept_id'})\n",
    "rel_df=pd.merge(rel_df, concept, on='concept_id',how='left')"
   ]
  },
  {
   "cell_type": "code",
   "execution_count": 102,
   "metadata": {},
   "outputs": [
    {
     "data": {
      "text/plain": [
       "54335"
      ]
     },
     "execution_count": 102,
     "metadata": {},
     "output_type": "execute_result"
    }
   ],
   "source": [
    "len(list(cond_dfa['person_id'].unique()))"
   ]
  },
  {
   "cell_type": "code",
   "execution_count": 119,
   "metadata": {},
   "outputs": [
    {
     "data": {
      "text/html": [
       "<div>\n",
       "<style scoped>\n",
       "    .dataframe tbody tr th:only-of-type {\n",
       "        vertical-align: middle;\n",
       "    }\n",
       "\n",
       "    .dataframe tbody tr th {\n",
       "        vertical-align: top;\n",
       "    }\n",
       "\n",
       "    .dataframe thead th {\n",
       "        text-align: right;\n",
       "    }\n",
       "</style>\n",
       "<table border=\"1\" class=\"dataframe\">\n",
       "  <thead>\n",
       "    <tr style=\"text-align: right;\">\n",
       "      <th></th>\n",
       "      <th>condition_concept_id</th>\n",
       "      <th>ancestor_id</th>\n",
       "      <th>ancestor_name</th>\n",
       "    </tr>\n",
       "  </thead>\n",
       "  <tbody>\n",
       "    <tr>\n",
       "      <th>0</th>\n",
       "      <td>5084</td>\n",
       "      <td>8756</td>\n",
       "      <td>Outpatient Hospital</td>\n",
       "    </tr>\n",
       "    <tr>\n",
       "      <th>1</th>\n",
       "      <td>8537</td>\n",
       "      <td>581476</td>\n",
       "      <td>Home Visit</td>\n",
       "    </tr>\n",
       "    <tr>\n",
       "      <th>2</th>\n",
       "      <td>8546</td>\n",
       "      <td>42898160</td>\n",
       "      <td>Non-hospital institution Visit</td>\n",
       "    </tr>\n",
       "    <tr>\n",
       "      <th>3</th>\n",
       "      <td>8584</td>\n",
       "      <td>9202</td>\n",
       "      <td>Outpatient Visit</td>\n",
       "    </tr>\n",
       "    <tr>\n",
       "      <th>4</th>\n",
       "      <td>8602</td>\n",
       "      <td>581476</td>\n",
       "      <td>Home Visit</td>\n",
       "    </tr>\n",
       "  </tbody>\n",
       "</table>\n",
       "</div>"
      ],
      "text/plain": [
       "   condition_concept_id  ancestor_id                   ancestor_name\n",
       "0                  5084         8756             Outpatient Hospital\n",
       "1                  8537       581476                      Home Visit\n",
       "2                  8546     42898160  Non-hospital institution Visit\n",
       "3                  8584         9202                Outpatient Visit\n",
       "4                  8602       581476                      Home Visit"
      ]
     },
     "execution_count": 119,
     "metadata": {},
     "output_type": "execute_result"
    }
   ],
   "source": [
    "rel_df.head()"
   ]
  },
  {
   "cell_type": "code",
   "execution_count": 118,
   "metadata": {},
   "outputs": [],
   "source": [
    "rel_df=rel_df.rename(columns={'concept_id_1':'condition_concept_id'})\n",
    "rel_df=rel_df.rename(columns={'concept_id':'ancestor_id'})\n",
    "rel_df=rel_df.rename(columns={'concept_name':'ancestor_name'})"
   ]
  },
  {
   "cell_type": "code",
   "execution_count": 120,
   "metadata": {},
   "outputs": [],
   "source": [
    "cond_dfa=cond_dfa.fillna(0)"
   ]
  },
  {
   "cell_type": "code",
   "execution_count": 121,
   "metadata": {},
   "outputs": [],
   "source": [
    "cond_dfa=cond_dfa[cond_dfa['condition_concept_id']!=0]"
   ]
  },
  {
   "cell_type": "code",
   "execution_count": 122,
   "metadata": {},
   "outputs": [],
   "source": [
    "cond_dfa=pd.merge(cond_dfa, rel_df, on='condition_concept_id',how='left')"
   ]
  },
  {
   "cell_type": "code",
   "execution_count": 123,
   "metadata": {},
   "outputs": [
    {
     "data": {
      "text/plain": [
       "2341"
      ]
     },
     "execution_count": 123,
     "metadata": {},
     "output_type": "execute_result"
    }
   ],
   "source": [
    "len(list(cond_dfa['condition_concept_id'].unique()))"
   ]
  },
  {
   "cell_type": "code",
   "execution_count": 129,
   "metadata": {},
   "outputs": [
    {
     "data": {
      "text/plain": [
       "1630"
      ]
     },
     "execution_count": 129,
     "metadata": {},
     "output_type": "execute_result"
    }
   ],
   "source": [
    "len(list(cond_dfa['ancestor_id'].unique()))"
   ]
  },
  {
   "cell_type": "code",
   "execution_count": 126,
   "metadata": {},
   "outputs": [],
   "source": [
    "cond_dfa=cond_dfa.fillna(0)"
   ]
  },
  {
   "cell_type": "code",
   "execution_count": 128,
   "metadata": {},
   "outputs": [],
   "source": [
    "cond_dfa.loc[cond_dfa['ancestor_id']==0,'ancestor_id']=cond_dfa.loc[cond_dfa['ancestor_id']==0,'condition_concept_id']\n",
    "cond_dfa.loc[cond_dfa['ancestor_name']==0,'ancestor_name']=cond_dfa.loc[cond_dfa['ancestor_name']==0,'concept_name']"
   ]
  },
  {
   "cell_type": "code",
   "execution_count": 42,
   "metadata": {},
   "outputs": [],
   "source": [
    "cond_dfa=pd.read_csv('cond_dfa.csv',header=0)"
   ]
  },
  {
   "cell_type": "code",
   "execution_count": 131,
   "metadata": {},
   "outputs": [],
   "source": [
    "rel_df=rel_df.rename(columns={'ancestor_id':'ancestor_id2'})\n",
    "rel_df=rel_df.rename(columns={'ancestor_name':'ancestor_name2'})\n",
    "rel_df=rel_df.rename(columns={'condition_concept_id':'ancestor_id'})"
   ]
  },
  {
   "cell_type": "code",
   "execution_count": 132,
   "metadata": {},
   "outputs": [
    {
     "data": {
      "text/html": [
       "<div>\n",
       "<style scoped>\n",
       "    .dataframe tbody tr th:only-of-type {\n",
       "        vertical-align: middle;\n",
       "    }\n",
       "\n",
       "    .dataframe tbody tr th {\n",
       "        vertical-align: top;\n",
       "    }\n",
       "\n",
       "    .dataframe thead th {\n",
       "        text-align: right;\n",
       "    }\n",
       "</style>\n",
       "<table border=\"1\" class=\"dataframe\">\n",
       "  <thead>\n",
       "    <tr style=\"text-align: right;\">\n",
       "      <th></th>\n",
       "      <th>ancestor_id</th>\n",
       "      <th>ancestor_id2</th>\n",
       "      <th>ancestor_name2</th>\n",
       "    </tr>\n",
       "  </thead>\n",
       "  <tbody>\n",
       "    <tr>\n",
       "      <th>0</th>\n",
       "      <td>5084</td>\n",
       "      <td>8756</td>\n",
       "      <td>Outpatient Hospital</td>\n",
       "    </tr>\n",
       "    <tr>\n",
       "      <th>1</th>\n",
       "      <td>8537</td>\n",
       "      <td>581476</td>\n",
       "      <td>Home Visit</td>\n",
       "    </tr>\n",
       "    <tr>\n",
       "      <th>2</th>\n",
       "      <td>8546</td>\n",
       "      <td>42898160</td>\n",
       "      <td>Non-hospital institution Visit</td>\n",
       "    </tr>\n",
       "    <tr>\n",
       "      <th>3</th>\n",
       "      <td>8584</td>\n",
       "      <td>9202</td>\n",
       "      <td>Outpatient Visit</td>\n",
       "    </tr>\n",
       "    <tr>\n",
       "      <th>4</th>\n",
       "      <td>8602</td>\n",
       "      <td>581476</td>\n",
       "      <td>Home Visit</td>\n",
       "    </tr>\n",
       "  </tbody>\n",
       "</table>\n",
       "</div>"
      ],
      "text/plain": [
       "   ancestor_id  ancestor_id2                  ancestor_name2\n",
       "0         5084          8756             Outpatient Hospital\n",
       "1         8537        581476                      Home Visit\n",
       "2         8546      42898160  Non-hospital institution Visit\n",
       "3         8584          9202                Outpatient Visit\n",
       "4         8602        581476                      Home Visit"
      ]
     },
     "execution_count": 132,
     "metadata": {},
     "output_type": "execute_result"
    }
   ],
   "source": [
    "rel_df.head()"
   ]
  },
  {
   "cell_type": "code",
   "execution_count": 133,
   "metadata": {},
   "outputs": [],
   "source": [
    "cond_dfa=pd.merge(cond_dfa, rel_df, on=['ancestor_id'],how='left')"
   ]
  },
  {
   "cell_type": "code",
   "execution_count": 139,
   "metadata": {},
   "outputs": [
    {
     "data": {
      "text/plain": [
       "1047"
      ]
     },
     "execution_count": 139,
     "metadata": {},
     "output_type": "execute_result"
    }
   ],
   "source": [
    "len(list(cond_dfa['ancestor_id2'].unique()))"
   ]
  },
  {
   "cell_type": "code",
   "execution_count": 136,
   "metadata": {},
   "outputs": [],
   "source": [
    "cond_dfa=cond_dfa.fillna(0)"
   ]
  },
  {
   "cell_type": "code",
   "execution_count": 138,
   "metadata": {},
   "outputs": [],
   "source": [
    "cond_dfa.loc[cond_dfa['ancestor_id2']==0,'ancestor_id2']=cond_dfa.loc[cond_dfa['ancestor_id2']==0,'ancestor_id']\n",
    "cond_dfa.loc[cond_dfa['ancestor_name2']==0,'ancestor_name2']=cond_dfa.loc[cond_dfa['ancestor_name2']==0,'ancestor_name']"
   ]
  },
  {
   "cell_type": "code",
   "execution_count": 140,
   "metadata": {},
   "outputs": [],
   "source": [
    "rel_df=rel_df.rename(columns={'ancestor_id2':'ancestor_id3'})\n",
    "rel_df=rel_df.rename(columns={'ancestor_name2':'ancestor_name3'})\n",
    "rel_df=rel_df.rename(columns={'ancestor_id':'ancestor_id2'})"
   ]
  },
  {
   "cell_type": "code",
   "execution_count": 141,
   "metadata": {},
   "outputs": [
    {
     "data": {
      "text/html": [
       "<div>\n",
       "<style scoped>\n",
       "    .dataframe tbody tr th:only-of-type {\n",
       "        vertical-align: middle;\n",
       "    }\n",
       "\n",
       "    .dataframe tbody tr th {\n",
       "        vertical-align: top;\n",
       "    }\n",
       "\n",
       "    .dataframe thead th {\n",
       "        text-align: right;\n",
       "    }\n",
       "</style>\n",
       "<table border=\"1\" class=\"dataframe\">\n",
       "  <thead>\n",
       "    <tr style=\"text-align: right;\">\n",
       "      <th></th>\n",
       "      <th>ancestor_id2</th>\n",
       "      <th>ancestor_id3</th>\n",
       "      <th>ancestor_name3</th>\n",
       "    </tr>\n",
       "  </thead>\n",
       "  <tbody>\n",
       "    <tr>\n",
       "      <th>0</th>\n",
       "      <td>5084</td>\n",
       "      <td>8756</td>\n",
       "      <td>Outpatient Hospital</td>\n",
       "    </tr>\n",
       "    <tr>\n",
       "      <th>1</th>\n",
       "      <td>8537</td>\n",
       "      <td>581476</td>\n",
       "      <td>Home Visit</td>\n",
       "    </tr>\n",
       "    <tr>\n",
       "      <th>2</th>\n",
       "      <td>8546</td>\n",
       "      <td>42898160</td>\n",
       "      <td>Non-hospital institution Visit</td>\n",
       "    </tr>\n",
       "    <tr>\n",
       "      <th>3</th>\n",
       "      <td>8584</td>\n",
       "      <td>9202</td>\n",
       "      <td>Outpatient Visit</td>\n",
       "    </tr>\n",
       "    <tr>\n",
       "      <th>4</th>\n",
       "      <td>8602</td>\n",
       "      <td>581476</td>\n",
       "      <td>Home Visit</td>\n",
       "    </tr>\n",
       "  </tbody>\n",
       "</table>\n",
       "</div>"
      ],
      "text/plain": [
       "   ancestor_id2  ancestor_id3                  ancestor_name3\n",
       "0          5084          8756             Outpatient Hospital\n",
       "1          8537        581476                      Home Visit\n",
       "2          8546      42898160  Non-hospital institution Visit\n",
       "3          8584          9202                Outpatient Visit\n",
       "4          8602        581476                      Home Visit"
      ]
     },
     "execution_count": 141,
     "metadata": {},
     "output_type": "execute_result"
    }
   ],
   "source": [
    "rel_df.head()"
   ]
  },
  {
   "cell_type": "code",
   "execution_count": 142,
   "metadata": {},
   "outputs": [],
   "source": [
    "cond_dfa=pd.merge(cond_dfa, rel_df, on=['ancestor_id2'],how='left')"
   ]
  },
  {
   "cell_type": "code",
   "execution_count": 149,
   "metadata": {},
   "outputs": [
    {
     "data": {
      "text/plain": [
       "662"
      ]
     },
     "execution_count": 149,
     "metadata": {},
     "output_type": "execute_result"
    }
   ],
   "source": [
    "len(list(cond_dfa['ancestor_id3'].unique()))"
   ]
  },
  {
   "cell_type": "code",
   "execution_count": 145,
   "metadata": {},
   "outputs": [],
   "source": [
    "cond_dfa=cond_dfa.fillna(0)"
   ]
  },
  {
   "cell_type": "code",
   "execution_count": 147,
   "metadata": {},
   "outputs": [],
   "source": [
    "cond_dfa.loc[cond_dfa['ancestor_id3']==0,'ancestor_id3']=cond_dfa.loc[cond_dfa['ancestor_id3']==0,'ancestor_id2']\n",
    "cond_dfa.loc[cond_dfa['ancestor_name3']==0,'ancestor_name3']=cond_dfa.loc[cond_dfa['ancestor_name3']==0,'ancestor_name2']"
   ]
  },
  {
   "cell_type": "code",
   "execution_count": 148,
   "metadata": {},
   "outputs": [
    {
     "data": {
      "text/plain": [
       "54335"
      ]
     },
     "execution_count": 148,
     "metadata": {},
     "output_type": "execute_result"
    }
   ],
   "source": [
    "len(list(cond_dfa['person_id'].unique()))"
   ]
  },
  {
   "cell_type": "code",
   "execution_count": 150,
   "metadata": {},
   "outputs": [],
   "source": [
    "cond_dfa.to_csv('cond_dfa.csv',index=False)"
   ]
  },
  {
   "cell_type": "code",
   "execution_count": 323,
   "metadata": {},
   "outputs": [],
   "source": [
    "cond_dfa=cond_dfa.sort_values(['person_id','age'])"
   ]
  },
  {
   "cell_type": "code",
   "execution_count": 167,
   "metadata": {},
   "outputs": [
    {
     "data": {
      "text/plain": [
       "Index(['person_id', 'condition_concept_id', 'visit_occurrence_id', 'age',\n",
       "       'concept_name', 'ancestor_id', 'ancestor_name', 'ancestor_id2',\n",
       "       'ancestor_name2', 'ancestor_id3', 'ancestor_name3'],\n",
       "      dtype='object')"
      ]
     },
     "execution_count": 167,
     "metadata": {},
     "output_type": "execute_result"
    }
   ],
   "source": [
    "cond_dfa.columns"
   ]
  },
  {
   "cell_type": "code",
   "execution_count": 168,
   "metadata": {},
   "outputs": [],
   "source": [
    "cond_dfa=cond_dfa[['person_id', 'condition_concept_id', 'visit_occurrence_id', 'age',\n",
    "       'concept_name','ancestor_id3', 'ancestor_name3']]"
   ]
  },
  {
   "cell_type": "code",
   "execution_count": 254,
   "metadata": {},
   "outputs": [],
   "source": [
    "cond_dfa=cond_dfa.fillna(0)"
   ]
  },
  {
   "cell_type": "code",
   "execution_count": null,
   "metadata": {},
   "outputs": [],
   "source": [
    "################End of Grouping##############"
   ]
  },
  {
   "cell_type": "code",
   "execution_count": 2,
   "metadata": {},
   "outputs": [],
   "source": [
    "cond_dfa=pd.read_csv('cond_dfa.csv',header=0)"
   ]
  },
  {
   "cell_type": "code",
   "execution_count": 152,
   "metadata": {},
   "outputs": [
    {
     "data": {
      "text/plain": [
       "118.4769301555167"
      ]
     },
     "execution_count": 152,
     "metadata": {},
     "output_type": "execute_result"
    }
   ],
   "source": [
    "#max number of visits\n",
    "(cond_dfa.groupby(['person_id'])['visit_occurrence_id'].count()).mean()"
   ]
  },
  {
   "cell_type": "code",
   "execution_count": 153,
   "metadata": {},
   "outputs": [],
   "source": [
    "startVisit = cond_dfa.groupby(['person_id'])['age'].min()\n",
    "endVisit = cond_dfa.groupby(['person_id'])['age'].max()"
   ]
  },
  {
   "cell_type": "code",
   "execution_count": 154,
   "metadata": {},
   "outputs": [
    {
     "data": {
      "text/html": [
       "<div>\n",
       "<style scoped>\n",
       "    .dataframe tbody tr th:only-of-type {\n",
       "        vertical-align: middle;\n",
       "    }\n",
       "\n",
       "    .dataframe tbody tr th {\n",
       "        vertical-align: top;\n",
       "    }\n",
       "\n",
       "    .dataframe thead th {\n",
       "        text-align: right;\n",
       "    }\n",
       "</style>\n",
       "<table border=\"1\" class=\"dataframe\">\n",
       "  <thead>\n",
       "    <tr style=\"text-align: right;\">\n",
       "      <th></th>\n",
       "      <th>person_id</th>\n",
       "      <th>age</th>\n",
       "    </tr>\n",
       "  </thead>\n",
       "  <tbody>\n",
       "    <tr>\n",
       "      <th>0</th>\n",
       "      <td>1000093</td>\n",
       "      <td>8.975579</td>\n",
       "    </tr>\n",
       "    <tr>\n",
       "      <th>1</th>\n",
       "      <td>1000104</td>\n",
       "      <td>38.606622</td>\n",
       "    </tr>\n",
       "    <tr>\n",
       "      <th>2</th>\n",
       "      <td>1000109</td>\n",
       "      <td>32.973302</td>\n",
       "    </tr>\n",
       "    <tr>\n",
       "      <th>3</th>\n",
       "      <td>1000174</td>\n",
       "      <td>26.161806</td>\n",
       "    </tr>\n",
       "    <tr>\n",
       "      <th>4</th>\n",
       "      <td>1000307</td>\n",
       "      <td>47.330556</td>\n",
       "    </tr>\n",
       "    <tr>\n",
       "      <th>...</th>\n",
       "      <td>...</td>\n",
       "      <td>...</td>\n",
       "    </tr>\n",
       "    <tr>\n",
       "      <th>54330</th>\n",
       "      <td>3524486</td>\n",
       "      <td>50.019147</td>\n",
       "    </tr>\n",
       "    <tr>\n",
       "      <th>54331</th>\n",
       "      <td>3524519</td>\n",
       "      <td>79.207207</td>\n",
       "    </tr>\n",
       "    <tr>\n",
       "      <th>54332</th>\n",
       "      <td>3524530</td>\n",
       "      <td>52.208333</td>\n",
       "    </tr>\n",
       "    <tr>\n",
       "      <th>54333</th>\n",
       "      <td>3524591</td>\n",
       "      <td>50.856418</td>\n",
       "    </tr>\n",
       "    <tr>\n",
       "      <th>54334</th>\n",
       "      <td>3524669</td>\n",
       "      <td>69.847704</td>\n",
       "    </tr>\n",
       "  </tbody>\n",
       "</table>\n",
       "<p>54335 rows × 2 columns</p>\n",
       "</div>"
      ],
      "text/plain": [
       "       person_id        age\n",
       "0        1000093   8.975579\n",
       "1        1000104  38.606622\n",
       "2        1000109  32.973302\n",
       "3        1000174  26.161806\n",
       "4        1000307  47.330556\n",
       "...          ...        ...\n",
       "54330    3524486  50.019147\n",
       "54331    3524519  79.207207\n",
       "54332    3524530  52.208333\n",
       "54333    3524591  50.856418\n",
       "54334    3524669  69.847704\n",
       "\n",
       "[54335 rows x 2 columns]"
      ]
     },
     "execution_count": 154,
     "metadata": {},
     "output_type": "execute_result"
    }
   ],
   "source": [
    "startVisit.reset_index()"
   ]
  },
  {
   "cell_type": "code",
   "execution_count": 155,
   "metadata": {},
   "outputs": [
    {
     "data": {
      "text/html": [
       "<div>\n",
       "<style scoped>\n",
       "    .dataframe tbody tr th:only-of-type {\n",
       "        vertical-align: middle;\n",
       "    }\n",
       "\n",
       "    .dataframe tbody tr th {\n",
       "        vertical-align: top;\n",
       "    }\n",
       "\n",
       "    .dataframe thead th {\n",
       "        text-align: right;\n",
       "    }\n",
       "</style>\n",
       "<table border=\"1\" class=\"dataframe\">\n",
       "  <thead>\n",
       "    <tr style=\"text-align: right;\">\n",
       "      <th></th>\n",
       "      <th>person_id</th>\n",
       "      <th>age</th>\n",
       "    </tr>\n",
       "  </thead>\n",
       "  <tbody>\n",
       "    <tr>\n",
       "      <th>0</th>\n",
       "      <td>1000093</td>\n",
       "      <td>17.521402</td>\n",
       "    </tr>\n",
       "    <tr>\n",
       "      <th>1</th>\n",
       "      <td>1000104</td>\n",
       "      <td>53.864988</td>\n",
       "    </tr>\n",
       "    <tr>\n",
       "      <th>2</th>\n",
       "      <td>1000109</td>\n",
       "      <td>47.048301</td>\n",
       "    </tr>\n",
       "    <tr>\n",
       "      <th>3</th>\n",
       "      <td>1000174</td>\n",
       "      <td>38.672917</td>\n",
       "    </tr>\n",
       "    <tr>\n",
       "      <th>4</th>\n",
       "      <td>1000307</td>\n",
       "      <td>52.177778</td>\n",
       "    </tr>\n",
       "    <tr>\n",
       "      <th>...</th>\n",
       "      <td>...</td>\n",
       "      <td>...</td>\n",
       "    </tr>\n",
       "    <tr>\n",
       "      <th>54330</th>\n",
       "      <td>3524486</td>\n",
       "      <td>50.019147</td>\n",
       "    </tr>\n",
       "    <tr>\n",
       "      <th>54331</th>\n",
       "      <td>3524519</td>\n",
       "      <td>85.923781</td>\n",
       "    </tr>\n",
       "    <tr>\n",
       "      <th>54332</th>\n",
       "      <td>3524530</td>\n",
       "      <td>66.711111</td>\n",
       "    </tr>\n",
       "    <tr>\n",
       "      <th>54333</th>\n",
       "      <td>3524591</td>\n",
       "      <td>57.206281</td>\n",
       "    </tr>\n",
       "    <tr>\n",
       "      <th>54334</th>\n",
       "      <td>3524669</td>\n",
       "      <td>79.993173</td>\n",
       "    </tr>\n",
       "  </tbody>\n",
       "</table>\n",
       "<p>54335 rows × 2 columns</p>\n",
       "</div>"
      ],
      "text/plain": [
       "       person_id        age\n",
       "0        1000093  17.521402\n",
       "1        1000104  53.864988\n",
       "2        1000109  47.048301\n",
       "3        1000174  38.672917\n",
       "4        1000307  52.177778\n",
       "...          ...        ...\n",
       "54330    3524486  50.019147\n",
       "54331    3524519  85.923781\n",
       "54332    3524530  66.711111\n",
       "54333    3524591  57.206281\n",
       "54334    3524669  79.993173\n",
       "\n",
       "[54335 rows x 2 columns]"
      ]
     },
     "execution_count": 155,
     "metadata": {},
     "output_type": "execute_result"
    }
   ],
   "source": [
    "endVisit.reset_index()"
   ]
  },
  {
   "cell_type": "code",
   "execution_count": 156,
   "metadata": {},
   "outputs": [],
   "source": [
    "medLen = (endVisit - startVisit).reset_index()"
   ]
  },
  {
   "cell_type": "code",
   "execution_count": 157,
   "metadata": {},
   "outputs": [
    {
     "data": {
      "text/html": [
       "<div>\n",
       "<style scoped>\n",
       "    .dataframe tbody tr th:only-of-type {\n",
       "        vertical-align: middle;\n",
       "    }\n",
       "\n",
       "    .dataframe tbody tr th {\n",
       "        vertical-align: top;\n",
       "    }\n",
       "\n",
       "    .dataframe thead th {\n",
       "        text-align: right;\n",
       "    }\n",
       "</style>\n",
       "<table border=\"1\" class=\"dataframe\">\n",
       "  <thead>\n",
       "    <tr style=\"text-align: right;\">\n",
       "      <th></th>\n",
       "      <th>person_id</th>\n",
       "      <th>age</th>\n",
       "    </tr>\n",
       "  </thead>\n",
       "  <tbody>\n",
       "    <tr>\n",
       "      <th>0</th>\n",
       "      <td>1000093</td>\n",
       "      <td>8.545824</td>\n",
       "    </tr>\n",
       "    <tr>\n",
       "      <th>1</th>\n",
       "      <td>1000104</td>\n",
       "      <td>15.258366</td>\n",
       "    </tr>\n",
       "    <tr>\n",
       "      <th>2</th>\n",
       "      <td>1000109</td>\n",
       "      <td>14.074998</td>\n",
       "    </tr>\n",
       "    <tr>\n",
       "      <th>3</th>\n",
       "      <td>1000174</td>\n",
       "      <td>12.511111</td>\n",
       "    </tr>\n",
       "    <tr>\n",
       "      <th>4</th>\n",
       "      <td>1000307</td>\n",
       "      <td>4.847222</td>\n",
       "    </tr>\n",
       "    <tr>\n",
       "      <th>...</th>\n",
       "      <td>...</td>\n",
       "      <td>...</td>\n",
       "    </tr>\n",
       "    <tr>\n",
       "      <th>54330</th>\n",
       "      <td>3524486</td>\n",
       "      <td>0.000000</td>\n",
       "    </tr>\n",
       "    <tr>\n",
       "      <th>54331</th>\n",
       "      <td>3524519</td>\n",
       "      <td>6.716574</td>\n",
       "    </tr>\n",
       "    <tr>\n",
       "      <th>54332</th>\n",
       "      <td>3524530</td>\n",
       "      <td>14.502778</td>\n",
       "    </tr>\n",
       "    <tr>\n",
       "      <th>54333</th>\n",
       "      <td>3524591</td>\n",
       "      <td>6.349863</td>\n",
       "    </tr>\n",
       "    <tr>\n",
       "      <th>54334</th>\n",
       "      <td>3524669</td>\n",
       "      <td>10.145469</td>\n",
       "    </tr>\n",
       "  </tbody>\n",
       "</table>\n",
       "<p>54335 rows × 2 columns</p>\n",
       "</div>"
      ],
      "text/plain": [
       "       person_id        age\n",
       "0        1000093   8.545824\n",
       "1        1000104  15.258366\n",
       "2        1000109  14.074998\n",
       "3        1000174  12.511111\n",
       "4        1000307   4.847222\n",
       "...          ...        ...\n",
       "54330    3524486   0.000000\n",
       "54331    3524519   6.716574\n",
       "54332    3524530  14.502778\n",
       "54333    3524591   6.349863\n",
       "54334    3524669  10.145469\n",
       "\n",
       "[54335 rows x 2 columns]"
      ]
     },
     "execution_count": 157,
     "metadata": {},
     "output_type": "execute_result"
    }
   ],
   "source": [
    "medLen"
   ]
  },
  {
   "cell_type": "code",
   "execution_count": 158,
   "metadata": {},
   "outputs": [
    {
     "data": {
      "text/plain": [
       "38.91388888888889"
      ]
     },
     "execution_count": 158,
     "metadata": {},
     "output_type": "execute_result"
    }
   ],
   "source": [
    "medLen['age'].max()"
   ]
  },
  {
   "cell_type": "code",
   "execution_count": 159,
   "metadata": {},
   "outputs": [
    {
     "data": {
      "text/plain": [
       "0.0"
      ]
     },
     "execution_count": 159,
     "metadata": {},
     "output_type": "execute_result"
    }
   ],
   "source": [
    "medLen['age'].min()"
   ]
  },
  {
   "cell_type": "code",
   "execution_count": 160,
   "metadata": {},
   "outputs": [
    {
     "data": {
      "text/plain": [
       "6.978344553071367"
      ]
     },
     "execution_count": 160,
     "metadata": {},
     "output_type": "execute_result"
    }
   ],
   "source": [
    "medLen['age'].mean()"
   ]
  },
  {
   "cell_type": "code",
   "execution_count": 162,
   "metadata": {},
   "outputs": [],
   "source": [
    "medLen=medLen[(medLen['age']>=2) & (medLen['age']<=10)]"
   ]
  },
  {
   "cell_type": "code",
   "execution_count": 163,
   "metadata": {},
   "outputs": [],
   "source": [
    "pids=list(medLen['person_id'].unique())"
   ]
  },
  {
   "cell_type": "code",
   "execution_count": 164,
   "metadata": {},
   "outputs": [],
   "source": [
    "cond_dfa=cond_dfa[cond_dfa['person_id'].isin(pids)]"
   ]
  },
  {
   "cell_type": "code",
   "execution_count": 165,
   "metadata": {},
   "outputs": [
    {
     "data": {
      "text/plain": [
       "23074"
      ]
     },
     "execution_count": 165,
     "metadata": {},
     "output_type": "execute_result"
    }
   ],
   "source": [
    "len(list(cond_dfa['person_id'].unique()))"
   ]
  },
  {
   "cell_type": "code",
   "execution_count": 169,
   "metadata": {},
   "outputs": [],
   "source": [
    "cond_dfa.to_csv('condF.csv',index=False)"
   ]
  },
  {
   "cell_type": "code",
   "execution_count": null,
   "metadata": {},
   "outputs": [],
   "source": [
    "############end of cohort selection################"
   ]
  },
  {
   "cell_type": "code",
   "execution_count": 26,
   "metadata": {},
   "outputs": [
    {
     "name": "stderr",
     "output_type": "stream",
     "text": [
      "Downloading: 100%|██████████| 11809759/11809759 [31:21<00:00, 6276.78rows/s]\n"
     ]
    },
    {
     "data": {
      "text/html": [
       "<div>\n",
       "<style scoped>\n",
       "    .dataframe tbody tr th:only-of-type {\n",
       "        vertical-align: middle;\n",
       "    }\n",
       "\n",
       "    .dataframe tbody tr th {\n",
       "        vertical-align: top;\n",
       "    }\n",
       "\n",
       "    .dataframe thead th {\n",
       "        text-align: right;\n",
       "    }\n",
       "</style>\n",
       "<table border=\"1\" class=\"dataframe\">\n",
       "  <thead>\n",
       "    <tr style=\"text-align: right;\">\n",
       "      <th></th>\n",
       "      <th>drug_exposure_id</th>\n",
       "      <th>person_id</th>\n",
       "      <th>drug_concept_id</th>\n",
       "      <th>drug_exposure_start_date</th>\n",
       "      <th>drug_exposure_start_datetime</th>\n",
       "      <th>drug_exposure_end_date</th>\n",
       "      <th>drug_exposure_end_datetime</th>\n",
       "      <th>verbatim_end_date</th>\n",
       "      <th>drug_type_concept_id</th>\n",
       "      <th>stop_reason</th>\n",
       "      <th>...</th>\n",
       "      <th>days_supply</th>\n",
       "      <th>sig</th>\n",
       "      <th>route_concept_id</th>\n",
       "      <th>lot_number</th>\n",
       "      <th>provider_id</th>\n",
       "      <th>visit_occurrence_id</th>\n",
       "      <th>drug_source_value</th>\n",
       "      <th>drug_source_concept_id</th>\n",
       "      <th>route_source_value</th>\n",
       "      <th>dose_unit_source_value</th>\n",
       "    </tr>\n",
       "  </thead>\n",
       "  <tbody>\n",
       "    <tr>\n",
       "      <th>0</th>\n",
       "      <td>11000000037568413</td>\n",
       "      <td>1428755</td>\n",
       "      <td>19003084</td>\n",
       "      <td>2006-11-21</td>\n",
       "      <td>2006-11-21 10:23:34.798202+00:00</td>\n",
       "      <td>NaT</td>\n",
       "      <td>NaT</td>\n",
       "      <td>NaT</td>\n",
       "      <td>38000177</td>\n",
       "      <td>None</td>\n",
       "      <td>...</td>\n",
       "      <td>NaN</td>\n",
       "      <td>None</td>\n",
       "      <td>4184451.0</td>\n",
       "      <td>None</td>\n",
       "      <td>None</td>\n",
       "      <td>NaN</td>\n",
       "      <td>None</td>\n",
       "      <td>NaN</td>\n",
       "      <td>54485002</td>\n",
       "      <td>None</td>\n",
       "    </tr>\n",
       "    <tr>\n",
       "      <th>1</th>\n",
       "      <td>35000000000705002</td>\n",
       "      <td>1422186</td>\n",
       "      <td>19074220</td>\n",
       "      <td>2017-05-14</td>\n",
       "      <td>2017-05-14 06:00:00+00:00</td>\n",
       "      <td>2018-02-04</td>\n",
       "      <td>2018-02-04 06:00:00+00:00</td>\n",
       "      <td>2018-02-04</td>\n",
       "      <td>38000177</td>\n",
       "      <td>None</td>\n",
       "      <td>...</td>\n",
       "      <td>NaN</td>\n",
       "      <td>None</td>\n",
       "      <td>4184451.0</td>\n",
       "      <td>None</td>\n",
       "      <td>None</td>\n",
       "      <td>3.500000e+16</td>\n",
       "      <td>None</td>\n",
       "      <td>NaN</td>\n",
       "      <td>54485002</td>\n",
       "      <td>None</td>\n",
       "    </tr>\n",
       "    <tr>\n",
       "      <th>2</th>\n",
       "      <td>24000000001801745</td>\n",
       "      <td>1417952</td>\n",
       "      <td>19076734</td>\n",
       "      <td>2016-07-12</td>\n",
       "      <td>2016-07-12 14:10:00+00:00</td>\n",
       "      <td>2016-07-12</td>\n",
       "      <td>2016-07-12 14:10:00+00:00</td>\n",
       "      <td>NaT</td>\n",
       "      <td>38000177</td>\n",
       "      <td>None</td>\n",
       "      <td>...</td>\n",
       "      <td>NaN</td>\n",
       "      <td>None</td>\n",
       "      <td>4184451.0</td>\n",
       "      <td>None</td>\n",
       "      <td>None</td>\n",
       "      <td>2.400000e+16</td>\n",
       "      <td>None</td>\n",
       "      <td>NaN</td>\n",
       "      <td>54485002</td>\n",
       "      <td>None</td>\n",
       "    </tr>\n",
       "    <tr>\n",
       "      <th>3</th>\n",
       "      <td>8000000000239342</td>\n",
       "      <td>1401613</td>\n",
       "      <td>45776321</td>\n",
       "      <td>2013-04-26</td>\n",
       "      <td>2013-04-26 15:21:00+00:00</td>\n",
       "      <td>2013-04-27</td>\n",
       "      <td>2013-04-27 03:10:00+00:00</td>\n",
       "      <td>NaT</td>\n",
       "      <td>38000177</td>\n",
       "      <td>None</td>\n",
       "      <td>...</td>\n",
       "      <td>NaN</td>\n",
       "      <td>None</td>\n",
       "      <td>4184451.0</td>\n",
       "      <td>None</td>\n",
       "      <td>None</td>\n",
       "      <td>8.000000e+15</td>\n",
       "      <td>None</td>\n",
       "      <td>NaN</td>\n",
       "      <td>54485002</td>\n",
       "      <td>None</td>\n",
       "    </tr>\n",
       "    <tr>\n",
       "      <th>4</th>\n",
       "      <td>24000000000645116</td>\n",
       "      <td>1451633</td>\n",
       "      <td>1594709</td>\n",
       "      <td>2015-12-07</td>\n",
       "      <td>2015-12-07 21:00:00+00:00</td>\n",
       "      <td>2015-12-10</td>\n",
       "      <td>2015-12-10 14:49:00+00:00</td>\n",
       "      <td>NaT</td>\n",
       "      <td>38000177</td>\n",
       "      <td>None</td>\n",
       "      <td>...</td>\n",
       "      <td>NaN</td>\n",
       "      <td>None</td>\n",
       "      <td>4184451.0</td>\n",
       "      <td>None</td>\n",
       "      <td>None</td>\n",
       "      <td>2.400000e+16</td>\n",
       "      <td>None</td>\n",
       "      <td>NaN</td>\n",
       "      <td>54485002</td>\n",
       "      <td>None</td>\n",
       "    </tr>\n",
       "  </tbody>\n",
       "</table>\n",
       "<p>5 rows × 22 columns</p>\n",
       "</div>"
      ],
      "text/plain": [
       "    drug_exposure_id  person_id  drug_concept_id drug_exposure_start_date  \\\n",
       "0  11000000037568413    1428755         19003084               2006-11-21   \n",
       "1  35000000000705002    1422186         19074220               2017-05-14   \n",
       "2  24000000001801745    1417952         19076734               2016-07-12   \n",
       "3   8000000000239342    1401613         45776321               2013-04-26   \n",
       "4  24000000000645116    1451633          1594709               2015-12-07   \n",
       "\n",
       "      drug_exposure_start_datetime drug_exposure_end_date  \\\n",
       "0 2006-11-21 10:23:34.798202+00:00                    NaT   \n",
       "1        2017-05-14 06:00:00+00:00             2018-02-04   \n",
       "2        2016-07-12 14:10:00+00:00             2016-07-12   \n",
       "3        2013-04-26 15:21:00+00:00             2013-04-27   \n",
       "4        2015-12-07 21:00:00+00:00             2015-12-10   \n",
       "\n",
       "  drug_exposure_end_datetime verbatim_end_date  drug_type_concept_id  \\\n",
       "0                        NaT               NaT              38000177   \n",
       "1  2018-02-04 06:00:00+00:00        2018-02-04              38000177   \n",
       "2  2016-07-12 14:10:00+00:00               NaT              38000177   \n",
       "3  2013-04-27 03:10:00+00:00               NaT              38000177   \n",
       "4  2015-12-10 14:49:00+00:00               NaT              38000177   \n",
       "\n",
       "  stop_reason  ...  days_supply   sig  route_concept_id lot_number  \\\n",
       "0        None  ...          NaN  None         4184451.0       None   \n",
       "1        None  ...          NaN  None         4184451.0       None   \n",
       "2        None  ...          NaN  None         4184451.0       None   \n",
       "3        None  ...          NaN  None         4184451.0       None   \n",
       "4        None  ...          NaN  None         4184451.0       None   \n",
       "\n",
       "   provider_id visit_occurrence_id drug_source_value  drug_source_concept_id  \\\n",
       "0         None                 NaN              None                     NaN   \n",
       "1         None        3.500000e+16              None                     NaN   \n",
       "2         None        2.400000e+16              None                     NaN   \n",
       "3         None        8.000000e+15              None                     NaN   \n",
       "4         None        2.400000e+16              None                     NaN   \n",
       "\n",
       "  route_source_value  dose_unit_source_value  \n",
       "0           54485002                    None  \n",
       "1           54485002                    None  \n",
       "2           54485002                    None  \n",
       "3           54485002                    None  \n",
       "4           54485002                    None  \n",
       "\n",
       "[5 rows x 22 columns]"
      ]
     },
     "execution_count": 26,
     "metadata": {},
     "output_type": "execute_result"
    }
   ],
   "source": [
    "drug_sql = \"\"\"\n",
    "    SELECT *\n",
    "    from\n",
    "        `\"\"\" + os.environ[\"WORKSPACE_CDR\"] + \"\"\".drug_exposure` drug \n",
    "        WHERE\n",
    "        drug.PERSON_ID IN (\n",
    "            select\n",
    "                person_id  \n",
    "            from\n",
    "                `\"\"\" + os.environ[\"WORKSPACE_CDR\"] + \"\"\".cb_search_person` cb_search_person  \n",
    "            where\n",
    "                cb_search_person.person_id in (\n",
    "                    select\n",
    "                        person_id \n",
    "                    from\n",
    "                        `\"\"\" + os.environ[\"WORKSPACE_CDR\"] + \"\"\".person` p \n",
    "                    where\n",
    "                        sex_at_birth_concept_id in (45880669) \n",
    "                ) \n",
    "            )\"\"\"\n",
    "\n",
    "drug_df = pd.read_gbq(drug_sql, dialect=\"standard\")\n",
    "drug_df.head(5)"
   ]
  },
  {
   "cell_type": "code",
   "execution_count": 27,
   "metadata": {},
   "outputs": [
    {
     "data": {
      "text/plain": [
       "(11809759, 22)"
      ]
     },
     "execution_count": 27,
     "metadata": {},
     "output_type": "execute_result"
    }
   ],
   "source": [
    "drug_df.shape"
   ]
  },
  {
   "cell_type": "code",
   "execution_count": 29,
   "metadata": {},
   "outputs": [],
   "source": [
    "drug_df=drug_df[['drug_exposure_id', 'person_id', 'drug_concept_id','visit_occurrence_id','drug_source_concept_id']]"
   ]
  },
  {
   "cell_type": "code",
   "execution_count": 38,
   "metadata": {},
   "outputs": [],
   "source": [
    "drug_df.to_csv('drugF.csv',index=False)"
   ]
  },
  {
   "cell_type": "code",
   "execution_count": 46,
   "metadata": {},
   "outputs": [],
   "source": [
    "drug_df=pd.read_csv('drugF.csv',header=0)"
   ]
  },
  {
   "cell_type": "code",
   "execution_count": 31,
   "metadata": {},
   "outputs": [],
   "source": [
    "cond_df=pd.read_csv('condF.csv',header=0)"
   ]
  },
  {
   "cell_type": "code",
   "execution_count": 3,
   "metadata": {},
   "outputs": [
    {
     "data": {
      "text/plain": [
       "20665"
      ]
     },
     "execution_count": 3,
     "metadata": {},
     "output_type": "execute_result"
    }
   ],
   "source": [
    "len(list(drug_df['person_id'].unique()))"
   ]
  },
  {
   "cell_type": "code",
   "execution_count": 33,
   "metadata": {},
   "outputs": [],
   "source": [
    "drug_df=drug_df[drug_df['person_id'].isin(list(cond_df['person_id'].unique()))]"
   ]
  },
  {
   "cell_type": "code",
   "execution_count": 34,
   "metadata": {},
   "outputs": [
    {
     "data": {
      "text/plain": [
       "22743"
      ]
     },
     "execution_count": 34,
     "metadata": {},
     "output_type": "execute_result"
    }
   ],
   "source": [
    "len(list(drug_df['person_id'].unique()))"
   ]
  },
  {
   "cell_type": "code",
   "execution_count": 35,
   "metadata": {},
   "outputs": [],
   "source": [
    "drug_df=drug_df[drug_df['visit_occurrence_id'].isin(list(cond_df['visit_occurrence_id'].unique()))]"
   ]
  },
  {
   "cell_type": "code",
   "execution_count": 36,
   "metadata": {},
   "outputs": [
    {
     "data": {
      "text/plain": [
       "20665"
      ]
     },
     "execution_count": 36,
     "metadata": {},
     "output_type": "execute_result"
    }
   ],
   "source": [
    "len(list(drug_df['person_id'].unique()))"
   ]
  },
  {
   "cell_type": "code",
   "execution_count": 37,
   "metadata": {},
   "outputs": [
    {
     "data": {
      "text/plain": [
       "20665"
      ]
     },
     "execution_count": 37,
     "metadata": {},
     "output_type": "execute_result"
    }
   ],
   "source": [
    "len(list(drug_df['person_id'].unique()))"
   ]
  },
  {
   "cell_type": "code",
   "execution_count": null,
   "metadata": {},
   "outputs": [],
   "source": [
    "######Remove below mean ids################"
   ]
  },
  {
   "cell_type": "code",
   "execution_count": null,
   "metadata": {},
   "outputs": [],
   "source": [
    "ncond=drug_df[['drug_concept_id','person_id']].groupby(['drug_concept_id','person_id']).size().reset_index(name='counts')"
   ]
  },
  {
   "cell_type": "code",
   "execution_count": null,
   "metadata": {},
   "outputs": [],
   "source": [
    "del ncond['counts']"
   ]
  },
  {
   "cell_type": "code",
   "execution_count": null,
   "metadata": {},
   "outputs": [],
   "source": [
    "ncond=ncond[['drug_concept_id','person_id']].groupby(['drug_concept_id']).size().reset_index(name='counts')"
   ]
  },
  {
   "cell_type": "code",
   "execution_count": null,
   "metadata": {},
   "outputs": [],
   "source": [
    "ncond['counts'].max()"
   ]
  },
  {
   "cell_type": "code",
   "execution_count": null,
   "metadata": {},
   "outputs": [],
   "source": [
    "ncond['counts'].mean()"
   ]
  },
  {
   "cell_type": "code",
   "execution_count": null,
   "metadata": {},
   "outputs": [],
   "source": [
    "acids = ncond[ncond['counts']>37]['drug_concept_id']"
   ]
  },
  {
   "cell_type": "code",
   "execution_count": null,
   "metadata": {},
   "outputs": [],
   "source": [
    "drug_df=drug_df[drug_df['drug_concept_id'].isin(acids)]"
   ]
  },
  {
   "cell_type": "code",
   "execution_count": null,
   "metadata": {},
   "outputs": [],
   "source": [
    "###########grouping drug###############"
   ]
  },
  {
   "cell_type": "code",
   "execution_count": 8,
   "metadata": {},
   "outputs": [
    {
     "data": {
      "text/html": [
       "<div>\n",
       "<style scoped>\n",
       "    .dataframe tbody tr th:only-of-type {\n",
       "        vertical-align: middle;\n",
       "    }\n",
       "\n",
       "    .dataframe tbody tr th {\n",
       "        vertical-align: top;\n",
       "    }\n",
       "\n",
       "    .dataframe thead th {\n",
       "        text-align: right;\n",
       "    }\n",
       "</style>\n",
       "<table border=\"1\" class=\"dataframe\">\n",
       "  <thead>\n",
       "    <tr style=\"text-align: right;\">\n",
       "      <th></th>\n",
       "      <th>drug_exposure_id</th>\n",
       "      <th>person_id</th>\n",
       "      <th>drug_concept_id</th>\n",
       "      <th>visit_occurrence_id</th>\n",
       "      <th>drug_source_concept_id</th>\n",
       "    </tr>\n",
       "  </thead>\n",
       "  <tbody>\n",
       "    <tr>\n",
       "      <th>0</th>\n",
       "      <td>21000000000417687</td>\n",
       "      <td>3190258</td>\n",
       "      <td>0</td>\n",
       "      <td>2.100000e+16</td>\n",
       "      <td>0.0</td>\n",
       "    </tr>\n",
       "    <tr>\n",
       "      <th>1</th>\n",
       "      <td>38000000000237748</td>\n",
       "      <td>3201229</td>\n",
       "      <td>1112807</td>\n",
       "      <td>3.800000e+16</td>\n",
       "      <td>0.0</td>\n",
       "    </tr>\n",
       "    <tr>\n",
       "      <th>2</th>\n",
       "      <td>38000000002007437</td>\n",
       "      <td>3167819</td>\n",
       "      <td>797399</td>\n",
       "      <td>3.800000e+16</td>\n",
       "      <td>0.0</td>\n",
       "    </tr>\n",
       "    <tr>\n",
       "      <th>3</th>\n",
       "      <td>21000000000478158</td>\n",
       "      <td>3200713</td>\n",
       "      <td>0</td>\n",
       "      <td>2.100000e+16</td>\n",
       "      <td>0.0</td>\n",
       "    </tr>\n",
       "    <tr>\n",
       "      <th>4</th>\n",
       "      <td>38000000011649244</td>\n",
       "      <td>3146939</td>\n",
       "      <td>1560524</td>\n",
       "      <td>3.800000e+16</td>\n",
       "      <td>0.0</td>\n",
       "    </tr>\n",
       "  </tbody>\n",
       "</table>\n",
       "</div>"
      ],
      "text/plain": [
       "    drug_exposure_id  person_id  drug_concept_id  visit_occurrence_id  \\\n",
       "0  21000000000417687    3190258                0         2.100000e+16   \n",
       "1  38000000000237748    3201229          1112807         3.800000e+16   \n",
       "2  38000000002007437    3167819           797399         3.800000e+16   \n",
       "3  21000000000478158    3200713                0         2.100000e+16   \n",
       "4  38000000011649244    3146939          1560524         3.800000e+16   \n",
       "\n",
       "   drug_source_concept_id  \n",
       "0                     0.0  \n",
       "1                     0.0  \n",
       "2                     0.0  \n",
       "3                     0.0  \n",
       "4                     0.0  "
      ]
     },
     "execution_count": 8,
     "metadata": {},
     "output_type": "execute_result"
    }
   ],
   "source": [
    "drug_df.head()"
   ]
  },
  {
   "cell_type": "code",
   "execution_count": 20,
   "metadata": {},
   "outputs": [
    {
     "data": {
      "text/plain": [
       "12086"
      ]
     },
     "execution_count": 20,
     "metadata": {},
     "output_type": "execute_result"
    }
   ],
   "source": [
    "len(list(drug_df['drug_concept_id'].unique()))"
   ]
  },
  {
   "cell_type": "code",
   "execution_count": 47,
   "metadata": {},
   "outputs": [],
   "source": [
    "rel_df=pd.read_csv('rel.csv',header=0)"
   ]
  },
  {
   "cell_type": "code",
   "execution_count": 48,
   "metadata": {},
   "outputs": [
    {
     "data": {
      "text/plain": [
       "Index(['concept_id_1', 'concept_id_2', 'relationship_id'], dtype='object')"
      ]
     },
     "execution_count": 48,
     "metadata": {},
     "output_type": "execute_result"
    }
   ],
   "source": [
    "rel_df.columns"
   ]
  },
  {
   "cell_type": "code",
   "execution_count": 51,
   "metadata": {},
   "outputs": [],
   "source": [
    "rel_df=rel_df.groupby('concept_id_1').first().reset_index()"
   ]
  },
  {
   "cell_type": "code",
   "execution_count": 52,
   "metadata": {},
   "outputs": [
    {
     "data": {
      "text/html": [
       "<div>\n",
       "<style scoped>\n",
       "    .dataframe tbody tr th:only-of-type {\n",
       "        vertical-align: middle;\n",
       "    }\n",
       "\n",
       "    .dataframe tbody tr th {\n",
       "        vertical-align: top;\n",
       "    }\n",
       "\n",
       "    .dataframe thead th {\n",
       "        text-align: right;\n",
       "    }\n",
       "</style>\n",
       "<table border=\"1\" class=\"dataframe\">\n",
       "  <thead>\n",
       "    <tr style=\"text-align: right;\">\n",
       "      <th></th>\n",
       "      <th>concept_id_1</th>\n",
       "      <th>concept_id_2</th>\n",
       "    </tr>\n",
       "  </thead>\n",
       "  <tbody>\n",
       "    <tr>\n",
       "      <th>0</th>\n",
       "      <td>501343</td>\n",
       "      <td>21601262</td>\n",
       "    </tr>\n",
       "    <tr>\n",
       "      <th>1</th>\n",
       "      <td>501346</td>\n",
       "      <td>21601262</td>\n",
       "    </tr>\n",
       "    <tr>\n",
       "      <th>2</th>\n",
       "      <td>501347</td>\n",
       "      <td>21601262</td>\n",
       "    </tr>\n",
       "    <tr>\n",
       "      <th>3</th>\n",
       "      <td>501415</td>\n",
       "      <td>21601262</td>\n",
       "    </tr>\n",
       "    <tr>\n",
       "      <th>4</th>\n",
       "      <td>501416</td>\n",
       "      <td>21601262</td>\n",
       "    </tr>\n",
       "  </tbody>\n",
       "</table>\n",
       "</div>"
      ],
      "text/plain": [
       "   concept_id_1  concept_id_2\n",
       "0        501343      21601262\n",
       "1        501346      21601262\n",
       "2        501347      21601262\n",
       "3        501415      21601262\n",
       "4        501416      21601262"
      ]
     },
     "execution_count": 52,
     "metadata": {},
     "output_type": "execute_result"
    }
   ],
   "source": [
    "rel_df.head()"
   ]
  },
  {
   "cell_type": "code",
   "execution_count": 24,
   "metadata": {},
   "outputs": [
    {
     "data": {
      "text/html": [
       "<div>\n",
       "<style scoped>\n",
       "    .dataframe tbody tr th:only-of-type {\n",
       "        vertical-align: middle;\n",
       "    }\n",
       "\n",
       "    .dataframe tbody tr th {\n",
       "        vertical-align: top;\n",
       "    }\n",
       "\n",
       "    .dataframe thead th {\n",
       "        text-align: right;\n",
       "    }\n",
       "</style>\n",
       "<table border=\"1\" class=\"dataframe\">\n",
       "  <thead>\n",
       "    <tr style=\"text-align: right;\">\n",
       "      <th></th>\n",
       "      <th>drug_exposure_id</th>\n",
       "      <th>person_id</th>\n",
       "      <th>drug_concept_id</th>\n",
       "      <th>visit_occurrence_id</th>\n",
       "      <th>drug_source_concept_id</th>\n",
       "    </tr>\n",
       "  </thead>\n",
       "  <tbody>\n",
       "    <tr>\n",
       "      <th>0</th>\n",
       "      <td>8000000000239342</td>\n",
       "      <td>1401613</td>\n",
       "      <td>45776321</td>\n",
       "      <td>8.000000e+15</td>\n",
       "      <td>NaN</td>\n",
       "    </tr>\n",
       "    <tr>\n",
       "      <th>1</th>\n",
       "      <td>8000000000171460</td>\n",
       "      <td>1404427</td>\n",
       "      <td>906116</td>\n",
       "      <td>8.000000e+15</td>\n",
       "      <td>NaN</td>\n",
       "    </tr>\n",
       "    <tr>\n",
       "      <th>2</th>\n",
       "      <td>24000000000945505</td>\n",
       "      <td>1481998</td>\n",
       "      <td>19102200</td>\n",
       "      <td>2.400000e+16</td>\n",
       "      <td>NaN</td>\n",
       "    </tr>\n",
       "    <tr>\n",
       "      <th>3</th>\n",
       "      <td>8000000000207775</td>\n",
       "      <td>1404427</td>\n",
       "      <td>19102471</td>\n",
       "      <td>8.000000e+15</td>\n",
       "      <td>NaN</td>\n",
       "    </tr>\n",
       "    <tr>\n",
       "      <th>4</th>\n",
       "      <td>6000000106855320</td>\n",
       "      <td>1434269</td>\n",
       "      <td>19011661</td>\n",
       "      <td>6.000000e+15</td>\n",
       "      <td>19011661.0</td>\n",
       "    </tr>\n",
       "  </tbody>\n",
       "</table>\n",
       "</div>"
      ],
      "text/plain": [
       "    drug_exposure_id  person_id  drug_concept_id  visit_occurrence_id  \\\n",
       "0   8000000000239342    1401613         45776321         8.000000e+15   \n",
       "1   8000000000171460    1404427           906116         8.000000e+15   \n",
       "2  24000000000945505    1481998         19102200         2.400000e+16   \n",
       "3   8000000000207775    1404427         19102471         8.000000e+15   \n",
       "4   6000000106855320    1434269         19011661         6.000000e+15   \n",
       "\n",
       "   drug_source_concept_id  \n",
       "0                     NaN  \n",
       "1                     NaN  \n",
       "2                     NaN  \n",
       "3                     NaN  \n",
       "4              19011661.0  "
      ]
     },
     "execution_count": 24,
     "metadata": {},
     "output_type": "execute_result"
    }
   ],
   "source": [
    "drug_df.head()"
   ]
  },
  {
   "cell_type": "code",
   "execution_count": 49,
   "metadata": {},
   "outputs": [],
   "source": [
    "rel_df=rel_df[rel_df['relationship_id']=='RxNorm - ATC']"
   ]
  },
  {
   "cell_type": "code",
   "execution_count": 50,
   "metadata": {},
   "outputs": [],
   "source": [
    "rel_df=rel_df[['concept_id_1','concept_id_2']]"
   ]
  },
  {
   "cell_type": "code",
   "execution_count": 66,
   "metadata": {},
   "outputs": [],
   "source": [
    "drug_df = drug_df[drug_df['drug_concept_id']!=0]"
   ]
  },
  {
   "cell_type": "code",
   "execution_count": 67,
   "metadata": {},
   "outputs": [
    {
     "data": {
      "text/plain": [
       "(1189946, 5)"
      ]
     },
     "execution_count": 67,
     "metadata": {},
     "output_type": "execute_result"
    }
   ],
   "source": [
    "drug_df.shape"
   ]
  },
  {
   "cell_type": "code",
   "execution_count": 68,
   "metadata": {},
   "outputs": [
    {
     "data": {
      "text/plain": [
       "20151"
      ]
     },
     "execution_count": 68,
     "metadata": {},
     "output_type": "execute_result"
    }
   ],
   "source": [
    "len(list(drug_df['person_id'].unique()))"
   ]
  },
  {
   "cell_type": "code",
   "execution_count": 69,
   "metadata": {},
   "outputs": [],
   "source": [
    "rel_df=rel_df.rename(columns={'concept_id_1':'drug_concept_id'})\n",
    "rel_df=rel_df.rename(columns={'concept_id_2':'ancestor1'})"
   ]
  },
  {
   "cell_type": "code",
   "execution_count": 70,
   "metadata": {},
   "outputs": [],
   "source": [
    "drug_df=pd.merge(drug_df, rel_df, on='drug_concept_id',how='left')"
   ]
  },
  {
   "cell_type": "code",
   "execution_count": 71,
   "metadata": {},
   "outputs": [
    {
     "data": {
      "text/plain": [
       "266"
      ]
     },
     "execution_count": 71,
     "metadata": {},
     "output_type": "execute_result"
    }
   ],
   "source": [
    "len(list(drug_df['ancestor1'].unique()))"
   ]
  },
  {
   "cell_type": "code",
   "execution_count": 72,
   "metadata": {},
   "outputs": [],
   "source": [
    "drug_df=drug_df.fillna(0)"
   ]
  },
  {
   "cell_type": "code",
   "execution_count": 73,
   "metadata": {},
   "outputs": [],
   "source": [
    "drug_df.loc[drug_df['ancestor1']==0,'ancestor1']=drug_df.loc[drug_df['ancestor1']==0,'drug_concept_id']"
   ]
  },
  {
   "cell_type": "code",
   "execution_count": 74,
   "metadata": {},
   "outputs": [
    {
     "data": {
      "text/plain": [
       "1283"
      ]
     },
     "execution_count": 74,
     "metadata": {},
     "output_type": "execute_result"
    }
   ],
   "source": [
    "len(list(drug_df['ancestor1'].unique()))"
   ]
  },
  {
   "cell_type": "code",
   "execution_count": 75,
   "metadata": {},
   "outputs": [],
   "source": [
    "rel_df=rel_df.rename(columns={'ancestor1':'ancestor2'})\n",
    "rel_df=rel_df.rename(columns={'drug_concept_id':'ancestor1'})"
   ]
  },
  {
   "cell_type": "code",
   "execution_count": 76,
   "metadata": {},
   "outputs": [],
   "source": [
    "drug_df=pd.merge(drug_df, rel_df, on='ancestor1',how='left')"
   ]
  },
  {
   "cell_type": "code",
   "execution_count": 77,
   "metadata": {},
   "outputs": [
    {
     "data": {
      "text/plain": [
       "[nan]"
      ]
     },
     "execution_count": 77,
     "metadata": {},
     "output_type": "execute_result"
    }
   ],
   "source": [
    "(list(drug_df['ancestor2'].unique()))"
   ]
  },
  {
   "cell_type": "code",
   "execution_count": 78,
   "metadata": {},
   "outputs": [],
   "source": [
    "drug_df=drug_df.fillna(0)"
   ]
  },
  {
   "cell_type": "code",
   "execution_count": 79,
   "metadata": {},
   "outputs": [],
   "source": [
    "drug_df.loc[drug_df['ancestor2']==0,'ancestor2']=drug_df.loc[drug_df['ancestor2']==0,'ancestor1']"
   ]
  },
  {
   "cell_type": "code",
   "execution_count": 80,
   "metadata": {},
   "outputs": [
    {
     "data": {
      "text/plain": [
       "1283"
      ]
     },
     "execution_count": 80,
     "metadata": {},
     "output_type": "execute_result"
    }
   ],
   "source": [
    "len(list(drug_df['ancestor2'].unique()))"
   ]
  },
  {
   "cell_type": "code",
   "execution_count": 81,
   "metadata": {},
   "outputs": [
    {
     "data": {
      "text/html": [
       "<div>\n",
       "<style scoped>\n",
       "    .dataframe tbody tr th:only-of-type {\n",
       "        vertical-align: middle;\n",
       "    }\n",
       "\n",
       "    .dataframe tbody tr th {\n",
       "        vertical-align: top;\n",
       "    }\n",
       "\n",
       "    .dataframe thead th {\n",
       "        text-align: right;\n",
       "    }\n",
       "</style>\n",
       "<table border=\"1\" class=\"dataframe\">\n",
       "  <thead>\n",
       "    <tr style=\"text-align: right;\">\n",
       "      <th></th>\n",
       "      <th>drug_exposure_id</th>\n",
       "      <th>person_id</th>\n",
       "      <th>drug_concept_id</th>\n",
       "      <th>visit_occurrence_id</th>\n",
       "      <th>drug_source_concept_id</th>\n",
       "      <th>ancestor1</th>\n",
       "      <th>ancestor2</th>\n",
       "    </tr>\n",
       "  </thead>\n",
       "  <tbody>\n",
       "    <tr>\n",
       "      <th>0</th>\n",
       "      <td>8000000000239342</td>\n",
       "      <td>1401613</td>\n",
       "      <td>45776321</td>\n",
       "      <td>8.000000e+15</td>\n",
       "      <td>0.0</td>\n",
       "      <td>45776321.0</td>\n",
       "      <td>45776321.0</td>\n",
       "    </tr>\n",
       "    <tr>\n",
       "      <th>1</th>\n",
       "      <td>8000000000171460</td>\n",
       "      <td>1404427</td>\n",
       "      <td>906116</td>\n",
       "      <td>8.000000e+15</td>\n",
       "      <td>0.0</td>\n",
       "      <td>21605065.0</td>\n",
       "      <td>21605065.0</td>\n",
       "    </tr>\n",
       "    <tr>\n",
       "      <th>2</th>\n",
       "      <td>24000000000945505</td>\n",
       "      <td>1481998</td>\n",
       "      <td>19102200</td>\n",
       "      <td>2.400000e+16</td>\n",
       "      <td>0.0</td>\n",
       "      <td>19102200.0</td>\n",
       "      <td>19102200.0</td>\n",
       "    </tr>\n",
       "    <tr>\n",
       "      <th>3</th>\n",
       "      <td>8000000000207775</td>\n",
       "      <td>1404427</td>\n",
       "      <td>19102471</td>\n",
       "      <td>8.000000e+15</td>\n",
       "      <td>0.0</td>\n",
       "      <td>21603615.0</td>\n",
       "      <td>21603615.0</td>\n",
       "    </tr>\n",
       "    <tr>\n",
       "      <th>4</th>\n",
       "      <td>6000000106855320</td>\n",
       "      <td>1434269</td>\n",
       "      <td>19011661</td>\n",
       "      <td>6.000000e+15</td>\n",
       "      <td>19011661.0</td>\n",
       "      <td>19011661.0</td>\n",
       "      <td>19011661.0</td>\n",
       "    </tr>\n",
       "  </tbody>\n",
       "</table>\n",
       "</div>"
      ],
      "text/plain": [
       "    drug_exposure_id  person_id  drug_concept_id  visit_occurrence_id  \\\n",
       "0   8000000000239342    1401613         45776321         8.000000e+15   \n",
       "1   8000000000171460    1404427           906116         8.000000e+15   \n",
       "2  24000000000945505    1481998         19102200         2.400000e+16   \n",
       "3   8000000000207775    1404427         19102471         8.000000e+15   \n",
       "4   6000000106855320    1434269         19011661         6.000000e+15   \n",
       "\n",
       "   drug_source_concept_id   ancestor1   ancestor2  \n",
       "0                     0.0  45776321.0  45776321.0  \n",
       "1                     0.0  21605065.0  21605065.0  \n",
       "2                     0.0  19102200.0  19102200.0  \n",
       "3                     0.0  21603615.0  21603615.0  \n",
       "4              19011661.0  19011661.0  19011661.0  "
      ]
     },
     "execution_count": 81,
     "metadata": {},
     "output_type": "execute_result"
    }
   ],
   "source": [
    "drug_df.head()"
   ]
  },
  {
   "cell_type": "code",
   "execution_count": 82,
   "metadata": {},
   "outputs": [
    {
     "data": {
      "text/plain": [
       "Index(['drug_exposure_id', 'person_id', 'drug_concept_id',\n",
       "       'visit_occurrence_id', 'drug_source_concept_id', 'ancestor1',\n",
       "       'ancestor2'],\n",
       "      dtype='object')"
      ]
     },
     "execution_count": 82,
     "metadata": {},
     "output_type": "execute_result"
    }
   ],
   "source": [
    "drug_df.columns"
   ]
  },
  {
   "cell_type": "code",
   "execution_count": 83,
   "metadata": {},
   "outputs": [],
   "source": [
    "drug_df=drug_df[[ 'person_id', 'drug_concept_id',\n",
    "       'visit_occurrence_id','ancestor1' ]]"
   ]
  },
  {
   "cell_type": "code",
   "execution_count": 84,
   "metadata": {},
   "outputs": [],
   "source": [
    "drug_df.to_csv('drugFReduced.csv',index=False)"
   ]
  },
  {
   "cell_type": "code",
   "execution_count": 64,
   "metadata": {},
   "outputs": [
    {
     "data": {
      "text/plain": [
       "20215"
      ]
     },
     "execution_count": 64,
     "metadata": {},
     "output_type": "execute_result"
    }
   ],
   "source": [
    "len(list(drug_df['person_id'].unique()))"
   ]
  },
  {
   "cell_type": "code",
   "execution_count": null,
   "metadata": {},
   "outputs": [],
   "source": [
    "####end of removing ids###########"
   ]
  },
  {
   "cell_type": "code",
   "execution_count": 85,
   "metadata": {},
   "outputs": [],
   "source": [
    "concept=pd.read_csv('concept.csv',header=0)"
   ]
  },
  {
   "cell_type": "code",
   "execution_count": 86,
   "metadata": {},
   "outputs": [
    {
     "data": {
      "text/html": [
       "<div>\n",
       "<style scoped>\n",
       "    .dataframe tbody tr th:only-of-type {\n",
       "        vertical-align: middle;\n",
       "    }\n",
       "\n",
       "    .dataframe tbody tr th {\n",
       "        vertical-align: top;\n",
       "    }\n",
       "\n",
       "    .dataframe thead th {\n",
       "        text-align: right;\n",
       "    }\n",
       "</style>\n",
       "<table border=\"1\" class=\"dataframe\">\n",
       "  <thead>\n",
       "    <tr style=\"text-align: right;\">\n",
       "      <th></th>\n",
       "      <th>concept_id</th>\n",
       "      <th>concept_name</th>\n",
       "    </tr>\n",
       "  </thead>\n",
       "  <tbody>\n",
       "    <tr>\n",
       "      <th>0</th>\n",
       "      <td>2102339</td>\n",
       "      <td>Allograft skin for temporary wound closure, fa...</td>\n",
       "    </tr>\n",
       "    <tr>\n",
       "      <th>1</th>\n",
       "      <td>42734947</td>\n",
       "      <td>Intravascular radiopharmaceutical therapy, par...</td>\n",
       "    </tr>\n",
       "    <tr>\n",
       "      <th>2</th>\n",
       "      <td>42735674</td>\n",
       "      <td>Fasciotomy, lateral or medial (eg, tennis elbo...</td>\n",
       "    </tr>\n",
       "    <tr>\n",
       "      <th>3</th>\n",
       "      <td>42739401</td>\n",
       "      <td>Subsequent intensive care, per day, for the ev...</td>\n",
       "    </tr>\n",
       "    <tr>\n",
       "      <th>4</th>\n",
       "      <td>2106743</td>\n",
       "      <td>Biopsy, pleura; open</td>\n",
       "    </tr>\n",
       "  </tbody>\n",
       "</table>\n",
       "</div>"
      ],
      "text/plain": [
       "   concept_id                                       concept_name\n",
       "0     2102339  Allograft skin for temporary wound closure, fa...\n",
       "1    42734947  Intravascular radiopharmaceutical therapy, par...\n",
       "2    42735674  Fasciotomy, lateral or medial (eg, tennis elbo...\n",
       "3    42739401  Subsequent intensive care, per day, for the ev...\n",
       "4     2106743                               Biopsy, pleura; open"
      ]
     },
     "execution_count": 86,
     "metadata": {},
     "output_type": "execute_result"
    }
   ],
   "source": [
    "concept.head()"
   ]
  },
  {
   "cell_type": "code",
   "execution_count": 87,
   "metadata": {},
   "outputs": [],
   "source": [
    "concept=concept.rename(columns={'concept_id':'ancestor1'})"
   ]
  },
  {
   "cell_type": "code",
   "execution_count": 88,
   "metadata": {},
   "outputs": [],
   "source": [
    "drug_df=pd.merge(drug_df,concept,how='left',on=['ancestor1'])"
   ]
  },
  {
   "cell_type": "code",
   "execution_count": 40,
   "metadata": {},
   "outputs": [
    {
     "data": {
      "text/plain": [
       "1279"
      ]
     },
     "execution_count": 40,
     "metadata": {},
     "output_type": "execute_result"
    }
   ],
   "source": [
    "len(list(drug_df['concept_name'].unique()))"
   ]
  },
  {
   "cell_type": "code",
   "execution_count": 89,
   "metadata": {},
   "outputs": [
    {
     "data": {
      "text/html": [
       "<div>\n",
       "<style scoped>\n",
       "    .dataframe tbody tr th:only-of-type {\n",
       "        vertical-align: middle;\n",
       "    }\n",
       "\n",
       "    .dataframe tbody tr th {\n",
       "        vertical-align: top;\n",
       "    }\n",
       "\n",
       "    .dataframe thead th {\n",
       "        text-align: right;\n",
       "    }\n",
       "</style>\n",
       "<table border=\"1\" class=\"dataframe\">\n",
       "  <thead>\n",
       "    <tr style=\"text-align: right;\">\n",
       "      <th></th>\n",
       "      <th>person_id</th>\n",
       "      <th>drug_concept_id</th>\n",
       "      <th>visit_occurrence_id</th>\n",
       "      <th>ancestor1</th>\n",
       "      <th>concept_name</th>\n",
       "    </tr>\n",
       "  </thead>\n",
       "  <tbody>\n",
       "    <tr>\n",
       "      <th>0</th>\n",
       "      <td>1401613</td>\n",
       "      <td>45776321</td>\n",
       "      <td>8.000000e+15</td>\n",
       "      <td>45776321.0</td>\n",
       "      <td>Tetracaine hydrochloride 5 MG/ML Ophthalmic So...</td>\n",
       "    </tr>\n",
       "    <tr>\n",
       "      <th>1</th>\n",
       "      <td>1404427</td>\n",
       "      <td>906116</td>\n",
       "      <td>8.000000e+15</td>\n",
       "      <td>21605065.0</td>\n",
       "      <td>tropicamide</td>\n",
       "    </tr>\n",
       "    <tr>\n",
       "      <th>2</th>\n",
       "      <td>1481998</td>\n",
       "      <td>19102200</td>\n",
       "      <td>2.400000e+16</td>\n",
       "      <td>19102200.0</td>\n",
       "      <td>Cyclosporine 0.5 MG/ML Ophthalmic Suspension [...</td>\n",
       "    </tr>\n",
       "    <tr>\n",
       "      <th>3</th>\n",
       "      <td>1404427</td>\n",
       "      <td>19102471</td>\n",
       "      <td>8.000000e+15</td>\n",
       "      <td>21603615.0</td>\n",
       "      <td>MOXIFLOXACIN</td>\n",
       "    </tr>\n",
       "    <tr>\n",
       "      <th>4</th>\n",
       "      <td>1434269</td>\n",
       "      <td>19011661</td>\n",
       "      <td>6.000000e+15</td>\n",
       "      <td>19011661.0</td>\n",
       "      <td>Polyvinyl Alcohol 0.014 ML/ML Ophthalmic Solution</td>\n",
       "    </tr>\n",
       "  </tbody>\n",
       "</table>\n",
       "</div>"
      ],
      "text/plain": [
       "   person_id  drug_concept_id  visit_occurrence_id   ancestor1  \\\n",
       "0    1401613         45776321         8.000000e+15  45776321.0   \n",
       "1    1404427           906116         8.000000e+15  21605065.0   \n",
       "2    1481998         19102200         2.400000e+16  19102200.0   \n",
       "3    1404427         19102471         8.000000e+15  21603615.0   \n",
       "4    1434269         19011661         6.000000e+15  19011661.0   \n",
       "\n",
       "                                        concept_name  \n",
       "0  Tetracaine hydrochloride 5 MG/ML Ophthalmic So...  \n",
       "1                                        tropicamide  \n",
       "2  Cyclosporine 0.5 MG/ML Ophthalmic Suspension [...  \n",
       "3                                       MOXIFLOXACIN  \n",
       "4  Polyvinyl Alcohol 0.014 ML/ML Ophthalmic Solution  "
      ]
     },
     "execution_count": 89,
     "metadata": {},
     "output_type": "execute_result"
    }
   ],
   "source": [
    "drug_df.head()"
   ]
  },
  {
   "cell_type": "code",
   "execution_count": 90,
   "metadata": {},
   "outputs": [],
   "source": [
    "drug_df.to_csv('drugM.csv',index=False)"
   ]
  }
 ],
 "metadata": {
  "kernelspec": {
   "display_name": "Python 3",
   "language": "python",
   "name": "python3"
  },
  "language_info": {
   "codemirror_mode": {
    "name": "ipython",
    "version": 3
   },
   "file_extension": ".py",
   "mimetype": "text/x-python",
   "name": "python",
   "nbconvert_exporter": "python",
   "pygments_lexer": "ipython3",
   "version": "3.7.1"
  },
  "toc": {
   "base_numbering": 1,
   "nav_menu": {},
   "number_sections": true,
   "sideBar": true,
   "skip_h1_title": false,
   "title_cell": "Table of Contents",
   "title_sidebar": "Contents",
   "toc_cell": false,
   "toc_position": {},
   "toc_section_display": true,
   "toc_window_display": false
  }
 },
 "nbformat": 4,
 "nbformat_minor": 4
}
